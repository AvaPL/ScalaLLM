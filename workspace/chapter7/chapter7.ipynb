{
 "cells": [
  {
   "cell_type": "code",
   "execution_count": 1,
   "id": "c0f6387d-40fc-4c57-9759-bd3e9ee1a1ed",
   "metadata": {},
   "outputs": [
    {
     "data": {
      "text/plain": [
       "\u001b[32mimport \u001b[39m\u001b[36m$file.$\u001b[39m"
      ]
     },
     "execution_count": 1,
     "metadata": {},
     "output_type": "execute_result"
    }
   ],
   "source": [
    "import $file.^.Magic"
   ]
  },
  {
   "cell_type": "code",
   "execution_count": 2,
   "id": "a38067cb-2f01-4202-a38c-58fb530939b3",
   "metadata": {},
   "outputs": [
    {
     "data": {
      "text/plain": [
       "\u001b[36mdatasetUrl\u001b[39m: \u001b[32mString\u001b[39m = \u001b[32m\"https://raw.githubusercontent.com/rasbt/LLMs-from-scratch/main/ch07/01_main-chapter-code/instruction-data.json\"\u001b[39m\n",
       "\u001b[36moutputDir\u001b[39m: \u001b[32mString\u001b[39m = \u001b[32m\"data/instruction-data-raw\"\u001b[39m"
      ]
     },
     "execution_count": 2,
     "metadata": {},
     "output_type": "execute_result"
    }
   ],
   "source": [
    "val datasetUrl = s\"https://raw.githubusercontent.com/rasbt/LLMs-from-scratch/main/ch07/01_main-chapter-code/instruction-data.json\"\n",
    "val outputDir = \"data/instruction-data-raw\""
   ]
  },
  {
   "cell_type": "code",
   "execution_count": 3,
   "id": "694d7bb4-f008-4cd3-ac3f-cf09faa520bc",
   "metadata": {},
   "outputs": [
    {
     "name": "stderr",
     "output_type": "stream",
     "text": [
      "  % Total    % Received % Xferd  Average Speed   Time    Time     Time  Current\n",
      "                                 Dload  Upload   Total   Spent    Left  Speed\n",
      "\n",
      "  0     0    0     0    0     0      0      0 --:--:-- --:--:-- --:--:--     0\n",
      "100  198k  100  198k    0     0   955k      0 --:--:-- --:--:-- --:--:--  960k\n"
     ]
    }
   ],
   "source": [
    "Magic.!(\"curl\", \"--create-dirs\", \"-O\", \"--output-dir\", outputDir, datasetUrl)"
   ]
  },
  {
   "cell_type": "code",
   "execution_count": 4,
   "id": "012a1151-8cc2-4438-8193-6ed503f3ad01",
   "metadata": {},
   "outputs": [
    {
     "data": {
      "text/plain": [
       "defined \u001b[32mclass\u001b[39m \u001b[36mInstructionDataRecord\u001b[39m"
      ]
     },
     "execution_count": 4,
     "metadata": {},
     "output_type": "execute_result"
    }
   ],
   "source": [
    "case class InstructionDataRecord(\n",
    "  instruction: String,\n",
    "  input: String,\n",
    "  output: String\n",
    ") {\n",
    "  lazy val alpacaFormat: String = {\n",
    "    val formattedInput = if (input.nonEmpty) s\"\\n### Input:\\n$input\\n\" else \"\"\n",
    "    s\"\"\"Below is an instruction that describes a task. Write a response that appropriately completes the request.\n",
    "       |\n",
    "       |### Instruction:\n",
    "       |$instruction\n",
    "       |$formattedInput\n",
    "       |### Response:\n",
    "       |$output\n",
    "       |\"\"\".stripMargin\n",
    "  }\n",
    "}"
   ]
  },
  {
   "cell_type": "code",
   "execution_count": 5,
   "id": "04399692-959b-4da6-8496-b28ca061eaa3",
   "metadata": {},
   "outputs": [
    {
     "name": "stdout",
     "output_type": "stream",
     "text": [
      "Instruction data records count: 1100\n"
     ]
    },
    {
     "data": {
      "text/plain": [
       "\u001b[32mimport \u001b[39m\u001b[36m$ivy.$\u001b[39m\n",
       "\u001b[32mimport \u001b[39m\u001b[36mscala.io.Source\u001b[39m\n",
       "\u001b[32mimport \u001b[39m\u001b[36mupickle.default.{read, Reader, macroR}\u001b[39m\n",
       "\u001b[36minstructionDataRecordReader\u001b[39m: \u001b[32mReader\u001b[39m[\u001b[32mInstructionDataRecord\u001b[39m] = ammonite.$sess.cmd5$Helper$$anon$1@1a03b4c5\n",
       "\u001b[36mdatasetRaw\u001b[39m: \u001b[32mString\u001b[39m = \u001b[32m\"\"\"[\n",
       "    {\n",
       "        \"instruction\": \"Evaluate the following phrase by transforming it into the spelling given.\",\n",
       "        \"input\": \"freind --> friend\",\n",
       "        \"output\": \"The spelling of the given phrase \\\"freind\\\" is incorrect, the correct spelling is \\\"friend\\\".\"\n",
       "    },\n",
       "    {\n",
       "        \"instruction\": \"Edit the following sentence for grammar.\",\n",
       "        \"input\": \"He go to the park every day.\",\n",
       "        \"output\": \"He goes to the park every day.\"\n",
       "    },\n",
       "    {\n",
       "        \"instruction\": \"Convert 45 kilometers to meters.\",\n",
       "        \"input\": \"\",\n",
       "        \"output\": \"45 kilometers is 45000 meters.\"\n",
       "    },\n",
       "    {\n",
       "        \"instruction\": \"Rewrite this sentence to start with 'Although': Despite the rain, they went for a walk.\",\n",
       "        \"input\": \"\",\n",
       "        \"output\": \"Although it was raining, they went for a walk.\"\n",
       "    },\n",
       "    {\n",
       "        \"instruction\": \"What are the first 10 square numbers?\",\n",
       "        \"input\": \"\",\n",
       "        \"output\": \"1, 4, 9, 16, 25, 36, 49, 64, 81, 100.\"\n",
       "    },\n",
       "    {\n",
       "        \"instruction\": \"Suggest a more formal synonym for \\\"happy.\\\"\",\n",
       "        \"input\": \"\",\n",
       "        \"output\": \"A more formal synonym for \\\"happy\\\" is \\\"content.\\\"\"\n",
       "    },\n",
       "    {\n",
       "        \"instruction\": \"Translate the following sentence into French.\",\n",
       "        \"input\": \"Where is the nearest restaurant?\",\n",
       "        \"output\": \"O\\u00f9 est le restaurant le plus proche?\"\n",
       "    },\n",
       "\u001b[39m...\n",
       "defined \u001b[32mtype\u001b[39m \u001b[36mDataset\u001b[39m\n",
       "\u001b[36minstructionDataRecords\u001b[39m: \u001b[32mDataset\u001b[39m = \u001b[33mVector\u001b[39m(\n",
       "  \u001b[33mInstructionDataRecord\u001b[39m(\n",
       "    instruction = \u001b[32m\"Evaluate the following phrase by transforming it into the spelling given.\"\u001b[39m,\n",
       "    input = \u001b[32m\"freind --> friend\"\u001b[39m,\n",
       "    output = \u001b[32m\"The spelling of the given phrase \\\"freind\\\" is incorrect, the correct spelling is \\\"friend\\\".\"\u001b[39m\n",
       "  ),\n",
       "  \u001b[33mInstructionDataRecord\u001b[39m(\n",
       "    instruction = \u001b[32m\"Edit the following sentence for grammar.\"\u001b[39m,\n",
       "    input = \u001b[32m\"He go to the park every day.\"\u001b[39m,\n",
       "    output = \u001b[32m\"He goes to the park every day.\"\u001b[39m\n",
       "  ),\n",
       "  \u001b[33mInstructionDataRecord\u001b[39m(\n",
       "    instruction = \u001b[32m\"Convert 45 kilometers to meters.\"\u001b[39m,\n",
       "    input = \u001b[32m\"\"\u001b[39m,\n",
       "    output = \u001b[32m\"45 kilometers is 45000 meters.\"\u001b[39m\n",
       "  ),\n",
       "  \u001b[33mInstructionDataRecord\u001b[39m(\n",
       "    instruction = \u001b[32m\"Rewrite this sentence to start with 'Although': Despite the rain, they went for a walk.\"\u001b[39m,\n",
       "    input = \u001b[32m\"\"\u001b[39m,\n",
       "    output = \u001b[32m\"Although it was raining, they went for a walk.\"\u001b[39m\n",
       "  ),\n",
       "  \u001b[33mInstructionDataRecord\u001b[39m(\n",
       "    instruction = \u001b[32m\"What are the first 10 square numbers?\"\u001b[39m,\n",
       "    input = \u001b[32m\"\"\u001b[39m,\n",
       "    output = \u001b[32m\"1, 4, 9, 16, 25, 36, 49, 64, 81, 100.\"\u001b[39m\n",
       "  ),\n",
       "  \u001b[33mInstructionDataRecord\u001b[39m(\n",
       "    instruction = \u001b[32m\"Suggest a more formal synonym for \\\"happy.\\\"\"\u001b[39m,\n",
       "    input = \u001b[32m\"\"\u001b[39m,\n",
       "    output = \u001b[32m\"A more formal synonym for \\\"happy\\\" is \\\"content.\\\"\"\u001b[39m\n",
       "  ),\n",
       "  \u001b[33mInstructionDataRecord\u001b[39m(\n",
       "    instruction = \u001b[32m\"Translate the following sentence into French.\"\u001b[39m,\n",
       "    input = \u001b[32m\"Where is the nearest restaurant?\"\u001b[39m,\n",
       "    output = \u001b[32m\"Où est le restaurant le plus proche?\"\u001b[39m\n",
       "  ),\n",
       "..."
      ]
     },
     "execution_count": 5,
     "metadata": {},
     "output_type": "execute_result"
    }
   ],
   "source": [
    "import $ivy.`com.lihaoyi::upickle:4.1.0`\n",
    "\n",
    "import scala.io.Source\n",
    "import upickle.default.{read, Reader, macroR}\n",
    "\n",
    "implicit val instructionDataRecordReader: Reader[InstructionDataRecord] = macroR\n",
    "\n",
    "val datasetRaw = Source.fromFile(s\"$outputDir/instruction-data.json\").mkString\n",
    "type Dataset = Vector[InstructionDataRecord]\n",
    "val instructionDataRecords = read[Dataset](datasetRaw)\n",
    "\n",
    "println(s\"Instruction data records count: ${instructionDataRecords.size}\")"
   ]
  },
  {
   "cell_type": "code",
   "execution_count": 8,
   "id": "d2f2f5ca-19c8-4d5a-9430-280f85524013",
   "metadata": {},
   "outputs": [
    {
     "name": "stdout",
     "output_type": "stream",
     "text": [
      "Below is an instruction that describes a task. Write a response that appropriately completes the request.\n",
      "\n",
      "### Instruction:\n",
      "Evaluate the following phrase by transforming it into the spelling given.\n",
      "\n",
      "### Input:\n",
      "freind --> friend\n",
      "\n",
      "### Response:\n",
      "The spelling of the given phrase \"freind\" is incorrect, the correct spelling is \"friend\".\n",
      "\n",
      "-----\n",
      "\n",
      "Below is an instruction that describes a task. Write a response that appropriately completes the request.\n",
      "\n",
      "### Instruction:\n",
      "Convert 45 kilometers to meters.\n",
      "\n",
      "### Response:\n",
      "45 kilometers is 45000 meters.\n",
      "\n"
     ]
    }
   ],
   "source": [
    "println(instructionDataRecords.find(_.input.nonEmpty).get.alpacaFormat)\n",
    "println(\"-----\\n\")\n",
    "println(instructionDataRecords.find(_.input.isEmpty).get.alpacaFormat)"
   ]
  },
  {
   "cell_type": "code",
   "execution_count": 10,
   "id": "ef595386-7c08-43f2-ab52-984556944781",
   "metadata": {},
   "outputs": [
    {
     "name": "stdout",
     "output_type": "stream",
     "text": [
      "Training set size: 935\n",
      "Validation set size: 55\n",
      "Test set size: 110\n"
     ]
    },
    {
     "data": {
      "text/plain": [
       "defined \u001b[32mtype\u001b[39m \u001b[36mTraining\u001b[39m\n",
       "defined \u001b[32mtype\u001b[39m \u001b[36mValidation\u001b[39m\n",
       "defined \u001b[32mtype\u001b[39m \u001b[36mTest\u001b[39m\n",
       "defined \u001b[32mfunction\u001b[39m \u001b[36msplit\u001b[39m\n",
       "\u001b[36mtraining\u001b[39m: \u001b[32mTraining\u001b[39m = \u001b[33mVector\u001b[39m(\n",
       "  \u001b[33mInstructionDataRecord\u001b[39m(\n",
       "    instruction = \u001b[32m\"Evaluate the following phrase by transforming it into the spelling given.\"\u001b[39m,\n",
       "    input = \u001b[32m\"freind --> friend\"\u001b[39m,\n",
       "    output = \u001b[32m\"The spelling of the given phrase \\\"freind\\\" is incorrect, the correct spelling is \\\"friend\\\".\"\u001b[39m\n",
       "  ),\n",
       "  \u001b[33mInstructionDataRecord\u001b[39m(\n",
       "    instruction = \u001b[32m\"Edit the following sentence for grammar.\"\u001b[39m,\n",
       "    input = \u001b[32m\"He go to the park every day.\"\u001b[39m,\n",
       "    output = \u001b[32m\"He goes to the park every day.\"\u001b[39m\n",
       "  ),\n",
       "  \u001b[33mInstructionDataRecord\u001b[39m(\n",
       "    instruction = \u001b[32m\"Convert 45 kilometers to meters.\"\u001b[39m,\n",
       "    input = \u001b[32m\"\"\u001b[39m,\n",
       "    output = \u001b[32m\"45 kilometers is 45000 meters.\"\u001b[39m\n",
       "  ),\n",
       "  \u001b[33mInstructionDataRecord\u001b[39m(\n",
       "    instruction = \u001b[32m\"Rewrite this sentence to start with 'Although': Despite the rain, they went for a walk.\"\u001b[39m,\n",
       "    input = \u001b[32m\"\"\u001b[39m,\n",
       "    output = \u001b[32m\"Although it was raining, they went for a walk.\"\u001b[39m\n",
       "  ),\n",
       "  \u001b[33mInstructionDataRecord\u001b[39m(\n",
       "    instruction = \u001b[32m\"What are the first 10 square numbers?\"\u001b[39m,\n",
       "    input = \u001b[32m\"\"\u001b[39m,\n",
       "    output = \u001b[32m\"1, 4, 9, 16, 25, 36, 49, 64, 81, 100.\"\u001b[39m\n",
       "  ),\n",
       "  \u001b[33mInstructionDataRecord\u001b[39m(\n",
       "    instruction = \u001b[32m\"Suggest a more formal synonym for \\\"happy.\\\"\"\u001b[39m,\n",
       "    input = \u001b[32m\"\"\u001b[39m,\n",
       "    output = \u001b[32m\"A more formal synonym for \\\"happy\\\" is \\\"content.\\\"\"\u001b[39m\n",
       "  ),\n",
       "  \u001b[33mInstructionDataRecord\u001b[39m(\n",
       "    instruction = \u001b[32m\"Translate the following sentence into French.\"\u001b[39m,\n",
       "    input = \u001b[32m\"Where is the nearest restaurant?\"\u001b[39m,\n",
       "    output = \u001b[32m\"Où est le restaurant le plus proche?\"\u001b[39m\n",
       "  ),\n",
       "...\n",
       "\u001b[36mvalidation\u001b[39m: \u001b[32mValidation\u001b[39m = \u001b[33mVector\u001b[39m(\n",
       "  \u001b[33mInstructionDataRecord\u001b[39m(\n",
       "    instruction = \u001b[32m\"Rewrite the sentence using a simile.\"\u001b[39m,\n",
       "    input = \u001b[32m\"The car is very fast.\"\u001b[39m,\n",
       "    output = \u001b[32m\"The car is as fast as lightning.\"\u001b[39m\n",
       "  ),\n",
       "  \u001b[33mInstructionDataRecord\u001b[39m(\n",
       "    instruction = \u001b[32m\"What type of cloud is typically associated with thunderstorms?\"\u001b[39m,\n",
       "    input = \u001b[32m\"\"\u001b[39m,\n",
       "    output = \u001b[32m\"The type of cloud typically associated with thunderstorms is cumulonimbus.\"\u001b[39m\n",
       "  ),\n",
       "  \u001b[33mInstructionDataRecord\u001b[39m(\n",
       "    instruction = \u001b[32m\"Name the author of 'Pride and Prejudice'.\"\u001b[39m,\n",
       "    input = \u001b[32m\"\"\u001b[39m,\n",
       "    output = \u001b[32m\"Jane Austen.\"\u001b[39m\n",
       "  ),\n",
       "  \u001b[33mInstructionDataRecord\u001b[39m(\n",
       "    instruction = \u001b[32m\"What is the periodic symbol for chlorine?\"\u001b[39m,\n",
       "    input = \u001b[32m\"\"\u001b[39m,\n",
       "    output = \u001b[32m\"The periodic symbol for chlorine is Cl.\"\u001b[39m\n",
       "  ),\n",
       "  \u001b[33mInstructionDataRecord\u001b[39m(\n",
       "    instruction = \u001b[32m\"Correct the punctuation in the sentence.\"\u001b[39m,\n",
       "    input = \u001b[32m\"Its time to go home.\"\u001b[39m,\n",
       "    output = \u001b[32m\"The corrected sentence should be: 'It's time to go home.'\"\u001b[39m\n",
       "  ),\n",
       "  \u001b[33mInstructionDataRecord\u001b[39m(\n",
       "    instruction = \u001b[32m\"Rewrite the sentence.\"\u001b[39m,\n",
       "    input = \u001b[32m\"The lecture was delivered in a clear manner.\"\u001b[39m,\n",
       "    output = \u001b[32m\"The lecture was delivered clearly.\"\u001b[39m\n",
       "  ),\n",
       "  \u001b[33mInstructionDataRecord\u001b[39m(\n",
       "    instruction = \u001b[32m\"Generate a humorous anecdote.\"\u001b[39m,\n",
       "    input = \u001b[32m\"\"\u001b[39m,\n",
       "    output = \u001b[32m\"Why was the math book sad? Because it had too many problems!\"\u001b[39m\n",
       "  ),\n",
       "  \u001b[33mInstructionDataRecord\u001b[39m(\n",
       "...\n",
       "\u001b[36mtest\u001b[39m: \u001b[32mTest\u001b[39m = \u001b[33mVector\u001b[39m(\n",
       "  \u001b[33mInstructionDataRecord\u001b[39m(\n",
       "    instruction = \u001b[32m\"Explain the primary function of the human heart.\"\u001b[39m,\n",
       "    input = \u001b[32m\"\"\u001b[39m,\n",
       "    output = \u001b[32m\"The primary function of the human heart is to pump blood throughout the body, delivering oxygen and nutrients to tissues and removing carbon dioxide and other wastes.\"\u001b[39m\n",
       "  ),\n",
       "  \u001b[33mInstructionDataRecord\u001b[39m(\n",
       "    instruction = \u001b[32m\"Reword the following sentence to the future tense.\"\u001b[39m,\n",
       "    input = \u001b[32m\"He is reading a novel inspired by his grandmother.\"\u001b[39m,\n",
       "    output = \u001b[32m\"He will be reading a novel inspired by his grandmother.\"\u001b[39m\n",
       "  ),\n",
       "  \u001b[33mInstructionDataRecord\u001b[39m(\n",
       "    instruction = \u001b[32m\"Convert the given sentence into active voice.\"\u001b[39m,\n",
       "    input = \u001b[32m\"The law was passed by the government.\"\u001b[39m,\n",
       "    output = \u001b[32m\"The government passed the law.\"\u001b[39m\n",
       "  ),\n",
       "  \u001b[33mInstructionDataRecord\u001b[39m(\n",
       "    instruction = \u001b[32m\"Create a sentence using the word 'inevitable'.\"\u001b[39m,\n",
       "    input = \u001b[32m\"\"\u001b[39m,\n",
       "    output = \u001b[32m\"The confrontation was inevitable given the circumstances.\"\u001b[39m\n",
       "  ),\n",
       "  \u001b[33mInstructionDataRecord\u001b[39m(\n",
       "    instruction = \u001b[32m\"Categorize the following sentence as either factual or opinion-based.\"\u001b[39m,\n",
       "    input = \u001b[32m\"Chocolate is the best dessert.\"\u001b[39m,\n",
       "    output = \u001b[32m\"Opinion-based.\"\u001b[39m\n",
       "  ),\n",
       "  \u001b[33mInstructionDataRecord\u001b[39m(\n",
       "    instruction = \u001b[32m\"What is an antonym of 'old'?\"\u001b[39m,\n",
       "    input = \u001b[32m\"\"\u001b[39m,\n",
       "    output = \u001b[32m\"young.\"\u001b[39m\n",
       "  ),\n",
       "  \u001b[33mInstructionDataRecord\u001b[39m(\n",
       "    instruction = \u001b[32m\"Provide a synonym for 'hardworking'.\"\u001b[39m,\n",
       "    input = \u001b[32m\"\"\u001b[39m,\n",
       "    output = \u001b[32m\"A synonym for 'hardworking' is 'diligent'.\"\u001b[39m\n",
       "  ),\n",
       "..."
      ]
     },
     "execution_count": 10,
     "metadata": {},
     "output_type": "execute_result"
    }
   ],
   "source": [
    "type Training = Dataset\n",
    "type Validation = Dataset\n",
    "type Test = Dataset\n",
    "\n",
    "def split(dataset: Vector[InstructionDataRecord], trainingFraction: Double, validationFraction: Double): (Training, Validation, Test) = {\n",
    "  val trainingSize = (dataset.size * trainingFraction).floor.toInt\n",
    "  val validationSize = (dataset.size * validationFraction).floor.toInt\n",
    "\n",
    "  val (training, remainingRecords) = dataset.splitAt(trainingSize)\n",
    "  val (validation, test) = remainingRecords.splitAt(validationSize)\n",
    "  (training, validation, test)\n",
    "}\n",
    "\n",
    "val (training, validation, test) = split(instructionDataRecords, trainingFraction = 0.85, validationFraction = 0.05) \n",
    "\n",
    "println(s\"Training set size: ${training.size}\")\n",
    "println(s\"Validation set size: ${validation.size}\")\n",
    "println(s\"Test set size: ${test.size}\")"
   ]
  },
  {
   "cell_type": "code",
   "execution_count": null,
   "id": "b0ae12d3-46af-46a9-a959-70da91c1fabd",
   "metadata": {},
   "outputs": [],
   "source": []
  }
 ],
 "metadata": {
  "kernelspec": {
   "display_name": "Scala 2.13.14",
   "language": "scala",
   "name": "scala"
  },
  "language_info": {
   "codemirror_mode": "text/x-scala",
   "file_extension": ".sc",
   "mimetype": "text/x-scala",
   "name": "scala",
   "nbconvert_exporter": "script",
   "version": "2.13.14"
  }
 },
 "nbformat": 4,
 "nbformat_minor": 5
}
