{
 "cells": [
  {
   "cell_type": "code",
   "execution_count": 1,
   "id": "b3103b80-fe48-47b7-9b2d-5c032d78e801",
   "metadata": {},
   "outputs": [
    {
     "name": "stdout",
     "output_type": "stream",
     "text": [
      "Hello from Scala version 2.13.14!\n"
     ]
    }
   ],
   "source": [
    "println(s\"Hello from Scala ${scala.util.Properties.versionString}!\")"
   ]
  },
  {
   "cell_type": "code",
   "execution_count": null,
   "id": "5fa94757-744a-455b-8b79-ba45eccc3561",
   "metadata": {},
   "outputs": [],
   "source": []
  }
 ],
 "metadata": {
  "kernelspec": {
   "display_name": "Scala 2.13.14",
   "language": "scala",
   "name": "scala"
  },
  "language_info": {
   "codemirror_mode": "text/x-scala",
   "file_extension": ".sc",
   "mimetype": "text/x-scala",
   "name": "scala",
   "nbconvert_exporter": "script",
   "version": "2.13.14"
  }
 },
 "nbformat": 4,
 "nbformat_minor": 5
}
