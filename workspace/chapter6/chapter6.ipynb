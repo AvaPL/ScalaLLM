{
 "cells": [
  {
   "cell_type": "code",
   "execution_count": 1,
   "id": "e73e9304-0b46-4a79-81f5-af4e977bf44c",
   "metadata": {},
   "outputs": [
    {
     "data": {
      "text/plain": [
       "\u001b[32mimport \u001b[39m\u001b[36m$file.$\u001b[39m"
      ]
     },
     "execution_count": 1,
     "metadata": {},
     "output_type": "execute_result"
    }
   ],
   "source": [
    "import $file.^.Magic"
   ]
  },
  {
   "cell_type": "code",
   "execution_count": 2,
   "id": "c87b69a7-66f9-475b-9cf1-b8e88f67ec29",
   "metadata": {},
   "outputs": [
    {
     "data": {
      "text/plain": [
       "\u001b[36mzipName\u001b[39m: \u001b[32mString\u001b[39m = \u001b[32m\"sms+spam+collection.zip\"\u001b[39m\n",
       "\u001b[36mdatasetUrl\u001b[39m: \u001b[32mString\u001b[39m = \u001b[32m\"https://archive.ics.uci.edu/static/public/228/sms+spam+collection.zip\"\u001b[39m\n",
       "\u001b[36moutputDir\u001b[39m: \u001b[32mString\u001b[39m = \u001b[32m\"data/sms-spam-raw\"\u001b[39m"
      ]
     },
     "execution_count": 2,
     "metadata": {},
     "output_type": "execute_result"
    }
   ],
   "source": [
    "val zipName = \"sms+spam+collection.zip\"\n",
    "val datasetUrl = s\"https://archive.ics.uci.edu/static/public/228/$zipName\"\n",
    "val outputDir = \"data/sms-spam-raw\""
   ]
  },
  {
   "cell_type": "code",
   "execution_count": 3,
   "id": "048673b9-9ae6-4d7c-8d60-60a1a383f667",
   "metadata": {},
   "outputs": [
    {
     "name": "stderr",
     "output_type": "stream",
     "text": [
      "  % Total    % Received % Xferd  Average Speed   Time    Time     Time  Current\n",
      "                                 Dload  Upload   Total   Spent    Left  Speed\n",
      "\n",
      "  0     0    0     0    0     0      0      0 --:--:-- --:--:-- --:--:--     0\n",
      "  0     0    0     0    0     0      0      0 --:--:-- --:--:-- --:--:--     0\n",
      "  0     0    0     0    0     0      0      0 --:--:--  0:00:01 --:--:--     0\n",
      "100  198k    0  198k    0     0  98299      0 --:--:--  0:00:02 --:--:-- 98315\n"
     ]
    }
   ],
   "source": [
    "Magic.!(\"curl\", \"--create-dirs\", \"-O\", \"--output-dir\", outputDir, datasetUrl)"
   ]
  },
  {
   "cell_type": "code",
   "execution_count": 4,
   "id": "9fdc00a5-7737-4164-90b6-7914a4332ca9",
   "metadata": {},
   "outputs": [
    {
     "name": "stdout",
     "output_type": "stream",
     "text": [
      "Archive:  data/sms-spam-raw/sms+spam+collection.zip\n",
      "  inflating: data/sms-spam-raw/SMSSpamCollection  \n",
      "  inflating: data/sms-spam-raw/readme  \n"
     ]
    }
   ],
   "source": [
    "Magic.!(\"unzip\", \"-o\", s\"$outputDir/$zipName\", \"-d\", outputDir)"
   ]
  },
  {
   "cell_type": "code",
   "execution_count": 5,
   "id": "28347282-363e-45e5-93c9-4385a6631506",
   "metadata": {},
   "outputs": [
    {
     "name": "stdout",
     "output_type": "stream",
     "text": [
      "Spam count: 747\n",
      "Not spam count: 4827\n"
     ]
    },
    {
     "data": {
      "text/plain": [
       "\u001b[32mimport \u001b[39m\u001b[36mscala.io.Source\u001b[39m\n",
       "\u001b[36mdatasetRaw\u001b[39m: \u001b[32mString\u001b[39m = \u001b[32m\"\"\"ham\tGo until jurong point, crazy.. Available only in bugis n great world la e buffet... Cine there got amore wat...\n",
       "ham\tOk lar... Joking wif u oni...\n",
       "spam\tFree entry in 2 a wkly comp to win FA Cup final tkts 21st May 2005. Text FA to 87121 to receive entry question(std txt rate)T&C's apply 08452810075over18's\n",
       "ham\tU dun say so early hor... U c already then say...\n",
       "ham\tNah I don't think he goes to usf, he lives around here though\n",
       "spam\tFreeMsg Hey there darling it's been 3 week's now and no word back! I'd like some fun you up for it still? Tb ok! XxX std chgs to send, £1.50 to rcv\n",
       "ham\tEven my brother is not like to speak with me. They treat me like aids patent.\n",
       "ham\tAs per your request 'Melle Melle (Oru Minnaminunginte Nurungu Vettam)' has been set as your callertune for all Callers. Press *9 to copy your friends Callertune\n",
       "spam\tWINNER!! As a valued network customer you have been selected to receivea £900 prize reward! To claim call 09061701461. Claim code KL341. Valid 12 hours only.\n",
       "spam\tHad your mobile 11 months or more? U R entitled to Update to the latest colour mobiles with camera for Free! Call The Mobile Update Co FREE on 08002986030\n",
       "ham\tI'm gonna be home soon and i don't want to talk about this stuff anymore tonight, k? I've cried enough today.\n",
       "spam\tSIX chances to win CASH! From 100 to 20,000 pounds txt> CSH11 and send to 87575. Cost 150p/day, 6days, 16+ TsandCs apply Reply HL 4 info\n",
       "spam\tURGENT! You have won a 1 week FREE membership in our £100,000 Prize Jackpot! Txt the word: CLAIM to No: 81010 T&C www.dbuk.net LCCLTD POBOX 4403LDNW1A7RW18\n",
       "ham\tI've been searching for the right words to thank you for this breather. I promise i wont take your help for granted and will fulfil my promise. You have been wonderful and a blessing at all times.\n",
       "ham\tI HAVE A DATE ON SUNDAY WITH WILL!!\n",
       "spam\tXXXMobileMovieClub: To use your credit, click the WAP link in the next txt message or click here>> http://wap. xxxmobilemovieclub.com?n=QJKGIGHJJGCBL\n",
       "ham\tOh k...i'm watching here:)\n",
       "ham\tEh u remember how 2 spell his name... Yes i did. He v naughty make until i v wet.\n",
       "ham\tFine if thats the way u feel. Thats the way its gota b\n",
       "spam\tEngland v Macedonia - dont miss the goals/team news. Txt ur national team to 87077 eg ENGLAND to 87077 Try:WALES, SCOTLAND 4txt/ú1.20 POBOXox36504W45WQ 16+\n",
       "ham\tIs that seriously how you spell his name?\n",
       "ham\tI‘m going to try for 2 months ha ha only joking\n",
       "\u001b[39m...\n",
       "defined \u001b[32mclass\u001b[39m \u001b[36mSmsSpamRecord\u001b[39m\n",
       "defined \u001b[32mtype\u001b[39m \u001b[36mDataset\u001b[39m\n",
       "\u001b[36msmsSpamRecords\u001b[39m: \u001b[32mDataset\u001b[39m = \u001b[33mVector\u001b[39m(\n",
       "  \u001b[33mSmsSpamRecord\u001b[39m(\n",
       "    text = \u001b[32m\"Go until jurong point, crazy.. Available only in bugis n great world la e buffet... Cine there got amore wat...\"\u001b[39m,\n",
       "    isSpam = \u001b[32mfalse\u001b[39m\n",
       "  ),\n",
       "  \u001b[33mSmsSpamRecord\u001b[39m(text = \u001b[32m\"Ok lar... Joking wif u oni...\"\u001b[39m, isSpam = \u001b[32mfalse\u001b[39m),\n",
       "  \u001b[33mSmsSpamRecord\u001b[39m(\n",
       "    text = \u001b[32m\"Free entry in 2 a wkly comp to win FA Cup final tkts 21st May 2005. Text FA to 87121 to receive entry question(std txt rate)T&C's apply 08452810075over18's\"\u001b[39m,\n",
       "    isSpam = \u001b[32mtrue\u001b[39m\n",
       "  ),\n",
       "  \u001b[33mSmsSpamRecord\u001b[39m(\n",
       "    text = \u001b[32m\"U dun say so early hor... U c already then say...\"\u001b[39m,\n",
       "    isSpam = \u001b[32mfalse\u001b[39m\n",
       "  ),\n",
       "  \u001b[33mSmsSpamRecord\u001b[39m(\n",
       "    text = \u001b[32m\"Nah I don't think he goes to usf, he lives around here though\"\u001b[39m,\n",
       "    isSpam = \u001b[32mfalse\u001b[39m\n",
       "  ),\n",
       "  \u001b[33mSmsSpamRecord\u001b[39m(\n",
       "    text = \u001b[32m\"FreeMsg Hey there darling it's been 3 week's now and no word back! I'd like some fun you up for it still? Tb ok! XxX std chgs to send, £1.50 to rcv\"\u001b[39m,\n",
       "    isSpam = \u001b[32mtrue\u001b[39m\n",
       "  ),\n",
       "  \u001b[33mSmsSpamRecord\u001b[39m(\n",
       "    text = \u001b[32m\"Even my brother is not like to speak with me. They treat me like aids patent.\"\u001b[39m,\n",
       "    isSpam = \u001b[32mfalse\u001b[39m\n",
       "  ),\n",
       "  \u001b[33mSmsSpamRecord\u001b[39m(\n",
       "    text = \u001b[32m\"As per your request 'Melle Melle (Oru Minnaminunginte Nurungu Vettam)' has been set as your callertune for all Callers. Press *9 to copy your friends Callertune\"\u001b[39m,\n",
       "    isSpam = \u001b[32mfalse\u001b[39m\n",
       "  ),\n",
       "  \u001b[33mSmsSpamRecord\u001b[39m(\n",
       "...\n",
       "\u001b[36mspamRecords\u001b[39m: \u001b[32mVector\u001b[39m[\u001b[32mSmsSpamRecord\u001b[39m] = \u001b[33mVector\u001b[39m(\n",
       "  \u001b[33mSmsSpamRecord\u001b[39m(\n",
       "    text = \u001b[32m\"Free entry in 2 a wkly comp to win FA Cup final tkts 21st May 2005. Text FA to 87121 to receive entry question(std txt rate)T&C's apply 08452810075over18's\"\u001b[39m,\n",
       "    isSpam = \u001b[32mtrue\u001b[39m\n",
       "  ),\n",
       "  \u001b[33mSmsSpamRecord\u001b[39m(\n",
       "    text = \u001b[32m\"FreeMsg Hey there darling it's been 3 week's now and no word back! I'd like some fun you up for it still? Tb ok! XxX std chgs to send, £1.50 to rcv\"\u001b[39m,\n",
       "    isSpam = \u001b[32mtrue\u001b[39m\n",
       "  ),\n",
       "  \u001b[33mSmsSpamRecord\u001b[39m(\n",
       "    text = \u001b[32m\"WINNER!! As a valued network customer you have been selected to receivea £900 prize reward! To claim call 09061701461. Claim code KL341. Valid 12 hours only.\"\u001b[39m,\n",
       "    isSpam = \u001b[32mtrue\u001b[39m\n",
       "  ),\n",
       "  \u001b[33mSmsSpamRecord\u001b[39m(\n",
       "    text = \u001b[32m\"Had your mobile 11 months or more? U R entitled to Update to the latest colour mobiles with camera for Free! Call The Mobile Update Co FREE on 08002986030\"\u001b[39m,\n",
       "    isSpam = \u001b[32mtrue\u001b[39m\n",
       "  ),\n",
       "  \u001b[33mSmsSpamRecord\u001b[39m(\n",
       "    text = \u001b[32m\"SIX chances to win CASH! From 100 to 20,000 pounds txt> CSH11 and send to 87575. Cost 150p/day, 6days, 16+ TsandCs apply Reply HL 4 info\"\u001b[39m,\n",
       "    isSpam = \u001b[32mtrue\u001b[39m\n",
       "  ),\n",
       "  \u001b[33mSmsSpamRecord\u001b[39m(\n",
       "    text = \u001b[32m\"URGENT! You have won a 1 week FREE membership in our £100,000 Prize Jackpot! Txt the word: CLAIM to No: 81010 T&C www.dbuk.net LCCLTD POBOX 4403LDNW1A7RW18\"\u001b[39m,\n",
       "    isSpam = \u001b[32mtrue\u001b[39m\n",
       "  ),\n",
       "  \u001b[33mSmsSpamRecord\u001b[39m(\n",
       "    text = \u001b[32m\"XXXMobileMovieClub: To use your credit, click the WAP link in the next txt message or click here>> http://wap. xxxmobilemovieclub.com?n=QJKGIGHJJGCB\u001b[39m...\n",
       "\u001b[36mnotSpamRecords\u001b[39m: \u001b[32mVector\u001b[39m[\u001b[32mSmsSpamRecord\u001b[39m] = \u001b[33mVector\u001b[39m(\n",
       "  \u001b[33mSmsSpamRecord\u001b[39m(\n",
       "    text = \u001b[32m\"Go until jurong point, crazy.. Available only in bugis n great world la e buffet... Cine there got amore wat...\"\u001b[39m,\n",
       "    isSpam = \u001b[32mfalse\u001b[39m\n",
       "  ),\n",
       "  \u001b[33mSmsSpamRecord\u001b[39m(text = \u001b[32m\"Ok lar... Joking wif u oni...\"\u001b[39m, isSpam = \u001b[32mfalse\u001b[39m),\n",
       "  \u001b[33mSmsSpamRecord\u001b[39m(\n",
       "    text = \u001b[32m\"U dun say so early hor... U c already then say...\"\u001b[39m,\n",
       "    isSpam = \u001b[32mfalse\u001b[39m\n",
       "  ),\n",
       "  \u001b[33mSmsSpamRecord\u001b[39m(\n",
       "    text = \u001b[32m\"Nah I don't think he goes to usf, he lives around here though\"\u001b[39m,\n",
       "    isSpam = \u001b[32mfalse\u001b[39m\n",
       "  ),\n",
       "  \u001b[33mSmsSpamRecord\u001b[39m(\n",
       "    text = \u001b[32m\"Even my brother is not like to speak with me. They treat me like aids patent.\"\u001b[39m,\n",
       "    isSpam = \u001b[32mfalse\u001b[39m\n",
       "  ),\n",
       "  \u001b[33mSmsSpamRecord\u001b[39m(\n",
       "    text = \u001b[32m\"As per your request 'Melle Melle (Oru Minnaminunginte Nurungu Vettam)' has been set as your callertune for all Callers. Press *9 to copy your friends Callertune\"\u001b[39m,\n",
       "    isSpam = \u001b[32mfalse\u001b[39m\n",
       "  ),\n",
       "  \u001b[33mSmsSpamRecord\u001b[39m(\n",
       "    text = \u001b[32m\"I'm gonna be home soon and i don't want to talk about this stuff anymore tonight, k? I've cried enough today.\"\u001b[39m,\n",
       "    isSpam = \u001b[32mfalse\u001b[39m\n",
       "  ),\n",
       "  \u001b[33mSmsSpamRecord\u001b[39m(\n",
       "    text = \u001b[32m\"I've been searching for the right words to thank you for this breather. I promise i wont take your help for granted and will fulfil my promise. You have been wonderful and a blessing at all times.\"\u001b[39m,\n",
       "    isSpam = \u001b[32mfalse\u001b[39m\n",
       "  ),\n",
       "  \u001b[33mSmsSpamRecord\u001b[39m(text = \u001b[32m\"I HAVE A DATE ON SUNDAY WITH WILL!!\"\u001b[39m, isSpam = \u001b[32mfalse\u001b[39m),\n",
       "  \u001b[33mSmsSpamRecord\u001b[39m(text = \u001b[32m\"Oh k...i'm watching here:)\"\u001b[39m, isSpam = \u001b[32mfalse\u001b[39m),\n",
       "..."
      ]
     },
     "execution_count": 5,
     "metadata": {},
     "output_type": "execute_result"
    }
   ],
   "source": [
    "import scala.io.Source\n",
    "\n",
    "val datasetRaw = Source.fromFile(s\"$outputDir/SMSSpamCollection\").mkString\n",
    "\n",
    "case class SmsSpamRecord(\n",
    "  text: String,\n",
    "  isSpam: Boolean\n",
    ")\n",
    "\n",
    "type Dataset = Vector[SmsSpamRecord]\n",
    "\n",
    "val smsSpamRecords: Dataset = datasetRaw.split(\"\\n\").map {\n",
    "  case s\"spam\\t$text\" => SmsSpamRecord(text, isSpam = true)\n",
    "  case s\"ham\\t$text\" => SmsSpamRecord(text, isSpam = false)\n",
    "}.toVector\n",
    "\n",
    "val (spamRecords, notSpamRecords) = smsSpamRecords.partition(_.isSpam)\n",
    "println(s\"Spam count: ${spamRecords.size}\")\n",
    "println(s\"Not spam count: ${notSpamRecords.size}\")"
   ]
  },
  {
   "cell_type": "code",
   "execution_count": 6,
   "id": "2e244291-9733-4821-a534-f6cd331a4ca2",
   "metadata": {},
   "outputs": [
    {
     "data": {
      "text/plain": [
       "\u001b[32mimport \u001b[39m\u001b[36mscala.collection.mutable\u001b[39m\n",
       "\u001b[32mimport \u001b[39m\u001b[36mscala.util.Random\u001b[39m\n",
       "\u001b[36mbalancedDataset\u001b[39m: \u001b[32mDataset\u001b[39m = \u001b[33mVector\u001b[39m(\n",
       "  \u001b[33mSmsSpamRecord\u001b[39m(\n",
       "    text = \u001b[32m\"Free entry in 2 a wkly comp to win FA Cup final tkts 21st May 2005. Text FA to 87121 to receive entry question(std txt rate)T&C's apply 08452810075over18's\"\u001b[39m,\n",
       "    isSpam = \u001b[32mtrue\u001b[39m\n",
       "  ),\n",
       "  \u001b[33mSmsSpamRecord\u001b[39m(\n",
       "    text = \u001b[32m\"FreeMsg Hey there darling it's been 3 week's now and no word back! I'd like some fun you up for it still? Tb ok! XxX std chgs to send, £1.50 to rcv\"\u001b[39m,\n",
       "    isSpam = \u001b[32mtrue\u001b[39m\n",
       "  ),\n",
       "  \u001b[33mSmsSpamRecord\u001b[39m(\n",
       "    text = \u001b[32m\"WINNER!! As a valued network customer you have been selected to receivea £900 prize reward! To claim call 09061701461. Claim code KL341. Valid 12 hours only.\"\u001b[39m,\n",
       "    isSpam = \u001b[32mtrue\u001b[39m\n",
       "  ),\n",
       "  \u001b[33mSmsSpamRecord\u001b[39m(\n",
       "    text = \u001b[32m\"Had your mobile 11 months or more? U R entitled to Update to the latest colour mobiles with camera for Free! Call The Mobile Update Co FREE on 08002986030\"\u001b[39m,\n",
       "    isSpam = \u001b[32mtrue\u001b[39m\n",
       "  ),\n",
       "  \u001b[33mSmsSpamRecord\u001b[39m(\n",
       "    text = \u001b[32m\"SIX chances to win CASH! From 100 to 20,000 pounds txt> CSH11 and send to 87575. Cost 150p/day, 6days, 16+ TsandCs apply Reply HL 4 info\"\u001b[39m,\n",
       "    isSpam = \u001b[32mtrue\u001b[39m\n",
       "  ),\n",
       "  \u001b[33mSmsSpamRecord\u001b[39m(\n",
       "    text = \u001b[32m\"URGENT! You have won a 1 week FREE membership in our £100,000 Prize Jackpot! Txt the word: CLAIM to No: 81010 T&C www.dbuk.net LCCLTD POBOX 4403LDNW1A7RW18\"\u001b[39m,\n",
       "    isSpam = \u001b[32mtrue\u001b[39m\n",
       "  ),\n",
       "  \u001b[33mSmsSpamRecord\u001b[39m(\n",
       "    text = \u001b[32m\"XXXMobileMovieClub: To use your credit, click the WAP link in the next txt message or click here>> http://wap. xxxmobilemovieclub.com?n=QJKGIGHJJGCB\u001b[39m..."
      ]
     },
     "execution_count": 6,
     "metadata": {},
     "output_type": "execute_result"
    }
   ],
   "source": [
    "import scala.collection.mutable\n",
    "import scala.util.Random\n",
    "\n",
    "val balancedDataset: Dataset = {\n",
    "\n",
    "  def sample(records: Vector[SmsSpamRecord], targetSize: Int): Vector[SmsSpamRecord] = {\n",
    "    val balancedDatasetSpam = mutable.Map[String, SmsSpamRecord]()\n",
    "    while (balancedDatasetSpam.size < targetSize) {\n",
    "      val randomRecord = records(Random.nextInt(records.size))\n",
    "      if (!balancedDatasetSpam.contains(randomRecord.text))\n",
    "        balancedDatasetSpam += randomRecord.text -> randomRecord\n",
    "    }\n",
    "    balancedDatasetSpam.values.toVector\n",
    "  }\n",
    "\n",
    "  if (spamRecords.size < notSpamRecords.size)\n",
    "    spamRecords ++ sample(notSpamRecords, targetSize = spamRecords.size)\n",
    "  else\n",
    "    notSpamRecords ++ sample(spamRecords, targetSize = notSpamRecords.size)\n",
    "}"
   ]
  },
  {
   "cell_type": "code",
   "execution_count": 7,
   "id": "cba96609-d9fa-440e-9556-b3d0f3b104d9",
   "metadata": {},
   "outputs": [
    {
     "data": {
      "text/plain": [
       "defined \u001b[32mtype\u001b[39m \u001b[36mTraining\u001b[39m\n",
       "defined \u001b[32mtype\u001b[39m \u001b[36mValidation\u001b[39m\n",
       "defined \u001b[32mtype\u001b[39m \u001b[36mTest\u001b[39m\n",
       "defined \u001b[32mfunction\u001b[39m \u001b[36mrandomSplit\u001b[39m\n",
       "\u001b[36mtraining\u001b[39m: \u001b[32mTraining\u001b[39m = \u001b[33mVector\u001b[39m(\n",
       "  \u001b[33mSmsSpamRecord\u001b[39m(\n",
       "    text = \u001b[32m\"pdate_Now - Double mins and 1000 txts on Orange tariffs. Latest Motorola, SonyEricsson & Nokia & Bluetooth FREE! Call MobileUpd8 on 08000839402 or call2optout/!YHL\"\u001b[39m,\n",
       "    isSpam = \u001b[32mtrue\u001b[39m\n",
       "  ),\n",
       "  \u001b[33mSmsSpamRecord\u001b[39m(\n",
       "    text = \u001b[32m\"500 New Mobiles from 2004, MUST GO! Txt: NOKIA to No: 89545 & collect yours today!From ONLY £1 www.4-tc.biz 2optout 087187262701.50gbp/mtmsg18\"\u001b[39m,\n",
       "    isSpam = \u001b[32mtrue\u001b[39m\n",
       "  ),\n",
       "  \u001b[33mSmsSpamRecord\u001b[39m(\n",
       "    text = \u001b[32m\"FreeMsg Hey U, i just got 1 of these video/pic fones, reply WILD to this txt & ill send U my pics, hurry up Im so bored at work xxx (18 150p/rcvd STOP2stop)\"\u001b[39m,\n",
       "    isSpam = \u001b[32mtrue\u001b[39m\n",
       "  ),\n",
       "  \u001b[33mSmsSpamRecord\u001b[39m(text = \u001b[32m\"Now press conference da:)\"\u001b[39m, isSpam = \u001b[32mfalse\u001b[39m),\n",
       "  \u001b[33mSmsSpamRecord\u001b[39m(\n",
       "    text = \u001b[32m\"You are guaranteed the latest Nokia Phone, a 40GB iPod MP3 player or a £500 prize! Txt word: COLLECT to No: 83355! IBHltd LdnW15H 150p/Mtmsgrcvd18+\"\u001b[39m,\n",
       "    isSpam = \u001b[32mtrue\u001b[39m\n",
       "  ),\n",
       "  \u001b[33mSmsSpamRecord\u001b[39m(\n",
       "    text = \u001b[32m\"We tried to contact you re our offer of New Video Phone 750 anytime any network mins HALF PRICE Rental camcorder call 08000930705 or reply for delivery Wed\"\u001b[39m,\n",
       "    isSpam = \u001b[32mtrue\u001b[39m\n",
       "  ),\n",
       "  \u001b[33mSmsSpamRecord\u001b[39m(\n",
       "    text = \u001b[32m\"URGENT We are trying to contact you Last weekends draw shows u have won a £1000 prize GUARANTEED Call 09064017295 Claim code K52 Valid 12hrs 150p pm\"\u001b[39m,\n",
       "    isSpam = \u001b[32mtrue\u001b[39m\n",
       "  ),\n",
       "  \u001b[33mSmsSpamRecord\u001b[39m(\n",
       "    text = \u001b[32m\"URGENT! We are trying to contact U. Todays draw shows that you have \u001b[39m...\n",
       "\u001b[36mvalidation\u001b[39m: \u001b[32mValidation\u001b[39m = \u001b[33mVector\u001b[39m(\n",
       "  \u001b[33mSmsSpamRecord\u001b[39m(\n",
       "    text = \u001b[32m\"U were outbid by simonwatson5120 on the Shinco DVD Plyr. 2 bid again, visit sms. ac/smsrewards 2 end bid notifications, reply END OUT\"\u001b[39m,\n",
       "    isSpam = \u001b[32mtrue\u001b[39m\n",
       "  ),\n",
       "  \u001b[33mSmsSpamRecord\u001b[39m(\n",
       "    text = \u001b[32m\"Got what it takes 2 take part in the WRC Rally in Oz? U can with Lucozade Energy! Text RALLY LE to 61200 (25p), see packs or lucozade.co.uk/wrc & itcould be u!\"\u001b[39m,\n",
       "    isSpam = \u001b[32mtrue\u001b[39m\n",
       "  ),\n",
       "  \u001b[33mSmsSpamRecord\u001b[39m(\n",
       "    text = \u001b[32m\"You are a winner you have been specially selected to receive £1000 cash or a £2000 award. Speak to a live operator to claim call 087147123779am-7pm. Cost 10p\"\u001b[39m,\n",
       "    isSpam = \u001b[32mtrue\u001b[39m\n",
       "  ),\n",
       "  \u001b[33mSmsSpamRecord\u001b[39m(\n",
       "    text = \u001b[32m\"Sex up ur mobile with a FREE sexy pic of Jordan! Just text BABE to 88600. Then every wk get a sexy celeb! PocketBabe.co.uk 4 more pics. 16 £3/wk 087016248\"\u001b[39m,\n",
       "    isSpam = \u001b[32mtrue\u001b[39m\n",
       "  ),\n",
       "  \u001b[33mSmsSpamRecord\u001b[39m(\n",
       "    text = \u001b[32m\"The world is running and i am still.maybe all are feeling the same,so be it.or i have to admit,i am mad.then where is the correction?or let me call this is life.and keep running with the world,may be u r also running.lets run.\"\u001b[39m,\n",
       "    isSpam = \u001b[32mfalse\u001b[39m\n",
       "  ),\n",
       "  \u001b[33mSmsSpamRecord\u001b[39m(\n",
       "    text = \u001b[32m\"WIN a year supply of CDs 4 a store of ur choice worth £500 & enter our £100 Weekly draw txt MUSIC to 87066 Ts&Cs www.Ldew.com.subs16+1win150ppmx3\"\u001b[39m,\n",
       "    isSpam = \u001b[32mtrue\u001b[39m\n",
       "  ),\n",
       "  \u001b[33mSmsSpamRecord\u001b[39m(text = \u001b[32m\"Wat's my dear doing? Sleeping ah?\"\u001b[39m, isSpam = \u001b[32mfalse\u001b[39m),\n",
       "  \u001b[33mSmsSpamRecord\u001b[39m(\n",
       "    text = \u001b[32m\"Must come later.. I normally bathe him in da afternoon mah..\"\u001b[39m,\n",
       "    isSpam = \u001b[32mfalse\u001b[39m\n",
       "...\n",
       "\u001b[36mtest\u001b[39m: \u001b[32mTest\u001b[39m = \u001b[33mVector\u001b[39m(\n",
       "  \u001b[33mSmsSpamRecord\u001b[39m(\n",
       "    text = \u001b[32m\"URGENT! Your Mobile No 07808726822 was awarded a £2,000 Bonus Caller Prize on 02/09/03! This is our 2nd attempt to contact YOU! Call 0871-872-9758 BOX95QU\"\u001b[39m,\n",
       "    isSpam = \u001b[32mtrue\u001b[39m\n",
       "  ),\n",
       "  \u001b[33mSmsSpamRecord\u001b[39m(text = \u001b[32m\"Pls call me da. What happen.\"\u001b[39m, isSpam = \u001b[32mfalse\u001b[39m),\n",
       "  \u001b[33mSmsSpamRecord\u001b[39m(\n",
       "    text = \u001b[32m\"I'm going for bath will msg you next  &lt;#&gt;  min..\"\u001b[39m,\n",
       "    isSpam = \u001b[32mfalse\u001b[39m\n",
       "  ),\n",
       "  \u001b[33mSmsSpamRecord\u001b[39m(\n",
       "    text = \u001b[32m\"BIG BROTHER ALERT! The computer has selected u for 10k cash or #150 voucher. Call 09064018838. NTT PO Box CRO1327 18+ BT Landline Cost 150ppm mobiles vary\"\u001b[39m,\n",
       "    isSpam = \u001b[32mtrue\u001b[39m\n",
       "  ),\n",
       "  \u001b[33mSmsSpamRecord\u001b[39m(text = \u001b[32m\"Are you staying in town ?\"\u001b[39m, isSpam = \u001b[32mfalse\u001b[39m),\n",
       "  \u001b[33mSmsSpamRecord\u001b[39m(\n",
       "    text = \u001b[32m\"Okies... I'll go yan jiu too... We can skip ard oso, go cine den go mrt one, blah blah blah... \"\u001b[39m,\n",
       "    isSpam = \u001b[32mfalse\u001b[39m\n",
       "  ),\n",
       "  \u001b[33mSmsSpamRecord\u001b[39m(\n",
       "    text = \u001b[32m\"Adult 18 Content Your video will be with you shortly\"\u001b[39m,\n",
       "    isSpam = \u001b[32mtrue\u001b[39m\n",
       "  ),\n",
       "  \u001b[33mSmsSpamRecord\u001b[39m(\n",
       "    text = \u001b[32m\"This is the 2nd time we have tried 2 contact u. U have won the £750 Pound prize. 2 claim is easy, call 087187272008 NOW1! Only 10p per minute. BT-national-rate.\"\u001b[39m,\n",
       "    isSpam = \u001b[32mtrue\u001b[39m\n",
       "  ),\n",
       "  \u001b[33mSmsSpamRecord\u001b[39m(\n",
       "    text = \u001b[32m\"Congrats! 1 year special cinema pass for 2 is yours. call 09061209465 now! C Suprman V, Matrix3, StarWars3, etc all 4 FREE! bx420-ip4-5we. 150pm. Dont miss out!\"\u001b[39m,\n",
       "    isSpam = \u001b[32mtrue\u001b[39m\n",
       "..."
      ]
     },
     "execution_count": 7,
     "metadata": {},
     "output_type": "execute_result"
    }
   ],
   "source": [
    "type Training = Dataset\n",
    "type Validation = Dataset\n",
    "type Test = Dataset\n",
    "\n",
    "def randomSplit(dataset: Vector[SmsSpamRecord], trainingFraction: Double, validationFraction: Double): (Training, Validation, Test) = {\n",
    "  val shuffledDataset = Random.shuffle(dataset)\n",
    "  val trainingSize = (shuffledDataset.size * trainingFraction).floor.toInt\n",
    "  val validationSize = (shuffledDataset.size * validationFraction).floor.toInt\n",
    "\n",
    "  val (training, remainingRecords) = shuffledDataset.splitAt(trainingSize)\n",
    "  val (validation, test) = remainingRecords.splitAt(validationSize)\n",
    "  (training, validation, test)\n",
    "}\n",
    "\n",
    "val (training, validation, test) = randomSplit(balancedDataset, trainingFraction = 0.7, validationFraction = 0.1) "
   ]
  },
  {
   "cell_type": "code",
   "execution_count": 8,
   "id": "8c33bb0b-ea20-4a02-8606-a28dab16f9b6",
   "metadata": {},
   "outputs": [
    {
     "data": {
      "text/plain": [
       "\u001b[32mimport \u001b[39m\u001b[36m$ivy.$\u001b[39m\n",
       "\u001b[32mimport \u001b[39m\u001b[36mscala.util.Using\u001b[39m\n",
       "\u001b[32mimport \u001b[39m\u001b[36mcom.github.tototoshi.csv.CSVWriter\u001b[39m\n",
       "\u001b[36mtextHeader\u001b[39m: \u001b[32mString\u001b[39m = \u001b[32m\"Text\"\u001b[39m\n",
       "\u001b[36mlabelHeader\u001b[39m: \u001b[32mString\u001b[39m = \u001b[32m\"Label\"\u001b[39m\n",
       "defined \u001b[32mfunction\u001b[39m \u001b[36mwriteToCsv\u001b[39m\n",
       "\u001b[36mtrainingCsv\u001b[39m: \u001b[32mString\u001b[39m = \u001b[32m\"data/training.csv\"\u001b[39m\n",
       "\u001b[36mvalidationCsv\u001b[39m: \u001b[32mString\u001b[39m = \u001b[32m\"data/validation.csv\"\u001b[39m\n",
       "\u001b[36mtestCsv\u001b[39m: \u001b[32mString\u001b[39m = \u001b[32m\"data/test.csv\"\u001b[39m"
      ]
     },
     "execution_count": 8,
     "metadata": {},
     "output_type": "execute_result"
    }
   ],
   "source": [
    "import $ivy.`com.github.tototoshi::scala-csv:2.0.0`\n",
    "\n",
    "import scala.util.Using\n",
    "import com.github.tototoshi.csv.CSVWriter\n",
    "\n",
    "val textHeader = \"Text\"\n",
    "val labelHeader = \"Label\"\n",
    "\n",
    "def writeToCsv(path: String, dataset: Dataset): Unit = {\n",
    "  val headers = Vector(textHeader, labelHeader)\n",
    "\n",
    "  Using.resource(CSVWriter.open(path)) { writer =>\n",
    "    val rows = dataset.map {\n",
    "      case SmsSpamRecord(text, isSpam) => Vector(text, if (isSpam) \"1\" else \"0\")\n",
    "    }\n",
    "    writer.writeAll(headers +: rows)\n",
    "  }\n",
    "}\n",
    "\n",
    "val trainingCsv = \"data/training.csv\"\n",
    "writeToCsv(trainingCsv, training)\n",
    "val validationCsv = \"data/validation.csv\"\n",
    "writeToCsv(validationCsv, validation)\n",
    "val testCsv = \"data/test.csv\"\n",
    "writeToCsv(testCsv, test)"
   ]
  },
  {
   "cell_type": "code",
   "execution_count": 9,
   "id": "c2ba9697-4121-41ec-ad86-4ca468d8caad",
   "metadata": {},
   "outputs": [
    {
     "name": "stdout",
     "output_type": "stream",
     "text": [
      "Requirement already satisfied: tiktoken==0.7.* in /usr/local/lib/python3.12/site-packages (0.7.0)\n",
      "Requirement already satisfied: regex>=2022.1.18 in /usr/local/lib/python3.12/site-packages (from tiktoken==0.7.*) (2024.11.6)\n",
      "Requirement already satisfied: requests>=2.26.0 in /usr/local/lib/python3.12/site-packages (from tiktoken==0.7.*) (2.32.3)\n",
      "Requirement already satisfied: charset-normalizer<4,>=2 in /usr/local/lib/python3.12/site-packages (from requests>=2.26.0->tiktoken==0.7.*) (3.4.1)\n",
      "Requirement already satisfied: idna<4,>=2.5 in /usr/local/lib/python3.12/site-packages (from requests>=2.26.0->tiktoken==0.7.*) (3.10)\n",
      "Requirement already satisfied: urllib3<3,>=1.21.1 in /usr/local/lib/python3.12/site-packages (from requests>=2.26.0->tiktoken==0.7.*) (2.3.0)\n",
      "Requirement already satisfied: certifi>=2017.4.17 in /usr/local/lib/python3.12/site-packages (from requests>=2.26.0->tiktoken==0.7.*) (2025.1.31)\n"
     ]
    },
    {
     "name": "stderr",
     "output_type": "stream",
     "text": [
      "WARNING: Running pip as the 'root' user can result in broken permissions and conflicting behaviour with the system package manager, possibly rendering your system unusable.It is recommended to use a virtual environment instead: https://pip.pypa.io/warnings/venv. Use the --root-user-action option if you know what you are doing and want to suppress this warning.\n",
      "\n",
      "[notice] A new release of pip is available: 24.3.1 -> 25.0.1\n",
      "[notice] To update, run: pip install --upgrade pip\n"
     ]
    }
   ],
   "source": [
    "Magic.!(\"pip\", \"install\", \"tiktoken==0.7.*\")"
   ]
  },
  {
   "cell_type": "code",
   "execution_count": 10,
   "id": "5ac863ee-648b-40f4-bb1d-275a7b2657bf",
   "metadata": {},
   "outputs": [
    {
     "name": "stdout",
     "output_type": "stream",
     "text": [
      "[50256]\n"
     ]
    },
    {
     "data": {
      "text/plain": [
       "\u001b[32mimport \u001b[39m\u001b[36m$ivy.$\u001b[39m\n",
       "\u001b[32mimport \u001b[39m\u001b[36mme.shadaj.scalapy.py\u001b[39m\n",
       "\u001b[32mimport \u001b[39m\u001b[36mpy.SeqConverters\u001b[39m\n",
       "\u001b[36mtiktoken\u001b[39m: \u001b[32mpy\u001b[39m.\u001b[32mModule\u001b[39m = <module 'tiktoken' from '/usr/local/lib/python3.12/site-packages/tiktoken/__init__.py'>\n",
       "\u001b[36mtokenizer\u001b[39m: \u001b[32mpy\u001b[39m.\u001b[32mDynamic\u001b[39m = <Encoding 'gpt2'>\n",
       "\u001b[36mendOfTextToken\u001b[39m: \u001b[32mString\u001b[39m = \u001b[32m\"<|endoftext|>\"\u001b[39m\n",
       "\u001b[36mencodedEndOfTextToken\u001b[39m: \u001b[32mpy\u001b[39m.\u001b[32mDynamic\u001b[39m = [50256]"
      ]
     },
     "execution_count": 10,
     "metadata": {},
     "output_type": "execute_result"
    }
   ],
   "source": [
    "import $ivy.`dev.scalapy::scalapy-core:0.5.3`\n",
    "\n",
    "import me.shadaj.scalapy.py\n",
    "import py.SeqConverters\n",
    "\n",
    "val tiktoken = py.module(\"tiktoken\")\n",
    "\n",
    "val tokenizer = tiktoken.get_encoding(\"gpt2\")\n",
    "val endOfTextToken = \"<|endoftext|>\"\n",
    "val encodedEndOfTextToken = tokenizer.encode(endOfTextToken, allowed_special = py.Dynamic.global.set(Seq(endOfTextToken).toPythonProxy))\n",
    "println(encodedEndOfTextToken)"
   ]
  },
  {
   "cell_type": "code",
   "execution_count": 11,
   "id": "67d18733-4b85-41ed-8717-07f261b5ab86",
   "metadata": {},
   "outputs": [
    {
     "name": "stdout",
     "output_type": "stream",
     "text": [
      "Requirement already satisfied: torch==2.4.* in /usr/local/lib/python3.12/site-packages (2.4.1)\n",
      "Requirement already satisfied: filelock in /usr/local/lib/python3.12/site-packages (from torch==2.4.*) (3.17.0)\n",
      "Requirement already satisfied: typing-extensions>=4.8.0 in /usr/local/lib/python3.12/site-packages (from torch==2.4.*) (4.12.2)\n",
      "Requirement already satisfied: sympy in /usr/local/lib/python3.12/site-packages (from torch==2.4.*) (1.13.3)\n",
      "Requirement already satisfied: networkx in /usr/local/lib/python3.12/site-packages (from torch==2.4.*) (3.4.2)\n",
      "Requirement already satisfied: jinja2 in /usr/local/lib/python3.12/site-packages (from torch==2.4.*) (3.1.5)\n",
      "Requirement already satisfied: fsspec in /usr/local/lib/python3.12/site-packages (from torch==2.4.*) (2025.2.0)\n",
      "Requirement already satisfied: setuptools in /usr/local/lib/python3.12/site-packages (from torch==2.4.*) (75.8.0)\n",
      "Requirement already satisfied: MarkupSafe>=2.0 in /usr/local/lib/python3.12/site-packages (from jinja2->torch==2.4.*) (3.0.2)\n",
      "Requirement already satisfied: mpmath<1.4,>=1.1.0 in /usr/local/lib/python3.12/site-packages (from sympy->torch==2.4.*) (1.3.0)\n"
     ]
    },
    {
     "name": "stderr",
     "output_type": "stream",
     "text": [
      "WARNING: Running pip as the 'root' user can result in broken permissions and conflicting behaviour with the system package manager, possibly rendering your system unusable.It is recommended to use a virtual environment instead: https://pip.pypa.io/warnings/venv. Use the --root-user-action option if you know what you are doing and want to suppress this warning.\n",
      "\n",
      "[notice] A new release of pip is available: 24.3.1 -> 25.0.1\n",
      "[notice] To update, run: pip install --upgrade pip\n"
     ]
    }
   ],
   "source": [
    "Magic.!(\"pip\", \"install\", \"torch==2.4.*\")"
   ]
  },
  {
   "cell_type": "code",
   "execution_count": 12,
   "id": "910a813f-f2c6-4410-9c73-8687f41294ae",
   "metadata": {},
   "outputs": [
    {
     "data": {
      "text/plain": [
       "\u001b[32mimport \u001b[39m\u001b[36mcom.github.tototoshi.csv.CSVReader\u001b[39m\n",
       "\u001b[32mimport \u001b[39m\u001b[36mpy.PyQuote\u001b[39m\n",
       "\u001b[36mtorch\u001b[39m: \u001b[32mpy\u001b[39m.\u001b[32mModule\u001b[39m = <module 'torch' from '/usr/local/lib/python3.12/site-packages/torch/__init__.py'>\n",
       "defined \u001b[32mtype\u001b[39m \u001b[36mTokenizer\u001b[39m\n",
       "defined \u001b[32mfunction\u001b[39m \u001b[36mSpamDataset\u001b[39m"
      ]
     },
     "execution_count": 12,
     "metadata": {},
     "output_type": "execute_result"
    }
   ],
   "source": [
    "import com.github.tototoshi.csv.CSVReader\n",
    "import py.PyQuote\n",
    "\n",
    "val torch = py.module(\"torch\")\n",
    "\n",
    "type Tokenizer = py.Dynamic\n",
    "\n",
    "// Workaround to define a class that inherits from a Python class\n",
    "py.exec {\n",
    "  s\"\"\"from torch.utils.data import Dataset\n",
    "     |\n",
    "     |class SpamDataset(Dataset):\n",
    "     |  def __init__(self, init):\n",
    "     |    init(self)\n",
    "     |\n",
    "     |  def __getitem__(self, index):\n",
    "     |    return self.getItem(index)\n",
    "     |  \n",
    "     |  def __len__(self):\n",
    "     |    return self.len()\n",
    "     |\"\"\".stripMargin\n",
    "}\n",
    "def SpamDataset(\n",
    "  csvPath: String,\n",
    "  tokenizer: Tokenizer,\n",
    "  maxLength: Option[Int] = None,\n",
    "  paddingTokenId: Int = 50_256\n",
    "): py.Dynamic = {\n",
    "  val smsSpamRecords = Using.resource(CSVReader.open(csvPath)) { csvReader =>\n",
    "    csvReader.iteratorWithHeaders.map { row =>\n",
    "      SmsSpamRecord(text = row(textHeader), isSpam = row(labelHeader).toInt > 0)\n",
    "    }.toVector\n",
    "  }\n",
    "  val encodedTexts = {\n",
    "    val encodedTexts = smsSpamRecords.map(_.text).map(tokenizer.encode(_).as[Seq[Int]].toVector)\n",
    "    val padToLength = maxLength.getOrElse(encodedTexts.map(_.length).max)\n",
    "    encodedTexts.map(_.padTo(padToLength, paddingTokenId))\n",
    "  }\n",
    "    \n",
    "  val init = (self: py.Dynamic) => {\n",
    "    self.maxLength = encodedTexts.head.length\n",
    "    \n",
    "    val getItem = (index: Int) => {\n",
    "      val textTensor = torch.tensor(encodedTexts(index).toPythonProxy, dtype = torch.long)\n",
    "      val labelTensor = torch.tensor(if (smsSpamRecords(index).isSpam) 1 else 0, dtype = torch.long)\n",
    "      (textTensor, labelTensor)\n",
    "    }\n",
    "    self.getItem = getItem\n",
    "\n",
    "    val len = () => smsSpamRecords.size\n",
    "    self.len = len\n",
    "  }\n",
    "  py.Dynamic.global.SpamDataset(init)\n",
    "}"
   ]
  },
  {
   "cell_type": "code",
   "execution_count": 13,
   "id": "3db6947e-949f-465d-90f3-2588cd796fbb",
   "metadata": {},
   "outputs": [
    {
     "data": {
      "text/plain": [
       "\u001b[36mtrainingDataset\u001b[39m: \u001b[32mpy\u001b[39m.\u001b[32mDynamic\u001b[39m = <SpamDataset object at 0xffff62f24a70>\n",
       "\u001b[36mvalidationDataset\u001b[39m: \u001b[32mpy\u001b[39m.\u001b[32mDynamic\u001b[39m = <SpamDataset object at 0xffff62f24ef0>\n",
       "\u001b[36mtestDataset\u001b[39m: \u001b[32mpy\u001b[39m.\u001b[32mDynamic\u001b[39m = <SpamDataset object at 0xffff62f253a0>"
      ]
     },
     "execution_count": 13,
     "metadata": {},
     "output_type": "execute_result"
    }
   ],
   "source": [
    "val trainingDataset = SpamDataset(trainingCsv, tokenizer)\n",
    "val validationDataset = SpamDataset(validationCsv, tokenizer, maxLength = Some(trainingDataset.maxLength.as[Int]))\n",
    "val testDataset = SpamDataset(testCsv, tokenizer, maxLength = Some(trainingDataset.maxLength.as[Int]))"
   ]
  },
  {
   "cell_type": "code",
   "execution_count": 14,
   "id": "9939eb92-a199-4019-91c4-67833cc92e20",
   "metadata": {},
   "outputs": [
    {
     "name": "stdout",
     "output_type": "stream",
     "text": [
      "130 training batches\n",
      "19 validation batches\n",
      "38 test batches\n"
     ]
    },
    {
     "data": {
      "text/plain": [
       "\u001b[36mbatchSize\u001b[39m: \u001b[32mInt\u001b[39m = \u001b[32m8\u001b[39m\n",
       "\u001b[36mres14_1\u001b[39m: \u001b[32mpy\u001b[39m.\u001b[32mDynamic\u001b[39m = <torch._C.Generator object at 0xffff7d328790>\n",
       "\u001b[36mtrainingLoader\u001b[39m: \u001b[32mpy\u001b[39m.\u001b[32mDynamic\u001b[39m = <torch.utils.data.dataloader.DataLoader object at 0xffff63311790>\n",
       "\u001b[36mvalidationLoader\u001b[39m: \u001b[32mpy\u001b[39m.\u001b[32mDynamic\u001b[39m = <torch.utils.data.dataloader.DataLoader object at 0xffff7020ccb0>\n",
       "\u001b[36mtestLoader\u001b[39m: \u001b[32mpy\u001b[39m.\u001b[32mDynamic\u001b[39m = <torch.utils.data.dataloader.DataLoader object at 0xffff7035c1d0>"
      ]
     },
     "execution_count": 14,
     "metadata": {},
     "output_type": "execute_result"
    }
   ],
   "source": [
    "val batchSize = 8\n",
    "torch.manual_seed(123)\n",
    "\n",
    "val trainingLoader = torch.utils.data.DataLoader(\n",
    "  dataset = trainingDataset, \n",
    "  batch_size = batchSize,\n",
    "  shuffle = true,\n",
    "  num_workers = 0,\n",
    "  drop_last = true\n",
    ")\n",
    "val validationLoader = torch.utils.data.DataLoader(\n",
    "  dataset = validationDataset, \n",
    "  batch_size = batchSize,\n",
    "  num_workers = 0,\n",
    "  drop_last = false\n",
    ")\n",
    "val testLoader = torch.utils.data.DataLoader(\n",
    "  dataset = testDataset, \n",
    "  batch_size = batchSize,\n",
    "  num_workers = 0,\n",
    "  drop_last = false\n",
    ")\n",
    "\n",
    "println(s\"${py.Dynamic.global.len(trainingLoader)} training batches\")\n",
    "println(s\"${py.Dynamic.global.len(validationLoader)} validation batches\")\n",
    "println(s\"${py.Dynamic.global.len(testLoader)} test batches\")"
   ]
  },
  {
   "cell_type": "code",
   "execution_count": 15,
   "id": "26d34644-7ac9-4277-9ae4-b6aaa38bc6e6",
   "metadata": {},
   "outputs": [
    {
     "data": {
      "text/plain": [
       "defined \u001b[32mclass\u001b[39m \u001b[36mGPTConfig\u001b[39m"
      ]
     },
     "execution_count": 15,
     "metadata": {},
     "output_type": "execute_result"
    }
   ],
   "source": [
    "case class GPTConfig(\n",
    "  vocabularySize: Int,\n",
    "  contextLength: Int,\n",
    "  embeddingDimension: Int,\n",
    "  attentionHeadsCount: Int,\n",
    "  layersCount: Int,\n",
    "  dropoutRate: Double,\n",
    "  queryKeyValueBias: Boolean\n",
    ")"
   ]
  },
  {
   "cell_type": "code",
   "execution_count": 16,
   "id": "e2dfd43d-f02c-4c1a-8eb3-817c92b539a0",
   "metadata": {},
   "outputs": [
    {
     "data": {
      "text/plain": [
       "defined \u001b[32mtype\u001b[39m \u001b[36mTorchTensor\u001b[39m\n",
       "defined \u001b[32mfunction\u001b[39m \u001b[36mMultiHeadAttention\u001b[39m"
      ]
     },
     "execution_count": 16,
     "metadata": {},
     "output_type": "execute_result"
    }
   ],
   "source": [
    "type TorchTensor = py.Dynamic\n",
    "\n",
    "// Workaround to define a class that inherits from a Python class\n",
    "py.exec {\n",
    "  s\"\"\"import torch.nn as nn\n",
    "     |\n",
    "     |class MultiHeadAttention(nn.Module):\n",
    "     |  def __init__(self, init):\n",
    "     |    super().__init__()\n",
    "     |    init(self)\n",
    "     |\"\"\".stripMargin\n",
    "}\n",
    "def MultiHeadAttention(\n",
    "  inputDimension: Int,\n",
    "  outputDimension: Int,\n",
    "  dropoutProbability: Double,\n",
    "  contextLength: Int,\n",
    "  headsCount: Int,\n",
    "  queryKeyValueBias: Boolean\n",
    "): py.Dynamic = {\n",
    "  assert(outputDimension % headsCount == 0, \"Output dimension must be a multiple of heads count\")\n",
    "  val headDimension = outputDimension / headsCount\n",
    "    \n",
    "  val init = (self: py.Dynamic) => {\n",
    "    self.weightsQuery = torch.nn.Linear(inputDimension, outputDimension, bias = queryKeyValueBias)\n",
    "    self.weightsKey = torch.nn.Linear(inputDimension, outputDimension, bias = queryKeyValueBias)\n",
    "    self.weightsValue = torch.nn.Linear(inputDimension, outputDimension, bias = queryKeyValueBias)\n",
    "    self.outputProjection = torch.nn.Linear(outputDimension, outputDimension)\n",
    "    self.dropout = torch.nn.Dropout(dropoutProbability)\n",
    "    self.register_buffer(\"mask\", torch.triu(torch.ones(contextLength, contextLength), diagonal = 1))\n",
    "      \n",
    "    val forward = (batchedInputs: TorchTensor) => {\n",
    "      val (batchesCount, tokensCount, tokenDimension) = batchedInputs.shape.as[(Int, Int, Int)]\n",
    "      val queries = self.weightsQuery(batchedInputs)\n",
    "        .view(batchesCount, tokensCount, headsCount, headDimension)\n",
    "        .transpose(1, 2)\n",
    "      val keys = self.weightsKey(batchedInputs)\n",
    "        .view(batchesCount, tokensCount, headsCount, headDimension)\n",
    "        .transpose(1, 2)\n",
    "      val values = self.weightsValue(batchedInputs)\n",
    "        .view(batchesCount, tokensCount, headsCount, headDimension)\n",
    "        .transpose(1, 2)\n",
    "      val attentionScores = py\"$queries @ $keys.transpose(2, 3)\"\n",
    "      attentionScores.masked_fill_(py\"${self.mask}.bool()[:$tokensCount, :$tokensCount]\", -torch.inf)\n",
    "      val attentionWeights = self.dropout(torch.softmax(py\"$attentionScores / $headDimension**0.5\", dim = -1))\n",
    "      self.outputProjection(\n",
    "        py\"$attentionWeights @ $values\"\n",
    "          .transpose(1, 2)\n",
    "          .reshape(batchesCount, tokensCount, outputDimension)\n",
    "      )\n",
    "    }\n",
    "    self.forward = forward\n",
    "  }\n",
    "  py.Dynamic.global.MultiHeadAttention(init)\n",
    "}"
   ]
  },
  {
   "cell_type": "code",
   "execution_count": 17,
   "id": "7799670d-e179-4188-b8c9-d9393033d141",
   "metadata": {},
   "outputs": [
    {
     "data": {
      "text/plain": [
       "defined \u001b[32mfunction\u001b[39m \u001b[36mGELU\u001b[39m"
      ]
     },
     "execution_count": 17,
     "metadata": {},
     "output_type": "execute_result"
    }
   ],
   "source": [
    "// Workaround to define a class that inherits from a Python class\n",
    "// Because it mostly uses Python operators, it's implemented fully in Python\n",
    "py.exec {\n",
    "  s\"\"\"import torch\n",
    "     |import torch.nn as nn\n",
    "     |\n",
    "     |class GELU(nn.Module):\n",
    "     |  def __init__(self):\n",
    "     |    super().__init__()\n",
    "     |\n",
    "     |  def forward(self, inputs):\n",
    "     |    return 0.5 * inputs * (\n",
    "     |      1 + torch.tanh(\n",
    "     |        torch.sqrt(torch.tensor(2.0 / torch.pi)) * (inputs + 0.044715 * torch.pow(inputs, 3))\n",
    "     |      )\n",
    "     |    )\n",
    "     |\"\"\".stripMargin\n",
    "}\n",
    "def GELU() = py.Dynamic.global.GELU()"
   ]
  },
  {
   "cell_type": "code",
   "execution_count": 18,
   "id": "6cb61e38-8be9-4729-9e86-6c90eb8de235",
   "metadata": {},
   "outputs": [
    {
     "data": {
      "text/plain": [
       "defined \u001b[32mfunction\u001b[39m \u001b[36mFeedForward\u001b[39m"
      ]
     },
     "execution_count": 18,
     "metadata": {},
     "output_type": "execute_result"
    }
   ],
   "source": [
    "// Workaround to define a class that inherits from a Python class\n",
    "py.exec {\n",
    "  s\"\"\"import torch.nn as nn\n",
    "     |\n",
    "     |class FeedForward(nn.Module):\n",
    "     |  def __init__(self, init):\n",
    "     |    super().__init__()\n",
    "     |    init(self)\n",
    "     |\"\"\".stripMargin\n",
    "}\n",
    "def FeedForward(\n",
    "  embeddingDimension: Int\n",
    "): py.Dynamic = {\n",
    "  val init = (self: py.Dynamic) => {\n",
    "    self.layers = torch.nn.Sequential(\n",
    "      torch.nn.Linear(embeddingDimension, 4 * embeddingDimension),\n",
    "      GELU(),\n",
    "      torch.nn.Linear(4 * embeddingDimension, embeddingDimension)\n",
    "    )\n",
    "      \n",
    "    val forward = (inputs: TorchTensor) => self.layers(inputs)\n",
    "    self.forward = forward\n",
    "  }\n",
    "  py.Dynamic.global.FeedForward(init)\n",
    "}"
   ]
  },
  {
   "cell_type": "code",
   "execution_count": 19,
   "id": "d3a80736-2a99-4310-b59f-20edb7bbac85",
   "metadata": {},
   "outputs": [
    {
     "data": {
      "text/plain": [
       "defined \u001b[32mfunction\u001b[39m \u001b[36mNormalizationLayer\u001b[39m"
      ]
     },
     "execution_count": 19,
     "metadata": {},
     "output_type": "execute_result"
    }
   ],
   "source": [
    "// Workaround to define a class that inherits from a Python class\n",
    "py.exec {\n",
    "  s\"\"\"import torch.nn as nn\n",
    "     |\n",
    "     |class NormalizationLayer(nn.Module):\n",
    "     |  def __init__(self, init):\n",
    "     |    super().__init__()\n",
    "     |    init(self)\n",
    "     |\"\"\".stripMargin\n",
    "}\n",
    "def NormalizationLayer(\n",
    "  embeddingDimension: Int\n",
    "): py.Dynamic = {\n",
    "  val epsilon = 1e-5\n",
    "  val init = (self: py.Dynamic) => {\n",
    "    self.scale = torch.nn.Parameter(torch.ones(embeddingDimension))\n",
    "    self.shift = torch.nn.Parameter(torch.zeros(embeddingDimension))\n",
    "      \n",
    "    val forward = (inputs: TorchTensor) => {\n",
    "      val mean = inputs.mean(dim = -1, keepdim = true)\n",
    "      val variance = inputs.`var`(dim = -1, keepdim = true, unbiased = false)\n",
    "      val normalizedInputs = py\"($inputs - $mean) / torch.sqrt($variance + $epsilon)\"\n",
    "      py\"${self.scale} * $normalizedInputs + ${self.shift}\"\n",
    "    }\n",
    "    self.forward = forward\n",
    "  }\n",
    "  py.Dynamic.global.NormalizationLayer(init)\n",
    "}"
   ]
  },
  {
   "cell_type": "code",
   "execution_count": 20,
   "id": "b1b07cba-e201-4209-9980-21948569c2a4",
   "metadata": {},
   "outputs": [
    {
     "data": {
      "text/plain": [
       "\u001b[32mimport \u001b[39m\u001b[36mscala.util.chaining._\u001b[39m\n",
       "defined \u001b[32mfunction\u001b[39m \u001b[36mTransformerBlock\u001b[39m"
      ]
     },
     "execution_count": 20,
     "metadata": {},
     "output_type": "execute_result"
    }
   ],
   "source": [
    "import scala.util.chaining._\n",
    "\n",
    "py.exec {\n",
    "  s\"\"\"import torch.nn as nn\n",
    "     |\n",
    "     |class TransformerBlock(nn.Module):\n",
    "     |  def __init__(self, init):\n",
    "     |    super().__init__()\n",
    "     |    init(self)\n",
    "     |\"\"\".stripMargin\n",
    "}\n",
    "def TransformerBlock(\n",
    "  config: GPTConfig\n",
    "): py.Dynamic = {\n",
    "  val init = (self: py.Dynamic) => {\n",
    "    self.multiHeadAttention = MultiHeadAttention(\n",
    "      inputDimension = config.embeddingDimension,\n",
    "      outputDimension = config.embeddingDimension,\n",
    "      dropoutProbability = config.dropoutRate,\n",
    "      contextLength = config.contextLength,\n",
    "      headsCount = config.attentionHeadsCount,\n",
    "      queryKeyValueBias = config.queryKeyValueBias\n",
    "    )\n",
    "    self.feedForward = FeedForward(config.embeddingDimension)\n",
    "    self.normalization1 = NormalizationLayer(config.embeddingDimension)\n",
    "    self.normalization2 = NormalizationLayer(config.embeddingDimension)\n",
    "    self.dropoutShortcut = torch.nn.Dropout(config.dropoutRate)\n",
    "    \n",
    "    val forward = (inputs: TorchTensor) => {\n",
    "      val shortcut = inputs\n",
    "      val newShortcut = inputs\n",
    "        .pipe(self.normalization1(_))\n",
    "        .pipe(self.multiHeadAttention(_))\n",
    "        .pipe(self.dropoutShortcut(_))\n",
    "        .pipe(o => py\"$o + $shortcut\")\n",
    "      newShortcut\n",
    "        .pipe(self.normalization2(_))\n",
    "        .pipe(self.feedForward(_))\n",
    "        .pipe(self.dropoutShortcut(_))\n",
    "        .pipe(o => py\"$o + $newShortcut\")\n",
    "    }\n",
    "    self.forward = forward\n",
    "  }\n",
    "  py.Dynamic.global.TransformerBlock(init)\n",
    "}"
   ]
  },
  {
   "cell_type": "code",
   "execution_count": 21,
   "id": "2974f19c-5b76-4ed2-a6d7-5bca875ddaea",
   "metadata": {},
   "outputs": [
    {
     "data": {
      "text/plain": [
       "defined \u001b[32mtype\u001b[39m \u001b[36mModel\u001b[39m\n",
       "defined \u001b[32mfunction\u001b[39m \u001b[36mGPTModel\u001b[39m"
      ]
     },
     "execution_count": 21,
     "metadata": {},
     "output_type": "execute_result"
    }
   ],
   "source": [
    "// Workaround to define a class that inherits from a Python class\n",
    "py.exec {\n",
    "  s\"\"\"import torch.nn as nn\n",
    "     |\n",
    "     |class GPTModel(nn.Module):\n",
    "     |  def __init__(self, init):\n",
    "     |    super().__init__()\n",
    "     |    init(self)\n",
    "     |\"\"\".stripMargin\n",
    "}\n",
    "type Model = py.Dynamic\n",
    "def GPTModel(\n",
    "  config: GPTConfig\n",
    "): Model = {\n",
    "  val transformerBlocks = Seq.fill(config.layersCount)(TransformerBlock(config))\n",
    "  val init = (self: py.Dynamic) => {\n",
    "    self.tokenEmbeddingLayer = torch.nn.Embedding(config.vocabularySize, config.embeddingDimension)\n",
    "    self.positionEmbeddingLayer = torch.nn.Embedding(config.contextLength, config.embeddingDimension)\n",
    "    self.dropoutEmbeddingLayer = torch.nn.Dropout(config.dropoutRate)\n",
    "    self.transformerBlocksLayer = py\"nn.Sequential(*${transformerBlocks.toPythonProxy})\"\n",
    "    self.finalNormalizationLayer = NormalizationLayer(config.embeddingDimension)\n",
    "    self.outputLayer = torch.nn.Linear(config.embeddingDimension, config.vocabularySize, bias = false)\n",
    "      \n",
    "    val forward = (batchedInputs: TorchTensor) => {\n",
    "      val (_, sequenceLength) = batchedInputs.shape.as[(Int, Int)]\n",
    "      val tokenEmbeddings = self.tokenEmbeddingLayer(batchedInputs)\n",
    "      val positionEmbeddings = self.positionEmbeddingLayer(torch.arange(sequenceLength, device = batchedInputs.device))\n",
    "      py\"$tokenEmbeddings + $positionEmbeddings\"\n",
    "        .pipe(self.dropoutEmbeddingLayer(_))\n",
    "        .pipe(self.transformerBlocksLayer(_))\n",
    "        .pipe(self.finalNormalizationLayer(_))\n",
    "        .pipe(self.outputLayer(_))\n",
    "    }\n",
    "    self.forward = forward\n",
    "  }\n",
    "  py.Dynamic.global.GPTModel(init)\n",
    "}"
   ]
  },
  {
   "cell_type": "code",
   "execution_count": 22,
   "id": "0e2bb752-7eb2-4fcb-9e0d-425bbb51f8ec",
   "metadata": {},
   "outputs": [
    {
     "data": {
      "text/plain": [
       "\u001b[36mbaseUrl\u001b[39m: \u001b[32mString\u001b[39m = \u001b[32m\"https://f001.backblazeb2.com/file/LLMs-from-scratch/gpt2/124M\"\u001b[39m\n",
       "\u001b[36mhparamsFilename\u001b[39m: \u001b[32mString\u001b[39m = \u001b[32m\"hparams.json\"\u001b[39m\n",
       "\u001b[36mfilenames\u001b[39m: \u001b[32mList\u001b[39m[\u001b[32mString\u001b[39m] = \u001b[33mList\u001b[39m(\n",
       "  \u001b[32m\"checkpoint\"\u001b[39m,\n",
       "  \u001b[32m\"encoder.json\"\u001b[39m,\n",
       "  \u001b[32m\"hparams.json\"\u001b[39m,\n",
       "  \u001b[32m\"model.ckpt.data-00000-of-00001\"\u001b[39m,\n",
       "  \u001b[32m\"model.ckpt.index\"\u001b[39m,\n",
       "  \u001b[32m\"model.ckpt.meta\"\u001b[39m,\n",
       "  \u001b[32m\"vocab.bpe\"\u001b[39m\n",
       ")\n",
       "\u001b[36moutputDir\u001b[39m: \u001b[32mString\u001b[39m = \u001b[32m\"data/openai124M\"\u001b[39m"
      ]
     },
     "execution_count": 22,
     "metadata": {},
     "output_type": "execute_result"
    }
   ],
   "source": [
    "val baseUrl = \"https://f001.backblazeb2.com/file/LLMs-from-scratch/gpt2/124M\"\n",
    "// val baseUrl = \"https://openaipublic.blob.core.windows.net/gpt-2/models/124M\" // backup\n",
    "val hparamsFilename = \"hparams.json\"\n",
    "val filenames = List(\"checkpoint\", \"encoder.json\", hparamsFilename, \"model.ckpt.data-00000-of-00001\", \"model.ckpt.index\", \"model.ckpt.meta\", \"vocab.bpe\")\n",
    "\n",
    "val outputDir = \"data/openai124M\""
   ]
  },
  {
   "cell_type": "code",
   "execution_count": 23,
   "id": "ff93551d-b4f8-42e8-8ff7-9394cb75125b",
   "metadata": {},
   "outputs": [
    {
     "name": "stdout",
     "output_type": "stream",
     "text": [
      "Downloading checkpoint...\n"
     ]
    },
    {
     "name": "stderr",
     "output_type": "stream",
     "text": [
      "  % Total    % Received % Xferd  Average Speed   Time    Time     Time  Current\n",
      "                                 Dload  Upload   Total   Spent    Left  Speed\n",
      "\n",
      "  0     0    0     0    0     0      0      0 --:--:-- --:--:-- --:--:--     0\n",
      "100    77  100    77    0     0     82      0 --:--:-- --:--:-- --:--:--    82\n",
      "100    77  100    77    0     0     82      0 --:--:-- --:--:-- --:--:--    82\n"
     ]
    },
    {
     "name": "stdout",
     "output_type": "stream",
     "text": [
      "Downloading encoder.json...\n"
     ]
    },
    {
     "name": "stderr",
     "output_type": "stream",
     "text": [
      "  % Total    % Received % Xferd  Average Speed   Time    Time     Time  Current\n",
      "                                 Dload  Upload   Total   Spent    Left  Speed\n",
      "\n",
      "  0     0    0     0    0     0      0      0 --:--:-- --:--:-- --:--:--     0\n",
      "  0     0    0     0    0     0      0      0 --:--:-- --:--:-- --:--:--     0\n",
      " 56 1017k   56  575k    0     0   301k      0  0:00:03  0:00:01  0:00:02  301k\n",
      "100 1017k  100 1017k    0     0   494k      0  0:00:02  0:00:02 --:--:--  494k\n"
     ]
    },
    {
     "name": "stdout",
     "output_type": "stream",
     "text": [
      "Downloading hparams.json...\n"
     ]
    },
    {
     "name": "stderr",
     "output_type": "stream",
     "text": [
      "  % Total    % Received % Xferd  Average Speed   Time    Time     Time  Current\n",
      "                                 Dload  Upload   Total   Spent    Left  Speed\n",
      "\n",
      "  0     0    0     0    0     0      0      0 --:--:-- --:--:-- --:--:--     0\n",
      "100    90  100    90    0     0    125      0 --:--:-- --:--:-- --:--:--   125\n"
     ]
    },
    {
     "name": "stdout",
     "output_type": "stream",
     "text": [
      "Downloading model.ckpt.data-00000-of-00001...\n"
     ]
    },
    {
     "name": "stderr",
     "output_type": "stream",
     "text": [
      "  % Total    % Received % Xferd  Average Speed   Time    Time     Time  Current\n",
      "                                 Dload  Upload   Total   Spent    Left  Speed\n",
      "\n",
      "  0     0    0     0    0     0      0      0 --:--:-- --:--:-- --:--:--     0\n",
      "  0     0    0     0    0     0      0      0 --:--:-- --:--:-- --:--:--     0\n",
      "  0  474M    0 56845    0     0  51370      0  2:41:29  0:00:01  2:41:28 51350\n",
      "  0  474M    0 2455k    0     0  1167k      0  0:06:56  0:00:02  0:06:54 1167k\n",
      "  3  474M    3 16.5M    0     0  5459k      0  0:01:29  0:00:03  0:01:26 5459k\n",
      "  6  474M    6 30.9M    0     0  7718k      0  0:01:02  0:00:04  0:00:58 7717k\n",
      "  9  474M    9 46.3M    0     0  9281k      0  0:00:52  0:00:05  0:00:47 9728k\n",
      " 12  474M   12 61.5M    0     0  10.0M      0  0:00:47  0:00:06  0:00:41 12.2M\n",
      " 16  474M   16 76.8M    0     0  10.8M      0  0:00:43  0:00:07  0:00:36 14.8M\n",
      " 19  474M   19 91.6M    0     0  11.2M      0  0:00:42  0:00:08  0:00:34 14.9M\n",
      " 22  474M   22  104M    0     0  11.5M      0  0:00:41  0:00:09  0:00:32 14.7M\n",
      " 25  474M   25  120M    0     0  11.8M      0  0:00:40  0:00:10  0:00:30 14.6M\n",
      " 28  474M   28  135M    0     0  12.1M      0  0:00:39  0:00:11  0:00:28 14.6M\n",
      " 31  474M   31  149M    0     0  12.2M      0  0:00:38  0:00:12  0:00:26 14.2M\n",
      " 33  474M   33  158M    0     0  12.0M      0  0:00:39  0:00:13  0:00:26 13.4M\n",
      " 36  474M   36  174M    0     0  12.3M      0  0:00:38  0:00:14  0:00:24 13.7M\n",
      " 39  474M   39  188M    0     0  12.4M      0  0:00:38  0:00:15  0:00:23 13.7M\n",
      " 42  474M   42  203M    0     0  12.6M      0  0:00:37  0:00:16  0:00:21 13.6M\n",
      " 45  474M   45  218M    0     0  12.7M      0  0:00:37  0:00:17  0:00:20 13.8M\n",
      " 49  474M   49  233M    0     0  12.8M      0  0:00:36  0:00:18  0:00:18 14.8M\n",
      " 52  474M   52  248M    0     0  13.0M      0  0:00:36  0:00:19  0:00:17 14.9M\n",
      " 55  474M   55  263M    0     0  13.0M      0  0:00:36  0:00:20  0:00:16 14.9M\n",
      " 58  474M   58  278M    0     0  13.1M      0  0:00:35  0:00:21  0:00:14 15.0M\n",
      " 61  474M   61  292M    0     0  13.2M      0  0:00:35  0:00:22  0:00:13 15.0M\n",
      " 64  474M   64  307M    0     0  13.3M      0  0:00:35  0:00:23  0:00:12 14.9M\n",
      " 68  474M   68  323M    0     0  13.3M      0  0:00:35  0:00:24  0:00:11 14.8M\n",
      " 71  474M   71  339M    0     0  13.5M      0  0:00:35  0:00:25  0:00:10 15.3M\n",
      " 74  474M   74  354M    0     0  13.5M      0  0:00:34  0:00:26  0:00:08 15.2M\n",
      " 77  474M   77  369M    0     0  13.6M      0  0:00:34  0:00:27  0:00:07 15.3M\n",
      " 81  474M   81  384M    0     0  13.6M      0  0:00:34  0:00:28  0:00:06 15.2M\n",
      " 84  474M   84  399M    0     0  13.7M      0  0:00:34  0:00:29  0:00:05 15.3M\n",
      " 87  474M   87  414M    0     0  13.7M      0  0:00:34  0:00:30  0:00:04 14.8M\n",
      " 88  474M   88  421M    0     0  13.5M      0  0:00:34  0:00:31  0:00:03 13.4M\n",
      " 91  474M   91  436M    0     0  13.5M      0  0:00:34  0:00:32  0:00:02 13.3M\n",
      " 94  474M   94  450M    0     0  13.6M      0  0:00:34  0:00:33  0:00:01 13.4M\n",
      " 98  474M   98  465M    0     0  13.6M      0  0:00:34  0:00:34 --:--:-- 13.3M\n",
      "100  474M  100  474M    0     0  13.7M      0  0:00:34  0:00:34 --:--:-- 13.4M\n"
     ]
    },
    {
     "name": "stdout",
     "output_type": "stream",
     "text": [
      "Downloading model.ckpt.index...\n"
     ]
    },
    {
     "name": "stderr",
     "output_type": "stream",
     "text": [
      "  % Total    % Received % Xferd  Average Speed   Time    Time     Time  Current\n",
      "                                 Dload  Upload   Total   Spent    Left  Speed\n",
      "\n",
      "  0     0    0     0    0     0      0      0 --:--:-- --:--:-- --:--:--     0\n",
      "  0     0    0     0    0     0      0      0 --:--:-- --:--:-- --:--:--     0\n",
      "100  5215  100  5215    0     0   6018      0 --:--:-- --:--:-- --:--:--  6014\n"
     ]
    },
    {
     "name": "stdout",
     "output_type": "stream",
     "text": [
      "Downloading model.ckpt.meta...\n"
     ]
    },
    {
     "name": "stderr",
     "output_type": "stream",
     "text": [
      "  % Total    % Received % Xferd  Average Speed   Time    Time     Time  Current\n",
      "                                 Dload  Upload   Total   Spent    Left  Speed\n",
      "\n",
      "  0     0    0     0    0     0      0      0 --:--:-- --:--:-- --:--:--     0\n",
      "  0     0    0     0    0     0      0      0 --:--:-- --:--:-- --:--:--     0\n",
      "100  460k  100  460k    0     0   294k      0  0:00:01  0:00:01 --:--:--  294k\n"
     ]
    },
    {
     "name": "stdout",
     "output_type": "stream",
     "text": [
      "Downloading vocab.bpe...\n"
     ]
    },
    {
     "name": "stderr",
     "output_type": "stream",
     "text": [
      "  % Total    % Received % Xferd  Average Speed   Time    Time     Time  Current\n",
      "                                 Dload  Upload   Total   Spent    Left  Speed\n",
      "\n",
      "  0     0    0     0    0     0      0      0 --:--:-- --:--:-- --:--:--     0\n",
      "  0     0    0     0    0     0      0      0 --:--:-- --:--:-- --:--:--     0\n",
      " 10  445k   10 48710    0     0  47809      0  0:00:09  0:00:01  0:00:08 47801\n",
      "100  445k  100  445k    0     0   284k      0  0:00:01  0:00:01 --:--:--  284k\n"
     ]
    }
   ],
   "source": [
    "filenames.foreach { filename =>\n",
    "  println(s\"Downloading $filename...\")\n",
    "  Magic.!(\"curl\", \"--create-dirs\", \"-O\", \"--output-dir\", outputDir, s\"$baseUrl/$filename\")\n",
    "}"
   ]
  },
  {
   "cell_type": "code",
   "execution_count": 24,
   "id": "ba140fe2-fc98-46cb-b3aa-5f76b94e332c",
   "metadata": {},
   "outputs": [
    {
     "name": "stdout",
     "output_type": "stream",
     "text": [
      "Requirement already satisfied: tensorflow==2.16.* in /usr/local/lib/python3.12/site-packages (2.16.2)\n",
      "Requirement already satisfied: absl-py>=1.0.0 in /usr/local/lib/python3.12/site-packages (from tensorflow==2.16.*) (2.1.0)\n",
      "Requirement already satisfied: astunparse>=1.6.0 in /usr/local/lib/python3.12/site-packages (from tensorflow==2.16.*) (1.6.3)\n",
      "Requirement already satisfied: flatbuffers>=23.5.26 in /usr/local/lib/python3.12/site-packages (from tensorflow==2.16.*) (25.1.24)\n",
      "Requirement already satisfied: gast!=0.5.0,!=0.5.1,!=0.5.2,>=0.2.1 in /usr/local/lib/python3.12/site-packages (from tensorflow==2.16.*) (0.6.0)\n",
      "Requirement already satisfied: google-pasta>=0.1.1 in /usr/local/lib/python3.12/site-packages (from tensorflow==2.16.*) (0.2.0)\n",
      "Requirement already satisfied: h5py>=3.10.0 in /usr/local/lib/python3.12/site-packages (from tensorflow==2.16.*) (3.12.1)\n",
      "Requirement already satisfied: libclang>=13.0.0 in /usr/local/lib/python3.12/site-packages (from tensorflow==2.16.*) (18.1.1)\n",
      "Requirement already satisfied: ml-dtypes~=0.3.1 in /usr/local/lib/python3.12/site-packages (from tensorflow==2.16.*) (0.3.2)\n",
      "Requirement already satisfied: opt-einsum>=2.3.2 in /usr/local/lib/python3.12/site-packages (from tensorflow==2.16.*) (3.4.0)\n",
      "Requirement already satisfied: packaging in /usr/local/lib/python3.12/site-packages (from tensorflow==2.16.*) (24.2)\n",
      "Requirement already satisfied: protobuf!=4.21.0,!=4.21.1,!=4.21.2,!=4.21.3,!=4.21.4,!=4.21.5,<5.0.0dev,>=3.20.3 in /usr/local/lib/python3.12/site-packages (from tensorflow==2.16.*) (4.25.6)\n",
      "Requirement already satisfied: requests<3,>=2.21.0 in /usr/local/lib/python3.12/site-packages (from tensorflow==2.16.*) (2.32.3)\n",
      "Requirement already satisfied: setuptools in /usr/local/lib/python3.12/site-packages (from tensorflow==2.16.*) (75.8.0)\n",
      "Requirement already satisfied: six>=1.12.0 in /usr/local/lib/python3.12/site-packages (from tensorflow==2.16.*) (1.17.0)\n",
      "Requirement already satisfied: termcolor>=1.1.0 in /usr/local/lib/python3.12/site-packages (from tensorflow==2.16.*) (2.5.0)\n",
      "Requirement already satisfied: typing-extensions>=3.6.6 in /usr/local/lib/python3.12/site-packages (from tensorflow==2.16.*) (4.12.2)\n",
      "Requirement already satisfied: wrapt>=1.11.0 in /usr/local/lib/python3.12/site-packages (from tensorflow==2.16.*) (1.17.2)\n",
      "Requirement already satisfied: grpcio<2.0,>=1.24.3 in /usr/local/lib/python3.12/site-packages (from tensorflow==2.16.*) (1.70.0)\n",
      "Requirement already satisfied: tensorboard<2.17,>=2.16 in /usr/local/lib/python3.12/site-packages (from tensorflow==2.16.*) (2.16.2)\n",
      "Requirement already satisfied: keras>=3.0.0 in /usr/local/lib/python3.12/site-packages (from tensorflow==2.16.*) (3.8.0)\n",
      "Requirement already satisfied: numpy<2.0.0,>=1.26.0 in /usr/local/lib/python3.12/site-packages (from tensorflow==2.16.*) (1.26.4)\n",
      "Requirement already satisfied: wheel<1.0,>=0.23.0 in /usr/local/lib/python3.12/site-packages (from astunparse>=1.6.0->tensorflow==2.16.*) (0.45.1)\n",
      "Requirement already satisfied: rich in /usr/local/lib/python3.12/site-packages (from keras>=3.0.0->tensorflow==2.16.*) (13.9.4)\n",
      "Requirement already satisfied: namex in /usr/local/lib/python3.12/site-packages (from keras>=3.0.0->tensorflow==2.16.*) (0.0.8)\n",
      "Requirement already satisfied: optree in /usr/local/lib/python3.12/site-packages (from keras>=3.0.0->tensorflow==2.16.*) (0.14.0)\n",
      "Requirement already satisfied: charset-normalizer<4,>=2 in /usr/local/lib/python3.12/site-packages (from requests<3,>=2.21.0->tensorflow==2.16.*) (3.4.1)\n",
      "Requirement already satisfied: idna<4,>=2.5 in /usr/local/lib/python3.12/site-packages (from requests<3,>=2.21.0->tensorflow==2.16.*) (3.10)\n",
      "Requirement already satisfied: urllib3<3,>=1.21.1 in /usr/local/lib/python3.12/site-packages (from requests<3,>=2.21.0->tensorflow==2.16.*) (2.3.0)\n",
      "Requirement already satisfied: certifi>=2017.4.17 in /usr/local/lib/python3.12/site-packages (from requests<3,>=2.21.0->tensorflow==2.16.*) (2025.1.31)\n",
      "Requirement already satisfied: markdown>=2.6.8 in /usr/local/lib/python3.12/site-packages (from tensorboard<2.17,>=2.16->tensorflow==2.16.*) (3.7)\n",
      "Requirement already satisfied: tensorboard-data-server<0.8.0,>=0.7.0 in /usr/local/lib/python3.12/site-packages (from tensorboard<2.17,>=2.16->tensorflow==2.16.*) (0.7.2)\n",
      "Requirement already satisfied: werkzeug>=1.0.1 in /usr/local/lib/python3.12/site-packages (from tensorboard<2.17,>=2.16->tensorflow==2.16.*) (3.1.3)\n",
      "Requirement already satisfied: MarkupSafe>=2.1.1 in /usr/local/lib/python3.12/site-packages (from werkzeug>=1.0.1->tensorboard<2.17,>=2.16->tensorflow==2.16.*) (3.0.2)\n",
      "Requirement already satisfied: markdown-it-py>=2.2.0 in /usr/local/lib/python3.12/site-packages (from rich->keras>=3.0.0->tensorflow==2.16.*) (3.0.0)\n",
      "Requirement already satisfied: pygments<3.0.0,>=2.13.0 in /usr/local/lib/python3.12/site-packages (from rich->keras>=3.0.0->tensorflow==2.16.*) (2.19.1)\n",
      "Requirement already satisfied: mdurl~=0.1 in /usr/local/lib/python3.12/site-packages (from markdown-it-py>=2.2.0->rich->keras>=3.0.0->tensorflow==2.16.*) (0.1.2)\n"
     ]
    },
    {
     "name": "stderr",
     "output_type": "stream",
     "text": [
      "WARNING: Running pip as the 'root' user can result in broken permissions and conflicting behaviour with the system package manager, possibly rendering your system unusable.It is recommended to use a virtual environment instead: https://pip.pypa.io/warnings/venv. Use the --root-user-action option if you know what you are doing and want to suppress this warning.\n",
      "\n",
      "[notice] A new release of pip is available: 24.3.1 -> 25.0.1\n",
      "[notice] To update, run: pip install --upgrade pip\n"
     ]
    }
   ],
   "source": [
    "Magic.!(\"pip\", \"install\", \"tensorflow==2.16.*\")"
   ]
  },
  {
   "cell_type": "code",
   "execution_count": 25,
   "id": "17d95f90-6312-4cab-9434-73d340ee1a19",
   "metadata": {},
   "outputs": [
    {
     "data": {
      "text/plain": [
       "\u001b[32mimport \u001b[39m\u001b[36m$ivy.$\u001b[39m\n",
       "\u001b[32mimport \u001b[39m\u001b[36mscala.io.Source\u001b[39m\n",
       "\u001b[36mhparamsMap\u001b[39m: \u001b[32mujson\u001b[39m.\u001b[32mValue\u001b[39m.\u001b[32mValue\u001b[39m = \u001b[33mObj\u001b[39m(\n",
       "  value = \u001b[33mMap\u001b[39m(\n",
       "    \u001b[32m\"n_vocab\"\u001b[39m -> \u001b[33mNum\u001b[39m(value = \u001b[32m50257.0\u001b[39m),\n",
       "    \u001b[32m\"n_ctx\"\u001b[39m -> \u001b[33mNum\u001b[39m(value = \u001b[32m1024.0\u001b[39m),\n",
       "    \u001b[32m\"n_embd\"\u001b[39m -> \u001b[33mNum\u001b[39m(value = \u001b[32m768.0\u001b[39m),\n",
       "    \u001b[32m\"n_head\"\u001b[39m -> \u001b[33mNum\u001b[39m(value = \u001b[32m12.0\u001b[39m),\n",
       "    \u001b[32m\"n_layer\"\u001b[39m -> \u001b[33mNum\u001b[39m(value = \u001b[32m12.0\u001b[39m)\n",
       "  )\n",
       ")\n",
       "\u001b[36mgptConfig\u001b[39m: \u001b[32mGPTConfig\u001b[39m = \u001b[33mGPTConfig\u001b[39m(\n",
       "  vocabularySize = \u001b[32m50257\u001b[39m,\n",
       "  contextLength = \u001b[32m1024\u001b[39m,\n",
       "  embeddingDimension = \u001b[32m768\u001b[39m,\n",
       "  attentionHeadsCount = \u001b[32m12\u001b[39m,\n",
       "  layersCount = \u001b[32m12\u001b[39m,\n",
       "  dropoutRate = \u001b[32m0.1\u001b[39m,\n",
       "  queryKeyValueBias = \u001b[32mtrue\u001b[39m\n",
       ")"
      ]
     },
     "execution_count": 25,
     "metadata": {},
     "output_type": "execute_result"
    }
   ],
   "source": [
    "import $ivy.`com.lihaoyi::ujson:4.1.0`\n",
    "\n",
    "import scala.io.Source\n",
    "\n",
    "val hparamsMap = ujson.read(Source.fromFile(s\"$outputDir/$hparamsFilename\").mkString)\n",
    "\n",
    "val gptConfig = GPTConfig(\n",
    "  vocabularySize = hparamsMap(\"n_vocab\").num.toInt,\n",
    "  contextLength = hparamsMap(\"n_ctx\").num.toInt,\n",
    "  embeddingDimension = hparamsMap(\"n_embd\").num.toInt,\n",
    "  attentionHeadsCount = hparamsMap(\"n_head\").num.toInt,\n",
    "  layersCount = hparamsMap(\"n_layer\").num.toInt,\n",
    "  dropoutRate = 0.1,\n",
    "  queryKeyValueBias = true\n",
    ")"
   ]
  },
  {
   "cell_type": "code",
   "execution_count": 26,
   "id": "dc8b8a66-3bbe-41d2-a719-8fbe8c1023cf",
   "metadata": {},
   "outputs": [
    {
     "data": {
      "text/plain": [
       "\u001b[36mtf\u001b[39m: \u001b[32mpy\u001b[39m.\u001b[32mModule\u001b[39m = <module 'tensorflow' from '/usr/local/lib/python3.12/site-packages/tensorflow/__init__.py'>\n",
       "\u001b[36mnp\u001b[39m: \u001b[32mpy\u001b[39m.\u001b[32mModule\u001b[39m = <module 'numpy' from '/usr/local/lib/python3.12/site-packages/numpy/__init__.py'>"
      ]
     },
     "execution_count": 26,
     "metadata": {},
     "output_type": "execute_result"
    }
   ],
   "source": [
    "val tf = py.module(\"tensorflow\")\n",
    "val np = py.module(\"numpy\")"
   ]
  },
  {
   "cell_type": "code",
   "execution_count": 27,
   "id": "a353053b-7a30-45b9-8c63-6166a708a832",
   "metadata": {},
   "outputs": [
    {
     "name": "stdout",
     "output_type": "stream",
     "text": [
      "model/h0/attn/c_attn/b\n",
      "model/h0/attn/c_attn/w\n",
      "model/h0/attn/c_proj/b\n",
      "model/h0/attn/c_proj/w\n",
      "model/h0/ln_1/b\n",
      "model/h0/ln_1/g\n",
      "model/h0/ln_2/b\n",
      "model/h0/ln_2/g\n",
      "model/h0/mlp/c_fc/b\n",
      "model/h0/mlp/c_fc/w\n",
      "model/h0/mlp/c_proj/b\n",
      "model/h0/mlp/c_proj/w\n",
      "model/h1/attn/c_attn/b\n",
      "model/h1/attn/c_attn/w\n",
      "model/h1/attn/c_proj/b\n",
      "model/h1/attn/c_proj/w\n",
      "model/h1/ln_1/b\n",
      "model/h1/ln_1/g\n",
      "model/h1/ln_2/b\n",
      "model/h1/ln_2/g\n",
      "model/h1/mlp/c_fc/b\n",
      "model/h1/mlp/c_fc/w\n",
      "model/h1/mlp/c_proj/b\n",
      "model/h1/mlp/c_proj/w\n",
      "model/h10/attn/c_attn/b\n",
      "model/h10/attn/c_attn/w\n",
      "model/h10/attn/c_proj/b\n",
      "model/h10/attn/c_proj/w\n",
      "model/h10/ln_1/b\n",
      "model/h10/ln_1/g\n",
      "model/h10/ln_2/b\n",
      "model/h10/ln_2/g\n",
      "model/h10/mlp/c_fc/b\n",
      "model/h10/mlp/c_fc/w\n",
      "model/h10/mlp/c_proj/b\n",
      "model/h10/mlp/c_proj/w\n",
      "model/h11/attn/c_attn/b\n",
      "model/h11/attn/c_attn/w\n",
      "model/h11/attn/c_proj/b\n",
      "model/h11/attn/c_proj/w\n",
      "model/h11/ln_1/b\n",
      "model/h11/ln_1/g\n",
      "model/h11/ln_2/b\n",
      "model/h11/ln_2/g\n",
      "model/h11/mlp/c_fc/b\n",
      "model/h11/mlp/c_fc/w\n",
      "model/h11/mlp/c_proj/b\n",
      "model/h11/mlp/c_proj/w\n",
      "model/h2/attn/c_attn/b\n",
      "model/h2/attn/c_attn/w\n",
      "model/h2/attn/c_proj/b\n",
      "model/h2/attn/c_proj/w\n",
      "model/h2/ln_1/b\n",
      "model/h2/ln_1/g\n",
      "model/h2/ln_2/b\n",
      "model/h2/ln_2/g\n",
      "model/h2/mlp/c_fc/b\n",
      "model/h2/mlp/c_fc/w\n",
      "model/h2/mlp/c_proj/b\n",
      "model/h2/mlp/c_proj/w\n",
      "model/h3/attn/c_attn/b\n",
      "model/h3/attn/c_attn/w\n",
      "model/h3/attn/c_proj/b\n",
      "model/h3/attn/c_proj/w\n",
      "model/h3/ln_1/b\n",
      "model/h3/ln_1/g\n",
      "model/h3/ln_2/b\n",
      "model/h3/ln_2/g\n",
      "model/h3/mlp/c_fc/b\n",
      "model/h3/mlp/c_fc/w\n",
      "model/h3/mlp/c_proj/b\n",
      "model/h3/mlp/c_proj/w\n",
      "model/h4/attn/c_attn/b\n",
      "model/h4/attn/c_attn/w\n",
      "model/h4/attn/c_proj/b\n",
      "model/h4/attn/c_proj/w\n",
      "model/h4/ln_1/b\n",
      "model/h4/ln_1/g\n",
      "model/h4/ln_2/b\n",
      "model/h4/ln_2/g\n",
      "model/h4/mlp/c_fc/b\n",
      "model/h4/mlp/c_fc/w\n",
      "model/h4/mlp/c_proj/b\n",
      "model/h4/mlp/c_proj/w\n",
      "model/h5/attn/c_attn/b\n",
      "model/h5/attn/c_attn/w\n",
      "model/h5/attn/c_proj/b\n",
      "model/h5/attn/c_proj/w\n",
      "model/h5/ln_1/b\n",
      "model/h5/ln_1/g\n",
      "model/h5/ln_2/b\n",
      "model/h5/ln_2/g\n",
      "model/h5/mlp/c_fc/b\n",
      "model/h5/mlp/c_fc/w\n",
      "model/h5/mlp/c_proj/b\n",
      "model/h5/mlp/c_proj/w\n",
      "model/h6/attn/c_attn/b\n",
      "model/h6/attn/c_attn/w\n",
      "model/h6/attn/c_proj/b\n",
      "model/h6/attn/c_proj/w\n",
      "model/h6/ln_1/b\n",
      "model/h6/ln_1/g\n",
      "model/h6/ln_2/b\n",
      "model/h6/ln_2/g\n",
      "model/h6/mlp/c_fc/b\n",
      "model/h6/mlp/c_fc/w\n",
      "model/h6/mlp/c_proj/b\n",
      "model/h6/mlp/c_proj/w\n",
      "model/h7/attn/c_attn/b\n",
      "model/h7/attn/c_attn/w\n",
      "model/h7/attn/c_proj/b\n",
      "model/h7/attn/c_proj/w\n",
      "model/h7/ln_1/b\n",
      "model/h7/ln_1/g\n",
      "model/h7/ln_2/b\n",
      "model/h7/ln_2/g\n",
      "model/h7/mlp/c_fc/b\n",
      "model/h7/mlp/c_fc/w\n",
      "model/h7/mlp/c_proj/b\n",
      "model/h7/mlp/c_proj/w\n",
      "model/h8/attn/c_attn/b\n",
      "model/h8/attn/c_attn/w\n",
      "model/h8/attn/c_proj/b\n",
      "model/h8/attn/c_proj/w\n",
      "model/h8/ln_1/b\n",
      "model/h8/ln_1/g\n",
      "model/h8/ln_2/b\n",
      "model/h8/ln_2/g\n",
      "model/h8/mlp/c_fc/b\n",
      "model/h8/mlp/c_fc/w\n",
      "model/h8/mlp/c_proj/b\n",
      "model/h8/mlp/c_proj/w\n",
      "model/h9/attn/c_attn/b\n",
      "model/h9/attn/c_attn/w\n",
      "model/h9/attn/c_proj/b\n",
      "model/h9/attn/c_proj/w\n",
      "model/h9/ln_1/b\n",
      "model/h9/ln_1/g\n",
      "model/h9/ln_2/b\n",
      "model/h9/ln_2/g\n",
      "model/h9/mlp/c_fc/b\n",
      "model/h9/mlp/c_fc/w\n",
      "model/h9/mlp/c_proj/b\n",
      "model/h9/mlp/c_proj/w\n",
      "model/ln_f/b\n",
      "model/ln_f/g\n",
      "model/wpe\n",
      "model/wte\n"
     ]
    },
    {
     "data": {
      "text/plain": [
       "\u001b[36mcheckpoint\u001b[39m: \u001b[32mpy\u001b[39m.\u001b[32mDynamic\u001b[39m = data/openai124M/model.ckpt\n",
       "\u001b[36mvariableNames\u001b[39m: \u001b[32mList\u001b[39m[\u001b[32mString\u001b[39m] = \u001b[33mList\u001b[39m(\n",
       "  \u001b[32m\"model/h0/attn/c_attn/b\"\u001b[39m,\n",
       "  \u001b[32m\"model/h0/attn/c_attn/w\"\u001b[39m,\n",
       "  \u001b[32m\"model/h0/attn/c_proj/b\"\u001b[39m,\n",
       "  \u001b[32m\"model/h0/attn/c_proj/w\"\u001b[39m,\n",
       "  \u001b[32m\"model/h0/ln_1/b\"\u001b[39m,\n",
       "  \u001b[32m\"model/h0/ln_1/g\"\u001b[39m,\n",
       "  \u001b[32m\"model/h0/ln_2/b\"\u001b[39m,\n",
       "  \u001b[32m\"model/h0/ln_2/g\"\u001b[39m,\n",
       "  \u001b[32m\"model/h0/mlp/c_fc/b\"\u001b[39m,\n",
       "  \u001b[32m\"model/h0/mlp/c_fc/w\"\u001b[39m,\n",
       "  \u001b[32m\"model/h0/mlp/c_proj/b\"\u001b[39m,\n",
       "  \u001b[32m\"model/h0/mlp/c_proj/w\"\u001b[39m,\n",
       "  \u001b[32m\"model/h1/attn/c_attn/b\"\u001b[39m,\n",
       "  \u001b[32m\"model/h1/attn/c_attn/w\"\u001b[39m,\n",
       "  \u001b[32m\"model/h1/attn/c_proj/b\"\u001b[39m,\n",
       "  \u001b[32m\"model/h1/attn/c_proj/w\"\u001b[39m,\n",
       "  \u001b[32m\"model/h1/ln_1/b\"\u001b[39m,\n",
       "  \u001b[32m\"model/h1/ln_1/g\"\u001b[39m,\n",
       "  \u001b[32m\"model/h1/ln_2/b\"\u001b[39m,\n",
       "  \u001b[32m\"model/h1/ln_2/g\"\u001b[39m,\n",
       "  \u001b[32m\"model/h1/mlp/c_fc/b\"\u001b[39m,\n",
       "  \u001b[32m\"model/h1/mlp/c_fc/w\"\u001b[39m,\n",
       "  \u001b[32m\"model/h1/mlp/c_proj/b\"\u001b[39m,\n",
       "  \u001b[32m\"model/h1/mlp/c_proj/w\"\u001b[39m,\n",
       "  \u001b[32m\"model/h10/attn/c_attn/b\"\u001b[39m,\n",
       "  \u001b[32m\"model/h10/attn/c_attn/w\"\u001b[39m,\n",
       "  \u001b[32m\"model/h10/attn/c_proj/b\"\u001b[39m,\n",
       "  \u001b[32m\"model/h10/attn/c_proj/w\"\u001b[39m,\n",
       "  \u001b[32m\"model/h10/ln_1/b\"\u001b[39m,\n",
       "  \u001b[32m\"model/h10/ln_1/g\"\u001b[39m,\n",
       "  \u001b[32m\"model/h10/ln_2/b\"\u001b[39m,\n",
       "  \u001b[32m\"model/h10/ln_2/g\"\u001b[39m,\n",
       "  \u001b[32m\"model/h10/mlp/c_fc/b\"\u001b[39m,\n",
       "  \u001b[32m\"model/h10/mlp/c_fc/w\"\u001b[39m,\n",
       "  \u001b[32m\"model/h10/mlp/c_proj/b\"\u001b[39m,\n",
       "  \u001b[32m\"model/h10/mlp/c_proj/w\"\u001b[39m,\n",
       "  \u001b[32m\"model/h11/attn/c_attn/b\"\u001b[39m,\n",
       "  \u001b[32m\"model/h11/attn/c_attn/w\"\u001b[39m,\n",
       "..."
      ]
     },
     "execution_count": 27,
     "metadata": {},
     "output_type": "execute_result"
    }
   ],
   "source": [
    "val checkpoint = tf.train.latest_checkpoint(outputDir)\n",
    "val variableNames = tf.train.list_variables(checkpoint).as[Seq[(String, Seq[Int])]].map { \n",
    "  case (variableName, _) => variableName \n",
    "}.toList\n",
    "variableNames.sorted.foreach(println)"
   ]
  },
  {
   "cell_type": "code",
   "execution_count": 28,
   "id": "11392e9f-eb7c-4a1a-a892-2a37e04d9298",
   "metadata": {},
   "outputs": [
    {
     "name": "stderr",
     "output_type": "stream",
     "text": [
      "cmd28.sc:18: match may not be exhaustive.\n",
      "It would fail on the following inputs: List((x: String forSome x not in (\"b\", \"w\"))), Nil\n",
      "                tail match {\n",
      "                ^\n",
      "cmd28.sc:29: match may not be exhaustive.\n",
      "It would fail on the following inputs: List((x: String forSome x not in (\"b\", \"w\"))), Nil\n",
      "                tail match {\n",
      "                ^\n",
      "cmd28.sc:15: match may not be exhaustive.\n",
      "It would fail on the following inputs: List((x: String forSome x not in (\"c_attn\", \"c_proj\"))), Nil\n",
      "            tail match {\n",
      "            ^\n",
      "cmd28.sc:37: match may not be exhaustive.\n",
      "It would fail on the following inputs: List((x: String forSome x not in (\"b\", \"g\"))), Nil\n",
      "            tail match {\n",
      "            ^\n",
      "cmd28.sc:44: match may not be exhaustive.\n",
      "It would fail on the following inputs: List((x: String forSome x not in (\"b\", \"g\"))), Nil\n",
      "            tail match {\n",
      "            ^\n",
      "cmd28.sc:53: match may not be exhaustive.\n",
      "It would fail on the following inputs: List((x: String forSome x not in (\"b\", \"w\"))), Nil\n",
      "                tail match {\n",
      "                ^\n",
      "cmd28.sc:59: match may not be exhaustive.\n",
      "It would fail on the following inputs: List((x: String forSome x not in (\"b\", \"w\"))), Nil\n",
      "                tail match {\n",
      "                ^\n",
      "cmd28.sc:50: match may not be exhaustive.\n",
      "It would fail on the following inputs: List((x: String forSome x not in (\"c_fc\", \"c_proj\"))), Nil\n",
      "            tail match {\n",
      "            ^\n",
      "cmd28.sc:12: match may not be exhaustive.\n",
      "It would fail on the following inputs: List((x: String forSome x not in (\"attn\", \"ln_1\", \"ln_2\", \"mlp\"))), Nil\n",
      "        tail match {\n",
      "        ^\n",
      "cmd28.sc:68: match may not be exhaustive.\n",
      "It would fail on the following inputs: List((x: String forSome x not in (\"b\", \"g\"))), Nil\n",
      "        tail match {\n",
      "        ^\n",
      "cmd28.sc:9: match may not be exhaustive.\n",
      "It would fail on the following inputs: List((x: String forSome x not in (\"ln_f\", \"wpe\", \"wte\"))), Nil\n",
      "    variableName.split(\"/\").drop(1).toList match {\n",
      "                                    ^\n"
     ]
    },
    {
     "data": {
      "text/plain": [
       "defined \u001b[32mtype\u001b[39m \u001b[36mNpArray\u001b[39m\n",
       "defined \u001b[32mfunction\u001b[39m \u001b[36mtoTorchParameter\u001b[39m\n",
       "defined \u001b[32mfunction\u001b[39m \u001b[36mloadModelWeights\u001b[39m"
      ]
     },
     "execution_count": 28,
     "metadata": {},
     "output_type": "execute_result"
    }
   ],
   "source": [
    "type NpArray = py.Dynamic\n",
    "\n",
    "def toTorchParameter(npArray: NpArray) =\n",
    "  torch.nn.Parameter(torch.tensor(npArray))\n",
    "\n",
    "def loadModelWeights(model: Model): Unit =\n",
    "  variableNames.foreach { variableName =>\n",
    "    val variableValue = np.squeeze(tf.train.load_variable(checkpoint, variableName))\n",
    "    variableName.split(\"/\").drop(1).toList match {\n",
    "      case s\"h$transformerBlockIndexString\" :: tail =>\n",
    "        val transformerBlockIndex = transformerBlockIndexString.toInt\n",
    "        tail match {\n",
    "          case \"attn\" :: tail =>\n",
    "            val multiHeadAttention = model.transformerBlocksLayer.bracketAccess(transformerBlockIndex).multiHeadAttention\n",
    "            tail match {\n",
    "              case \"c_attn\" :: tail =>\n",
    "                val Seq(queryVariableValue, keyVariableValue, valueVariableValue) = np.split(variableValue, 3, axis = -1).as[Seq[NpArray]]\n",
    "                tail match {\n",
    "                  case \"b\" :: _ => \n",
    "                    multiHeadAttention.weightsQuery.bias = toTorchParameter(queryVariableValue)\n",
    "                    multiHeadAttention.weightsKey.bias = toTorchParameter(keyVariableValue)\n",
    "                    multiHeadAttention.weightsValue.bias = toTorchParameter(valueVariableValue)\n",
    "                  case \"w\" :: _ => \n",
    "                    multiHeadAttention.weightsQuery.weight = toTorchParameter(queryVariableValue.T)\n",
    "                    multiHeadAttention.weightsKey.weight = toTorchParameter(keyVariableValue.T)\n",
    "                    multiHeadAttention.weightsValue.weight = toTorchParameter(valueVariableValue.T)\n",
    "                }\n",
    "              case \"c_proj\" :: tail =>\n",
    "                tail match {\n",
    "                  case \"b\" :: _ => multiHeadAttention.outputProjection.bias = toTorchParameter(variableValue)\n",
    "                  case \"w\" :: _ => multiHeadAttention.outputProjection.weight = toTorchParameter(variableValue.T)\n",
    "                }\n",
    "            }\n",
    "          case \"ln_1\" :: tail =>\n",
    "            val normalization1 = model.transformerBlocksLayer.bracketAccess(transformerBlockIndex).normalization1\n",
    "            val torchParameter = toTorchParameter(variableValue)\n",
    "            tail match {\n",
    "              case \"b\" :: _ => normalization1.shift = torchParameter\n",
    "              case \"g\" :: _ => normalization1.scale = torchParameter\n",
    "            }\n",
    "          case \"ln_2\" :: tail =>\n",
    "            val normalization2 = model.transformerBlocksLayer.bracketAccess(transformerBlockIndex).normalization2\n",
    "            val torchParameter = toTorchParameter(variableValue)\n",
    "            tail match {\n",
    "              case \"b\" :: _ => normalization2.shift = torchParameter\n",
    "              case \"g\" :: _ => normalization2.scale = torchParameter\n",
    "            }\n",
    "          case \"mlp\" :: tail =>\n",
    "            val feedForward = model.transformerBlocksLayer.bracketAccess(transformerBlockIndex).feedForward\n",
    "            tail match {\n",
    "              case \"c_fc\" :: tail =>\n",
    "                val layer0 = feedForward.layers.bracketAccess(0)\n",
    "                tail match {\n",
    "                  case \"b\" :: _ => layer0.bias = toTorchParameter(variableValue)\n",
    "                  case \"w\" :: _ => layer0.weight = toTorchParameter(variableValue.T)\n",
    "                }\n",
    "              case \"c_proj\" :: tail =>\n",
    "                val layer2 = feedForward.layers.bracketAccess(2)\n",
    "                tail match {\n",
    "                  case \"b\" :: _ => layer2.bias = toTorchParameter(variableValue)\n",
    "                  case \"w\" :: _ => layer2.weight = toTorchParameter(variableValue.T)\n",
    "                }\n",
    "            }\n",
    "        }\n",
    "      case \"ln_f\" :: tail =>\n",
    "        val finalNormalizationLayer = model.finalNormalizationLayer\n",
    "        val torchParameter = toTorchParameter(variableValue)\n",
    "        tail match {\n",
    "          case \"b\" :: _ => finalNormalizationLayer.shift = torchParameter\n",
    "          case \"g\" :: _ => finalNormalizationLayer.scale = torchParameter\n",
    "        }\n",
    "      case \"wpe\" :: _ => model.positionEmbeddingLayer.weight = toTorchParameter(variableValue)\n",
    "      case \"wte\" :: _ => \n",
    "        val torchParameter = toTorchParameter(variableValue)\n",
    "        model.tokenEmbeddingLayer.weight = torchParameter\n",
    "        model.outputLayer.weight = torchParameter\n",
    "    }\n",
    "  }"
   ]
  },
  {
   "cell_type": "code",
   "execution_count": 29,
   "id": "c2d088fe-9916-4b26-8a8f-9b0c835e92bd",
   "metadata": {},
   "outputs": [
    {
     "data": {
      "text/plain": [
       "\u001b[36mmodel\u001b[39m: \u001b[32mModel\u001b[39m = GPTModel(\n",
       "  (tokenEmbeddingLayer): Embedding(50257, 768)\n",
       "  (positionEmbeddingLayer): Embedding(1024, 768)\n",
       "  (dropoutEmbeddingLayer): Dropout(p=0.1, inplace=False)\n",
       "  (transformerBlocksLayer): Sequential(\n",
       "    (0): TransformerBlock(\n",
       "      (multiHeadAttention): MultiHeadAttention(\n",
       "        (weightsQuery): Linear(in_features=768, out_features=768, bias=True)\n",
       "        (weightsKey): Linear(in_features=768, out_features=768, bias=True)\n",
       "        (weightsValue): Linear(in_features=768, out_features=768, bias=True)\n",
       "        (outputProjection): Linear(in_features=768, out_features=768, bias=True)\n",
       "        (dropout): Dropout(p=0.1, inplace=False)\n",
       "      )\n",
       "      (feedForward): FeedForward(\n",
       "        (layers): Sequential(\n",
       "          (0): Linear(in_features=768, out_features=3072, bias=True)\n",
       "          (1): GELU()\n",
       "          (2): Linear(in_features=3072, out_features=768, bias=True)\n",
       "        )\n",
       "      )\n",
       "      (normalization1): NormalizationLayer()\n",
       "      (normalization2): NormalizationLayer()\n",
       "      (dropoutShortcut): Dropout(p=0.1, inplace=False)\n",
       "    )\n",
       "    (1): TransformerBlock(\n",
       "      (multiHeadAttention): MultiHeadAttention(\n",
       "        (weightsQuery): Linear(in_features=768, out_features=768, bias=True)\n",
       "        (weightsKey): Linear(in_features=768, out_features=768, bias=True)\n",
       "        (weightsValue): Linear(in_features=768, out_features=768, bias=True)\n",
       "        (outputProjection): Linear(in_features=768, out_features=768, bias=True)\n",
       "        (dropout): Dropout(p=0.1, inplace=False)\n",
       "      )\n",
       "      (feedForward): FeedForward(\n",
       "        (layers): Sequential(\n",
       "          (0): Linear(in_features=768, out_features=3072, bias=True)\n",
       "          (1): GELU()\n",
       "          (2): Linear(in_features=3072, out_features=768, bias=True)\n",
       "        )\n",
       "      )\n",
       "...\n",
       "\u001b[36mdevice\u001b[39m: \u001b[32mpy\u001b[39m.\u001b[32mDynamic\u001b[39m = cpu\n",
       "\u001b[36mres29_3\u001b[39m: \u001b[32mpy\u001b[39m.\u001b[32mDynamic\u001b[39m = GPTModel(\n",
       "  (tokenEmbeddingLayer): Embedding(50257, 768)\n",
       "  (positionEmbeddingLayer): Embedding(1024, 768)\n",
       "  (dropoutEmbeddingLayer): Dropout(p=0.1, inplace=False)\n",
       "  (transformerBlocksLayer): Sequential(\n",
       "    (0): TransformerBlock(\n",
       "      (multiHeadAttention): MultiHeadAttention(\n",
       "        (weightsQuery): Linear(in_features=768, out_features=768, bias=True)\n",
       "        (weightsKey): Linear(in_features=768, out_features=768, bias=True)\n",
       "        (weightsValue): Linear(in_features=768, out_features=768, bias=True)\n",
       "        (outputProjection): Linear(in_features=768, out_features=768, bias=True)\n",
       "        (dropout): Dropout(p=0.1, inplace=False)\n",
       "      )\n",
       "      (feedForward): FeedForward(\n",
       "        (layers): Sequential(\n",
       "          (0): Linear(in_features=768, out_features=3072, bias=True)\n",
       "          (1): GELU()\n",
       "          (2): Linear(in_features=3072, out_features=768, bias=True)\n",
       "        )\n",
       "      )\n",
       "      (normalization1): NormalizationLayer()\n",
       "      (normalization2): NormalizationLayer()\n",
       "      (dropoutShortcut): Dropout(p=0.1, inplace=False)\n",
       "    )\n",
       "    (1): TransformerBlock(\n",
       "      (multiHeadAttention): MultiHeadAttention(\n",
       "        (weightsQuery): Linear(in_features=768, out_features=768, bias=True)\n",
       "        (weightsKey): Linear(in_features=768, out_features=768, bias=True)\n",
       "        (weightsValue): Linear(in_features=768, out_features=768, bias=True)\n",
       "        (outputProjection): Linear(in_features=768, out_features=768, bias=True)\n",
       "        (dropout): Dropout(p=0.1, inplace=False)\n",
       "      )\n",
       "      (feedForward): FeedForward(\n",
       "        (layers): Sequential(\n",
       "          (0): Linear(in_features=768, out_features=3072, bias=True)\n",
       "          (1): GELU()\n",
       "          (2): Linear(in_features=3072, out_features=768, bias=True)\n",
       "        )\n",
       "      )\n",
       "...\n",
       "\u001b[36mres29_4\u001b[39m: \u001b[32mpy\u001b[39m.\u001b[32mDynamic\u001b[39m = GPTModel(\n",
       "  (tokenEmbeddingLayer): Embedding(50257, 768)\n",
       "  (positionEmbeddingLayer): Embedding(1024, 768)\n",
       "  (dropoutEmbeddingLayer): Dropout(p=0.1, inplace=False)\n",
       "  (transformerBlocksLayer): Sequential(\n",
       "    (0): TransformerBlock(\n",
       "      (multiHeadAttention): MultiHeadAttention(\n",
       "        (weightsQuery): Linear(in_features=768, out_features=768, bias=True)\n",
       "        (weightsKey): Linear(in_features=768, out_features=768, bias=True)\n",
       "        (weightsValue): Linear(in_features=768, out_features=768, bias=True)\n",
       "        (outputProjection): Linear(in_features=768, out_features=768, bias=True)\n",
       "        (dropout): Dropout(p=0.1, inplace=False)\n",
       "      )\n",
       "      (feedForward): FeedForward(\n",
       "        (layers): Sequential(\n",
       "          (0): Linear(in_features=768, out_features=3072, bias=True)\n",
       "          (1): GELU()\n",
       "          (2): Linear(in_features=3072, out_features=768, bias=True)\n",
       "        )\n",
       "      )\n",
       "      (normalization1): NormalizationLayer()\n",
       "      (normalization2): NormalizationLayer()\n",
       "      (dropoutShortcut): Dropout(p=0.1, inplace=False)\n",
       "    )\n",
       "    (1): TransformerBlock(\n",
       "      (multiHeadAttention): MultiHeadAttention(\n",
       "        (weightsQuery): Linear(in_features=768, out_features=768, bias=True)\n",
       "        (weightsKey): Linear(in_features=768, out_features=768, bias=True)\n",
       "        (weightsValue): Linear(in_features=768, out_features=768, bias=True)\n",
       "        (outputProjection): Linear(in_features=768, out_features=768, bias=True)\n",
       "        (dropout): Dropout(p=0.1, inplace=False)\n",
       "      )\n",
       "      (feedForward): FeedForward(\n",
       "        (layers): Sequential(\n",
       "          (0): Linear(in_features=768, out_features=3072, bias=True)\n",
       "          (1): GELU()\n",
       "          (2): Linear(in_features=3072, out_features=768, bias=True)\n",
       "        )\n",
       "      )\n",
       "..."
      ]
     },
     "execution_count": 29,
     "metadata": {},
     "output_type": "execute_result"
    }
   ],
   "source": [
    "val model = GPTModel(gptConfig)\n",
    "loadModelWeights(model)\n",
    "val device = torch.device(if (torch.cuda.is_available().as[Boolean]) \"cuda\" else \"cpu\")\n",
    "model.to(device)\n",
    "model.eval()"
   ]
  },
  {
   "cell_type": "code",
   "execution_count": 30,
   "id": "0326838d-0cec-4330-9f6a-3972cd501fd0",
   "metadata": {},
   "outputs": [
    {
     "data": {
      "text/plain": [
       "defined \u001b[32mfunction\u001b[39m \u001b[36mtextToTokenIds\u001b[39m\n",
       "defined \u001b[32mfunction\u001b[39m \u001b[36mtokenIdsToText\u001b[39m\n",
       "defined \u001b[32mfunction\u001b[39m \u001b[36mgenerateTextSimple\u001b[39m"
      ]
     },
     "execution_count": 30,
     "metadata": {},
     "output_type": "execute_result"
    }
   ],
   "source": [
    "def textToTokenIds(\n",
    "  text: String, \n",
    "  tokenizer: Tokenizer\n",
    "): TorchTensor = {\n",
    "  val allowedSpecial = py.Dynamic.global.set(Seq(\"<|endoftext|>\").toPythonProxy)\n",
    "  val encodedText = tokenizer.encode(text, allowed_special = allowedSpecial)\n",
    "  torch.tensor(encodedText).unsqueeze(0)\n",
    "}\n",
    "    \n",
    "def tokenIdsToText(\n",
    "  tokenIds: TorchTensor, \n",
    "  tokenizer: Tokenizer\n",
    "): String =\n",
    "  tokenizer.decode(tokenIds.squeeze(0).tolist()).as[String]\n",
    "\n",
    "def generateTextSimple(\n",
    "  model: Model,\n",
    "  maxNewTokens: Int,\n",
    "  contextLength: Int\n",
    ")(\n",
    "  encodedInput: TorchTensor\n",
    "): TorchTensor =\n",
    "  LazyList.iterate(encodedInput) { currentEncodedOutput =>\n",
    "    val croppedInput = py\"$currentEncodedOutput[:, -$contextLength:]\"\n",
    "    val logits = py.`with`(torch.no_grad()) { _ =>\n",
    "      model(croppedInput)\n",
    "    }\n",
    "    py\"$logits[:, -1, :]\"\n",
    "      .pipe(torch.softmax(_, dim = -1))\n",
    "      .pipe(torch.argmax(_, dim = -1, keepdim = true))\n",
    "      .pipe(nextEncodedOutput => torch.cat((currentEncodedOutput, nextEncodedOutput), dim = 1))\n",
    "  }.drop(maxNewTokens).head"
   ]
  },
  {
   "cell_type": "code",
   "execution_count": 31,
   "id": "e05a5396-3059-414c-852d-cc5092ea59e3",
   "metadata": {},
   "outputs": [
    {
     "name": "stdout",
     "output_type": "stream",
     "text": [
      "Every effort moves you forward.\n",
      "\n",
      "The first step is to understand the importance of your work\n"
     ]
    },
    {
     "data": {
      "text/plain": [
       "\u001b[36mexampleText\u001b[39m: \u001b[32mString\u001b[39m = \u001b[32m\"Every effort moves you\"\u001b[39m\n",
       "\u001b[36mencodedText\u001b[39m: \u001b[32mTorchTensor\u001b[39m = tensor([[6109, 3626, 6100,  345]])\n",
       "\u001b[36mencodedTextOutput\u001b[39m: \u001b[32mTorchTensor\u001b[39m = tensor([[6109, 3626, 6100,  345, 2651,   13,  198,  198,  464,  717, 2239,  318,\n",
       "          284, 1833,  262, 6817,  286,  534,  670]])\n",
       "\u001b[36mdecodedTextOutput\u001b[39m: \u001b[32mString\u001b[39m = \u001b[32m\"\"\"Every effort moves you forward.\n",
       "\n",
       "The first step is to understand the importance of your work\"\"\"\u001b[39m"
      ]
     },
     "execution_count": 31,
     "metadata": {},
     "output_type": "execute_result"
    }
   ],
   "source": [
    "val exampleText = \"Every effort moves you\"\n",
    "val encodedText = textToTokenIds(exampleText, tokenizer)\n",
    "val encodedTextOutput = generateTextSimple(model, maxNewTokens = 15, contextLength = gptConfig.contextLength)(encodedText)\n",
    "val decodedTextOutput = tokenIdsToText(encodedTextOutput, tokenizer)\n",
    "println(decodedTextOutput)"
   ]
  },
  {
   "cell_type": "code",
   "execution_count": 32,
   "id": "75388780-9ff8-49f1-985f-f4958b339296",
   "metadata": {},
   "outputs": [
    {
     "name": "stdout",
     "output_type": "stream",
     "text": [
      "Is the following text spam? Answer with 'yes' or 'no': 'You are a winner you have been specially selected to receive $1000 cash or a $2000 award.'\n",
      "\n",
      "The following text spam? Answer with 'yes' or 'no': 'You are a winner you have\n"
     ]
    },
    {
     "data": {
      "text/plain": [
       "\u001b[36mspamClassificationPrompt\u001b[39m: \u001b[32mString\u001b[39m = \u001b[32m\"Is the following text spam? Answer with 'yes' or 'no': 'You are a winner you have been specially selected to receive $1000 cash or a $2000 award.'\"\u001b[39m\n",
       "\u001b[36mspamClassificationPromptAnswer\u001b[39m: \u001b[32mString\u001b[39m = \u001b[32m\"\"\"Is the following text spam? Answer with 'yes' or 'no': 'You are a winner you have been specially selected to receive $1000 cash or a $2000 award.'\n",
       "\n",
       "The following text spam? Answer with 'yes' or 'no': 'You are a winner you have\"\"\"\u001b[39m"
      ]
     },
     "execution_count": 32,
     "metadata": {},
     "output_type": "execute_result"
    }
   ],
   "source": [
    "val spamClassificationPrompt = \"Is the following text spam? Answer with 'yes' or 'no': 'You are a winner you have been specially selected to receive $1000 cash or a $2000 award.'\"\n",
    "val spamClassificationPromptAnswer = \n",
    "  textToTokenIds(spamClassificationPrompt, tokenizer)\n",
    "    .pipe(generateTextSimple(model, maxNewTokens = 23, contextLength = gptConfig.contextLength))\n",
    "    .pipe(tokenIdsToText(_, tokenizer))\n",
    "println(spamClassificationPromptAnswer)"
   ]
  },
  {
   "cell_type": "code",
   "execution_count": 33,
   "id": "8cb4db64-577c-48aa-9533-0c6a703bb6c1",
   "metadata": {},
   "outputs": [
    {
     "data": {
      "text/plain": [
       "\u001b[32mimport \u001b[39m\u001b[36mscala.annotation.tailrec\u001b[39m\n",
       "defined \u001b[32mfunction\u001b[39m \u001b[36mforeachPy\u001b[39m"
      ]
     },
     "execution_count": 33,
     "metadata": {},
     "output_type": "execute_result"
    }
   ],
   "source": [
    "import scala.annotation.tailrec\n",
    "\n",
    "def foreachPy(iterable: py.Dynamic)(f: py.Dynamic => Unit): Unit = {\n",
    "  val iterator = py\"iter($iterable)\"\n",
    "\n",
    "  @tailrec\n",
    "  def loop(): Unit = {\n",
    "    val currentValue = py\"next($iterator, None)\"\n",
    "    if (currentValue != py.Dynamic.global.None) {\n",
    "      f(currentValue)\n",
    "      loop()\n",
    "    }\n",
    "  }\n",
    "\n",
    "  loop()\n",
    "}"
   ]
  },
  {
   "cell_type": "code",
   "execution_count": 34,
   "id": "51a622c0-0d1b-4b74-9d4f-fc719e27de15",
   "metadata": {},
   "outputs": [
    {
     "data": {
      "text/plain": [
       "\u001b[36mres34_1\u001b[39m: \u001b[32mpy\u001b[39m.\u001b[32mDynamic\u001b[39m = <torch._C.Generator object at 0xffff7d328790>\n",
       "\u001b[36mclassesCount\u001b[39m: \u001b[32mInt\u001b[39m = \u001b[32m2\u001b[39m"
      ]
     },
     "execution_count": 34,
     "metadata": {},
     "output_type": "execute_result"
    }
   ],
   "source": [
    "foreachPy(model.parameters()) { parameter =>\n",
    "  parameter.requires_grad = false\n",
    "}\n",
    "\n",
    "torch.manual_seed(123)\n",
    "val classesCount = 2\n",
    "model.outputLayer = torch.nn.Linear(\n",
    "  in_features = gptConfig.embeddingDimension,\n",
    "  out_features = classesCount\n",
    ")\n",
    "\n",
    "foreachPy(model.transformerBlocksLayer.bracketAccess(-1).parameters()) { parameter =>\n",
    "  parameter.requires_grad = true\n",
    "}\n",
    "\n",
    "foreachPy(model.finalNormalizationLayer.parameters()) { parameter =>\n",
    "  parameter.requires_grad = true\n",
    "}"
   ]
  },
  {
   "cell_type": "code",
   "execution_count": 35,
   "id": "bc38427f-3f23-47bf-b56a-1f18d832f81f",
   "metadata": {},
   "outputs": [
    {
     "data": {
      "text/plain": [
       "defined \u001b[32mtype\u001b[39m \u001b[36mDevice\u001b[39m\n",
       "defined \u001b[32mtype\u001b[39m \u001b[36mDataLoader\u001b[39m\n",
       "defined \u001b[32mfunction\u001b[39m \u001b[36mcalculateDataLoaderAccuracy\u001b[39m"
      ]
     },
     "execution_count": 35,
     "metadata": {},
     "output_type": "execute_result"
    }
   ],
   "source": [
    "type Device = py.Dynamic\n",
    "type DataLoader = py.Dynamic\n",
    "\n",
    "def calculateDataLoaderAccuracy(\n",
    "  model: Model,\n",
    "  device: Device\n",
    ")(\n",
    "  dataLoader: DataLoader,\n",
    "  batchesCountOpt: Option[Int] = None\n",
    "): Double = { \n",
    "  val batchesCount = batchesCountOpt match {\n",
    "    case Some(batchesCount) => batchesCount\n",
    "    case None => py\"len($dataLoader)\".as[Int]\n",
    "  }\n",
    "  assert(batchesCount > 0, \"There were no batches to process\")\n",
    "  var correctPredictions = 0\n",
    "  var examplesSeen = 0\n",
    "  var currentBatchIndex = 0\n",
    "  foreachPy(dataLoader) { currentBatch =>\n",
    "    if (currentBatchIndex < batchesCount) \n",
    "      py.local {\n",
    "        val Seq(inputBatch, targetBatch) = currentBatch.as[Seq[TorchTensor]]\n",
    "        val logits = py.`with`(torch.no_grad()) { _ =>\n",
    "          model(inputBatch.to(device))\n",
    "        }\n",
    "        val predictedClasses = torch.argmax(py\"$logits[:, -1, :]\", dim = -1)\n",
    "        examplesSeen += predictedClasses.shape.bracketAccess(0).as[Int]\n",
    "        correctPredictions += py\"$predictedClasses == $targetBatch\".sum().item().as[Int]\n",
    "      }\n",
    "    currentBatchIndex += 1\n",
    "  }\n",
    "  correctPredictions.toDouble / examplesSeen\n",
    "}"
   ]
  },
  {
   "cell_type": "code",
   "execution_count": 36,
   "id": "c1307302-ee7e-4eb4-8ca7-d871baa17ff3",
   "metadata": {},
   "outputs": [
    {
     "name": "stdout",
     "output_type": "stream",
     "text": [
      "Training accuracy: 52.50%\n",
      "Validation accuracy: 50.00%\n",
      "Test accuracy: 52.50%\n"
     ]
    },
    {
     "data": {
      "text/plain": [
       "\u001b[36mres36_0\u001b[39m: \u001b[32mpy\u001b[39m.\u001b[32mDynamic\u001b[39m = <torch._C.Generator object at 0xffff7d328790>\n",
       "\u001b[36mtrainingAccuracy\u001b[39m: \u001b[32mDouble\u001b[39m = \u001b[32m0.525\u001b[39m\n",
       "\u001b[36mvalidationAccuracy\u001b[39m: \u001b[32mDouble\u001b[39m = \u001b[32m0.5\u001b[39m\n",
       "\u001b[36mtestAccuracy\u001b[39m: \u001b[32mDouble\u001b[39m = \u001b[32m0.525\u001b[39m"
      ]
     },
     "execution_count": 36,
     "metadata": {},
     "output_type": "execute_result"
    }
   ],
   "source": [
    "torch.manual_seed(123)\n",
    "\n",
    "val trainingAccuracy = calculateDataLoaderAccuracy(model, device)(trainingLoader, batchesCountOpt = Some(10))\n",
    "println(f\"Training accuracy: ${trainingAccuracy * 100}%.2f%%\")\n",
    "val validationAccuracy = calculateDataLoaderAccuracy(model, device)(validationLoader, batchesCountOpt = Some(10))\n",
    "println(f\"Validation accuracy: ${validationAccuracy * 100}%.2f%%\")\n",
    "val testAccuracy = calculateDataLoaderAccuracy(model, device)(testLoader, batchesCountOpt = Some(10))\n",
    "println(f\"Test accuracy: ${testAccuracy * 100}%.2f%%\")"
   ]
  },
  {
   "cell_type": "code",
   "execution_count": 37,
   "id": "4d94da9a-a636-467b-9194-d110d1eef072",
   "metadata": {},
   "outputs": [
    {
     "data": {
      "text/plain": [
       "defined \u001b[32mfunction\u001b[39m \u001b[36mcalculateBatchLoss\u001b[39m\n",
       "defined \u001b[32mfunction\u001b[39m \u001b[36mcalculateDataLoaderLoss\u001b[39m"
      ]
     },
     "execution_count": 37,
     "metadata": {},
     "output_type": "execute_result"
    }
   ],
   "source": [
    "def calculateBatchLoss(\n",
    "  model: Model,\n",
    "  device: Device\n",
    ")(\n",
    "  inputBatch: TorchTensor,\n",
    "  targetBatch: TorchTensor\n",
    "): TorchTensor = {\n",
    "  val logits = model(inputBatch.to(device))\n",
    "  torch.nn.functional.cross_entropy(py\"$logits[:, -1, :]\", targetBatch.to(device))\n",
    "}\n",
    "\n",
    "def calculateDataLoaderLoss(\n",
    "  model: Model,\n",
    "  device: Device\n",
    ")(\n",
    "  dataLoader: DataLoader,\n",
    "  batchesCountOpt: Option[Int] = None\n",
    "): Double = { \n",
    "  val batchesCount = batchesCountOpt match {\n",
    "    case Some(batchesCount) => batchesCount\n",
    "    case None => py\"len($dataLoader)\".as[Int]\n",
    "  }\n",
    "  assert(batchesCount > 0, \"There were no batches to process\")\n",
    "  var totalLoss = 0.0\n",
    "  var currentBatchIndex = 0\n",
    "  foreachPy(dataLoader) { currentBatch =>\n",
    "    if (currentBatchIndex < batchesCount) \n",
    "      py.local {\n",
    "        val Seq(inputBatch, targetBatch) = currentBatch.as[Seq[TorchTensor]]\n",
    "        totalLoss += calculateBatchLoss(model, device)(inputBatch, targetBatch).item().as[Double]\n",
    "      }\n",
    "    currentBatchIndex += 1\n",
    "  }\n",
    "  totalLoss / batchesCount\n",
    "}"
   ]
  },
  {
   "cell_type": "code",
   "execution_count": 38,
   "id": "59857197-4ef6-4ed8-ac2e-b973fe2381cf",
   "metadata": {},
   "outputs": [
    {
     "name": "stdout",
     "output_type": "stream",
     "text": [
      "Training loss: 3.1634958267211912\n",
      "Validation loss: 2.2531158447265627\n",
      "Test loss: 2.016782987117767\n"
     ]
    }
   ],
   "source": [
    "py.`with`(torch.no_grad()) { _ =>\n",
    "  val trainingLoss = calculateDataLoaderLoss(model, device)(trainingLoader, batchesCountOpt = Some(5))\n",
    "  println(s\"Training loss: $trainingLoss\")\n",
    "  val validationLoss = calculateDataLoaderLoss(model, device)(validationLoader, batchesCountOpt = Some(5))\n",
    "  println(s\"Validation loss: $validationLoss\")\n",
    "  val testLoss = calculateDataLoaderLoss(model, device)(testLoader, batchesCountOpt = Some(5))\n",
    "  println(s\"Test loss: $testLoss\")\n",
    "}"
   ]
  },
  {
   "cell_type": "code",
   "execution_count": 39,
   "id": "c2629323-80e7-4a4d-8473-590f27fb3eb0",
   "metadata": {},
   "outputs": [
    {
     "data": {
      "text/plain": [
       "defined \u001b[32mclass\u001b[39m \u001b[36mLoss\u001b[39m\n",
       "defined \u001b[32mclass\u001b[39m \u001b[36mTrainingStep\u001b[39m\n",
       "defined \u001b[32mclass\u001b[39m \u001b[36mAccuracy\u001b[39m\n",
       "defined \u001b[32mclass\u001b[39m \u001b[36mTrainingEpoch\u001b[39m\n",
       "defined \u001b[32mclass\u001b[39m \u001b[36mModelEvaluator\u001b[39m\n",
       "defined \u001b[32mtype\u001b[39m \u001b[36mOptimizer\u001b[39m\n",
       "defined \u001b[32mfunction\u001b[39m \u001b[36mtrainClassifierSimple\u001b[39m"
      ]
     },
     "execution_count": 39,
     "metadata": {},
     "output_type": "execute_result"
    }
   ],
   "source": [
    "case class Loss(\n",
    "  trainingLoss: Double,\n",
    "  validationLoss: Double\n",
    ")\n",
    "\n",
    "case class TrainingStep(\n",
    "  loss: Loss,\n",
    "  examplesSeen: Long\n",
    ")\n",
    "\n",
    "case class Accuracy(\n",
    "  trainingAccuracy: Double,\n",
    "  validationAccuracy: Double\n",
    ")\n",
    "\n",
    "case class TrainingEpoch(\n",
    "  trainingSteps: List[TrainingStep],\n",
    "  accuracy: Accuracy\n",
    ")\n",
    "\n",
    "class ModelEvaluator(\n",
    "  device: Device,\n",
    "  trainingLoader: DataLoader,\n",
    "  validationLoader: DataLoader,\n",
    "  evaluationEpochsCount: Int,\n",
    "  evaluationFrequencySteps: Int\n",
    ") {\n",
    "\n",
    "  def calculateLossCond(currentStep: Int)(model: Model): Option[Loss] =\n",
    "    Option.when(currentStep % evaluationFrequencySteps == 0) {\n",
    "      println(s\"Step $currentStep\")\n",
    "      calculateLoss(model)\n",
    "    }\n",
    "    \n",
    "  def calculateLoss(model: Model): Loss = {\n",
    "    model.eval()\n",
    "    py.`with`(torch.no_grad()) { _ =>\n",
    "      val trainingLoss = calculateDataLoaderLoss(model, device)(trainingLoader, batchesCountOpt = Some(evaluationEpochsCount))\n",
    "      val validationLoss = calculateDataLoaderLoss(model, device)(validationLoader, batchesCountOpt = Some(evaluationEpochsCount))\n",
    "      println(\n",
    "        s\"\"\"- training loss: $trainingLoss\n",
    "           |- validation loss: $validationLoss\"\"\".stripMargin\n",
    "      )\n",
    "      model.train()\n",
    "      Loss(trainingLoss, validationLoss)\n",
    "    }\n",
    "  }\n",
    "\n",
    "  def calculateAccuracy(model: Model): Accuracy = {\n",
    "    model.eval()\n",
    "    py.`with`(torch.no_grad()) { _ =>\n",
    "      val trainingAccuracy = calculateDataLoaderAccuracy(model, device)(trainingLoader, batchesCountOpt = Some(evaluationEpochsCount))\n",
    "      val validationAccuracy = calculateDataLoaderAccuracy(model, device)(validationLoader, batchesCountOpt = Some(evaluationEpochsCount))\n",
    "      println(\n",
    "        f\"\"\"Training accuracy: ${trainingAccuracy * 100}%.2f%%\n",
    "           |Validation accuracy: ${validationAccuracy * 100}%.2f%%\"\"\".stripMargin\n",
    "      )\n",
    "      model.train()\n",
    "      Accuracy(trainingAccuracy, validationAccuracy)\n",
    "    }\n",
    "  }\n",
    "}\n",
    "\n",
    "type Optimizer = py.Dynamic\n",
    "def trainClassifierSimple(\n",
    "  model: Model,\n",
    "  device: Device,\n",
    "  trainingLoader: DataLoader,\n",
    "  validationLoader: DataLoader,\n",
    "  optimizer: Optimizer,\n",
    "  epochsCount: Int,\n",
    "  modelEvaluator: ModelEvaluator\n",
    "): List[TrainingEpoch] = {\n",
    "  var stepsCount = 0\n",
    "  var examplesSeen = 0L\n",
    "  val trainingEpochs =\n",
    "    for {\n",
    "      epoch <- 1 to epochsCount\n",
    "    } yield py.local {\n",
    "      println(s\"=> Epoch $epoch\")\n",
    "      model.train()\n",
    "      val trainingSteps = mutable.ListBuffer[TrainingStep]()\n",
    "      foreachPy(trainingLoader) { batch =>\n",
    "        py.local {\n",
    "          val Seq(inputBatch, targetBatch) = batch.as[Seq[TorchTensor]]\n",
    "          optimizer.zero_grad()\n",
    "          val loss = calculateBatchLoss(model, device)(inputBatch, targetBatch)\n",
    "          loss.backward()\n",
    "          optimizer.step()\n",
    "          stepsCount += 1\n",
    "          examplesSeen += inputBatch.shape.bracketAccess(0).as[Long]\n",
    "          modelEvaluator.calculateLossCond(stepsCount)(model).foreach { loss =>\n",
    "            trainingSteps.append(TrainingStep(loss, examplesSeen))\n",
    "          }\n",
    "        }\n",
    "      }\n",
    "      val accuracy = py.local(modelEvaluator.calculateAccuracy(model))\n",
    "      TrainingEpoch(trainingSteps.toList, accuracy)\n",
    "    }\n",
    "  trainingEpochs.toList\n",
    "}"
   ]
  },
  {
   "cell_type": "code",
   "execution_count": 40,
   "id": "bccab35b-3b51-4db7-83f3-3e73b60912a4",
   "metadata": {},
   "outputs": [
    {
     "data": {
      "text/plain": [
       "\u001b[36mres40_0\u001b[39m: \u001b[32mpy\u001b[39m.\u001b[32mDynamic\u001b[39m = <torch._C.Generator object at 0xffff7d328790>\n",
       "\u001b[36mmodel\u001b[39m: \u001b[32mModel\u001b[39m = GPTModel(\n",
       "  (tokenEmbeddingLayer): Embedding(50257, 768)\n",
       "  (positionEmbeddingLayer): Embedding(1024, 768)\n",
       "  (dropoutEmbeddingLayer): Dropout(p=0.1, inplace=False)\n",
       "  (transformerBlocksLayer): Sequential(\n",
       "    (0): TransformerBlock(\n",
       "      (multiHeadAttention): MultiHeadAttention(\n",
       "        (weightsQuery): Linear(in_features=768, out_features=768, bias=True)\n",
       "        (weightsKey): Linear(in_features=768, out_features=768, bias=True)\n",
       "        (weightsValue): Linear(in_features=768, out_features=768, bias=True)\n",
       "        (outputProjection): Linear(in_features=768, out_features=768, bias=True)\n",
       "        (dropout): Dropout(p=0.1, inplace=False)\n",
       "      )\n",
       "      (feedForward): FeedForward(\n",
       "        (layers): Sequential(\n",
       "          (0): Linear(in_features=768, out_features=3072, bias=True)\n",
       "          (1): GELU()\n",
       "          (2): Linear(in_features=3072, out_features=768, bias=True)\n",
       "        )\n",
       "      )\n",
       "      (normalization1): NormalizationLayer()\n",
       "      (normalization2): NormalizationLayer()\n",
       "      (dropoutShortcut): Dropout(p=0.1, inplace=False)\n",
       "    )\n",
       "    (1): TransformerBlock(\n",
       "      (multiHeadAttention): MultiHeadAttention(\n",
       "        (weightsQuery): Linear(in_features=768, out_features=768, bias=True)\n",
       "        (weightsKey): Linear(in_features=768, out_features=768, bias=True)\n",
       "        (weightsValue): Linear(in_features=768, out_features=768, bias=True)\n",
       "        (outputProjection): Linear(in_features=768, out_features=768, bias=True)\n",
       "        (dropout): Dropout(p=0.1, inplace=False)\n",
       "      )\n",
       "      (feedForward): FeedForward(\n",
       "        (layers): Sequential(\n",
       "          (0): Linear(in_features=768, out_features=3072, bias=True)\n",
       "          (1): GELU()\n",
       "          (2): Linear(in_features=3072, out_features=768, bias=True)\n",
       "        )\n",
       "      )\n",
       "...\n",
       "\u001b[36mres40_2\u001b[39m: \u001b[32mpy\u001b[39m.\u001b[32mDynamic\u001b[39m = GPTModel(\n",
       "  (tokenEmbeddingLayer): Embedding(50257, 768)\n",
       "  (positionEmbeddingLayer): Embedding(1024, 768)\n",
       "  (dropoutEmbeddingLayer): Dropout(p=0.1, inplace=False)\n",
       "  (transformerBlocksLayer): Sequential(\n",
       "    (0): TransformerBlock(\n",
       "      (multiHeadAttention): MultiHeadAttention(\n",
       "        (weightsQuery): Linear(in_features=768, out_features=768, bias=True)\n",
       "        (weightsKey): Linear(in_features=768, out_features=768, bias=True)\n",
       "        (weightsValue): Linear(in_features=768, out_features=768, bias=True)\n",
       "        (outputProjection): Linear(in_features=768, out_features=768, bias=True)\n",
       "        (dropout): Dropout(p=0.1, inplace=False)\n",
       "      )\n",
       "      (feedForward): FeedForward(\n",
       "        (layers): Sequential(\n",
       "          (0): Linear(in_features=768, out_features=3072, bias=True)\n",
       "          (1): GELU()\n",
       "          (2): Linear(in_features=3072, out_features=768, bias=True)\n",
       "        )\n",
       "      )\n",
       "      (normalization1): NormalizationLayer()\n",
       "      (normalization2): NormalizationLayer()\n",
       "      (dropoutShortcut): Dropout(p=0.1, inplace=False)\n",
       "    )\n",
       "    (1): TransformerBlock(\n",
       "      (multiHeadAttention): MultiHeadAttention(\n",
       "        (weightsQuery): Linear(in_features=768, out_features=768, bias=True)\n",
       "        (weightsKey): Linear(in_features=768, out_features=768, bias=True)\n",
       "        (weightsValue): Linear(in_features=768, out_features=768, bias=True)\n",
       "        (outputProjection): Linear(in_features=768, out_features=768, bias=True)\n",
       "        (dropout): Dropout(p=0.1, inplace=False)\n",
       "      )\n",
       "      (feedForward): FeedForward(\n",
       "        (layers): Sequential(\n",
       "          (0): Linear(in_features=768, out_features=3072, bias=True)\n",
       "          (1): GELU()\n",
       "          (2): Linear(in_features=3072, out_features=768, bias=True)\n",
       "        )\n",
       "      )\n",
       "...\n",
       "\u001b[36moptimizer\u001b[39m: \u001b[32mpy\u001b[39m.\u001b[32mDynamic\u001b[39m = AdamW (\n",
       "Parameter Group 0\n",
       "    amsgrad: False\n",
       "    betas: (0.9, 0.999)\n",
       "    capturable: False\n",
       "    differentiable: False\n",
       "    eps: 1e-08\n",
       "    foreach: None\n",
       "    fused: None\n",
       "    lr: 5e-05\n",
       "    maximize: False\n",
       "    weight_decay: 0.1\n",
       ")\n",
       "\u001b[36mepochsCount\u001b[39m: \u001b[32mInt\u001b[39m = \u001b[32m2\u001b[39m\n",
       "\u001b[36mmodelEvaluator\u001b[39m: \u001b[32mModelEvaluator\u001b[39m = ammonite.$sess.cmd39$Helper$ModelEvaluator@29d59e30"
      ]
     },
     "execution_count": 40,
     "metadata": {},
     "output_type": "execute_result"
    }
   ],
   "source": [
    "torch.manual_seed(123)\n",
    "val model = GPTModel(gptConfig)\n",
    "model.to(device)\n",
    "val optimizer = torch.optim.AdamW(model.parameters(), lr = 5e-5, weight_decay = 0.1)\n",
    "// val epochsCount = 5\n",
    "val epochsCount = 2 // Simplification to speed up the training\n",
    "val modelEvaluator = new ModelEvaluator(\n",
    "  device = device, \n",
    "  trainingLoader = trainingLoader, \n",
    "  validationLoader = validationLoader, \n",
    "  // evaluationEpochsCount = 5,\n",
    "  evaluationEpochsCount = 1, // Simplification to speed up the training\n",
    "  // evaluationFrequencySteps = 50\n",
    "  evaluationFrequencySteps = 100 // Simplification to speed up the training\n",
    ")"
   ]
  },
  {
   "cell_type": "code",
   "execution_count": 41,
   "id": "e7daf94b-2a8c-4e9d-ba41-434f69464195",
   "metadata": {},
   "outputs": [
    {
     "name": "stdout",
     "output_type": "stream",
     "text": [
      "=> Epoch 1\n",
      "Step 100\n",
      "- training loss: 0.6838432550430298\n",
      "- validation loss: 0.8626684546470642\n",
      "Training accuracy: 100.00%\n",
      "Validation accuracy: 87.50%\n",
      "=> Epoch 2\n",
      "Step 200\n",
      "- training loss: 0.8825293779373169\n",
      "- validation loss: 0.47962766885757446\n",
      "Training accuracy: 100.00%\n",
      "Validation accuracy: 100.00%\n"
     ]
    },
    {
     "data": {
      "text/plain": [
       "\u001b[36mtrainingEpochs\u001b[39m: \u001b[32mList\u001b[39m[\u001b[32mTrainingEpoch\u001b[39m] = \u001b[33mList\u001b[39m(\n",
       "  \u001b[33mTrainingEpoch\u001b[39m(\n",
       "    trainingSteps = \u001b[33mList\u001b[39m(\n",
       "      \u001b[33mTrainingStep\u001b[39m(\n",
       "        loss = \u001b[33mLoss\u001b[39m(\n",
       "          trainingLoss = \u001b[32m0.6838432550430298\u001b[39m,\n",
       "          validationLoss = \u001b[32m0.8626684546470642\u001b[39m\n",
       "        ),\n",
       "        examplesSeen = \u001b[32m800L\u001b[39m\n",
       "      )\n",
       "    ),\n",
       "    accuracy = \u001b[33mAccuracy\u001b[39m(trainingAccuracy = \u001b[32m1.0\u001b[39m, validationAccuracy = \u001b[32m0.875\u001b[39m)\n",
       "  ),\n",
       "  \u001b[33mTrainingEpoch\u001b[39m(\n",
       "    trainingSteps = \u001b[33mList\u001b[39m(\n",
       "      \u001b[33mTrainingStep\u001b[39m(\n",
       "        loss = \u001b[33mLoss\u001b[39m(\n",
       "          trainingLoss = \u001b[32m0.8825293779373169\u001b[39m,\n",
       "          validationLoss = \u001b[32m0.47962766885757446\u001b[39m\n",
       "        ),\n",
       "        examplesSeen = \u001b[32m1600L\u001b[39m\n",
       "      )\n",
       "    ),\n",
       "    accuracy = \u001b[33mAccuracy\u001b[39m(trainingAccuracy = \u001b[32m1.0\u001b[39m, validationAccuracy = \u001b[32m1.0\u001b[39m)\n",
       "  )\n",
       ")"
      ]
     },
     "execution_count": 41,
     "metadata": {},
     "output_type": "execute_result"
    }
   ],
   "source": [
    "val trainingEpochs = trainClassifierSimple(model, device, trainingLoader, validationLoader, optimizer, epochsCount, modelEvaluator)"
   ]
  },
  {
   "cell_type": "code",
   "execution_count": 42,
   "id": "0283cb73-4871-4f9d-9d2f-2e593101fcf1",
   "metadata": {},
   "outputs": [
    {
     "name": "stdout",
     "output_type": "stream",
     "text": [
      "Requirement already satisfied: matplotlib==3.9.* in /usr/local/lib/python3.12/site-packages (3.9.4)\n",
      "Requirement already satisfied: contourpy>=1.0.1 in /usr/local/lib/python3.12/site-packages (from matplotlib==3.9.*) (1.3.1)\n",
      "Requirement already satisfied: cycler>=0.10 in /usr/local/lib/python3.12/site-packages (from matplotlib==3.9.*) (0.12.1)\n",
      "Requirement already satisfied: fonttools>=4.22.0 in /usr/local/lib/python3.12/site-packages (from matplotlib==3.9.*) (4.56.0)\n",
      "Requirement already satisfied: kiwisolver>=1.3.1 in /usr/local/lib/python3.12/site-packages (from matplotlib==3.9.*) (1.4.8)\n",
      "Requirement already satisfied: numpy>=1.23 in /usr/local/lib/python3.12/site-packages (from matplotlib==3.9.*) (1.26.4)\n",
      "Requirement already satisfied: packaging>=20.0 in /usr/local/lib/python3.12/site-packages (from matplotlib==3.9.*) (24.2)\n",
      "Requirement already satisfied: pillow>=8 in /usr/local/lib/python3.12/site-packages (from matplotlib==3.9.*) (11.1.0)\n",
      "Requirement already satisfied: pyparsing>=2.3.1 in /usr/local/lib/python3.12/site-packages (from matplotlib==3.9.*) (3.2.1)\n",
      "Requirement already satisfied: python-dateutil>=2.7 in /usr/local/lib/python3.12/site-packages (from matplotlib==3.9.*) (2.9.0.post0)\n",
      "Requirement already satisfied: six>=1.5 in /usr/local/lib/python3.12/site-packages (from python-dateutil>=2.7->matplotlib==3.9.*) (1.17.0)\n"
     ]
    },
    {
     "name": "stderr",
     "output_type": "stream",
     "text": [
      "WARNING: Running pip as the 'root' user can result in broken permissions and conflicting behaviour with the system package manager, possibly rendering your system unusable.It is recommended to use a virtual environment instead: https://pip.pypa.io/warnings/venv. Use the --root-user-action option if you know what you are doing and want to suppress this warning.\n",
      "\n",
      "[notice] A new release of pip is available: 24.3.1 -> 25.0.1\n",
      "[notice] To update, run: pip install --upgrade pip\n"
     ]
    }
   ],
   "source": [
    "Magic.!(\"pip\", \"install\", \"matplotlib==3.9.*\")"
   ]
  },
  {
   "cell_type": "code",
   "execution_count": 43,
   "id": "2daef9b2-8338-49b2-b2b3-d68f293b1bf3",
   "metadata": {},
   "outputs": [
    {
     "name": "stdout",
     "output_type": "stream",
     "text": [
      "Compiling /workspace/DisplaySupport.sc\n"
     ]
    },
    {
     "data": {
      "text/plain": [
       "\u001b[32mimport \u001b[39m\u001b[36m$file.$\u001b[39m"
      ]
     },
     "execution_count": 43,
     "metadata": {},
     "output_type": "execute_result"
    }
   ],
   "source": [
    "import $file.^.DisplaySupport"
   ]
  },
  {
   "cell_type": "code",
   "execution_count": 44,
   "id": "09296305-ccbe-451a-83e3-1ff9b83c24a8",
   "metadata": {},
   "outputs": [
    {
     "data": {
      "image/png": "[encoded data removed]"
     },
     "metadata": {},
     "output_type": "display_data"
    },
    {
     "data": {
      "image/png": "[encoded data removed]"
     },
     "metadata": {},
     "output_type": "display_data"
    },
    {
     "data": {
      "text/plain": [
       "\u001b[36mplot\u001b[39m: \u001b[32mpy\u001b[39m.\u001b[32mModule\u001b[39m = <module 'matplotlib.pyplot' from '/usr/local/lib/python3.12/site-packages/matplotlib/pyplot.py'>\n",
       "defined \u001b[32mtype\u001b[39m \u001b[36mFigure\u001b[39m\n",
       "defined \u001b[32mtype\u001b[39m \u001b[36mAxis\u001b[39m\n",
       "\u001b[36mlossExamplesSeen\u001b[39m: \u001b[32mList\u001b[39m[\u001b[32mLong\u001b[39m] = \u001b[33mList\u001b[39m(\u001b[32m800L\u001b[39m, \u001b[32m1600L\u001b[39m)\n",
       "\u001b[36mtrainingLoss\u001b[39m: \u001b[32mList\u001b[39m[\u001b[32mDouble\u001b[39m] = \u001b[33mList\u001b[39m(\u001b[32m0.6838432550430298\u001b[39m, \u001b[32m0.8825293779373169\u001b[39m)\n",
       "\u001b[36mvalidationLoss\u001b[39m: \u001b[32mList\u001b[39m[\u001b[32mDouble\u001b[39m] = \u001b[33mList\u001b[39m(\u001b[32m0.8626684546470642\u001b[39m, \u001b[32m0.47962766885757446\u001b[39m)\n",
       "\u001b[36maccuracyExamplesSeen\u001b[39m: \u001b[32mList\u001b[39m[\u001b[32mLong\u001b[39m] = \u001b[33mList\u001b[39m(\u001b[32m800L\u001b[39m, \u001b[32m1600L\u001b[39m)\n",
       "\u001b[36mtrainingAccuracy\u001b[39m: \u001b[32mList\u001b[39m[\u001b[32mDouble\u001b[39m] = \u001b[33mList\u001b[39m(\u001b[32m1.0\u001b[39m, \u001b[32m1.0\u001b[39m)\n",
       "\u001b[36mvalidationAccuracy\u001b[39m: \u001b[32mList\u001b[39m[\u001b[32mDouble\u001b[39m] = \u001b[33mList\u001b[39m(\u001b[32m0.875\u001b[39m, \u001b[32m1.0\u001b[39m)\n",
       "defined \u001b[32mfunction\u001b[39m \u001b[36mplotValues\u001b[39m"
      ]
     },
     "execution_count": 44,
     "metadata": {},
     "output_type": "execute_result"
    }
   ],
   "source": [
    "val plot = py.module(\"matplotlib.pyplot\")\n",
    "  \n",
    "type Figure = py.Dynamic\n",
    "type Axis = py.Dynamic\n",
    "\n",
    "val (lossExamplesSeen, trainingLoss, validationLoss) = trainingEpochs.flatMap(_.trainingSteps).map {\n",
    "  case TrainingStep(Loss(trainingLoss, validationLoss), examplesSeen) => (examplesSeen, trainingLoss, validationLoss)\n",
    "}.unzip3\n",
    "\n",
    "val (accuracyExamplesSeen, trainingAccuracy, validationAccuracy) = trainingEpochs.map {\n",
    "  case TrainingEpoch(trainingSteps, Accuracy(trainingAccuracy, validationAccuracy)) => \n",
    "    (trainingSteps.last.examplesSeen, trainingAccuracy, validationAccuracy)\n",
    "}.unzip3\n",
    "\n",
    "def plotValues(examplesSeen: List[Long], trainingValues: List[Double], validationValues: List[Double], label: String) =\n",
    "  try {\n",
    "    val epochs = torch.linspace(0, trainingEpochs.length, examplesSeen.length)\n",
    "    val (figure, axis1) = plot.subplots(figsize = (5, 3)).as[(Figure, Axis)]\n",
    "    axis1.plot(epochs, trainingValues.toPythonProxy, label = s\"Training $label\")\n",
    "    axis1.plot(epochs, validationValues.toPythonProxy, linestyle = \"-.\", label = s\"Validation $label\")\n",
    "    axis1.set_xlabel(\"Epochs\")\n",
    "    axis1.set_ylabel(label.capitalize)\n",
    "    axis1.legend()\n",
    "    val axis2 = axis1.twiny()\n",
    "    axis2.plot(examplesSeen.toPythonProxy, trainingValues.toPythonProxy, alpha = 0)\n",
    "    axis2.set_xlabel(\"Examples seen\")\n",
    "    figure.tight_layout()\n",
    "    DisplaySupport.showPlot(plot)\n",
    "  } catch {\n",
    "    case e: py.PythonException =>\n",
    "      println(\"(!) If the exception below says 'Numpy is not available', restart the Jupyter kernel. It's an issue with Matplotlib in Jupyter.\\n\")\n",
    "      throw e\n",
    "  }\n",
    "\n",
    "plotValues(lossExamplesSeen, trainingLoss, validationLoss, label = \"loss\")\n",
    "plotValues(accuracyExamplesSeen, trainingAccuracy, validationAccuracy, label = \"accuracy\")"
   ]
  },
  {
   "cell_type": "code",
   "execution_count": 45,
   "id": "64e012e0-e163-4934-bca9-8b9e91ab03d0",
   "metadata": {},
   "outputs": [
    {
     "name": "stdout",
     "output_type": "stream",
     "text": [
      "Training accuracy: 98.75%\n",
      "Validation accuracy: 95.00%\n",
      "Test accuracy: 93.75%\n"
     ]
    },
    {
     "data": {
      "text/plain": [
       "\u001b[36mtrainingAccuracy\u001b[39m: \u001b[32mDouble\u001b[39m = \u001b[32m0.9875\u001b[39m\n",
       "\u001b[36mvalidationAccuracy\u001b[39m: \u001b[32mDouble\u001b[39m = \u001b[32m0.95\u001b[39m\n",
       "\u001b[36mtestAccuracy\u001b[39m: \u001b[32mDouble\u001b[39m = \u001b[32m0.9375\u001b[39m"
      ]
     },
     "execution_count": 45,
     "metadata": {},
     "output_type": "execute_result"
    }
   ],
   "source": [
    "val trainingAccuracy = calculateDataLoaderAccuracy(model, device)(trainingLoader, batchesCountOpt = Some(10))\n",
    "println(f\"Training accuracy: ${trainingAccuracy * 100}%.2f%%\")\n",
    "val validationAccuracy = calculateDataLoaderAccuracy(model, device)(validationLoader, batchesCountOpt = Some(10))\n",
    "println(f\"Validation accuracy: ${validationAccuracy * 100}%.2f%%\")\n",
    "val testAccuracy = calculateDataLoaderAccuracy(model, device)(testLoader, batchesCountOpt = Some(10))\n",
    "println(f\"Test accuracy: ${testAccuracy * 100}%.2f%%\")"
   ]
  },
  {
   "cell_type": "code",
   "execution_count": 53,
   "id": "252ad17d-6123-4fa7-a604-bc506d66bdac",
   "metadata": {},
   "outputs": [
    {
     "name": "stdout",
     "output_type": "stream",
     "text": [
      "[SPAM] You are a winner you have been specially selected to receive $1000 cash or a $2000 award.\n",
      "\n",
      "Hey, just wanted to check if we're still on for dinner tonight? Let me know!\n"
     ]
    },
    {
     "data": {
      "text/plain": [
       "defined \u001b[32mfunction\u001b[39m \u001b[36mclassifySpam\u001b[39m\n",
       "\u001b[36mtext1\u001b[39m: \u001b[32mString\u001b[39m = \u001b[32m\"You are a winner you have been specially selected to receive $1000 cash or a $2000 award.\"\u001b[39m\n",
       "\u001b[36mtext2\u001b[39m: \u001b[32mString\u001b[39m = \u001b[32m\"Hey, just wanted to check if we're still on for dinner tonight? Let me know!\"\u001b[39m"
      ]
     },
     "execution_count": 53,
     "metadata": {},
     "output_type": "execute_result"
    }
   ],
   "source": [
    "def classifySpam(\n",
    "  model: Model,\n",
    "  tokenizer: Tokenizer,\n",
    "  maxLength: Option[Int] = None,\n",
    "  paddingTokenId: Int = 50_256\n",
    ")(\n",
    "  text: String\n",
    ") = {\n",
    "  model.eval()\n",
    "  val encodedText = tokenizer.encode(text).as[Seq[Int]].toVector\n",
    "  val padToLength = maxLength.getOrElse(trainingDataset.maxLength.as[Int])\n",
    "  val paddedEncodedText = encodedText.padTo(padToLength, paddingTokenId)\n",
    "  val inputTensor = torch.tensor(paddedEncodedText.toPythonProxy).unsqueeze(0)\n",
    "  val logits = py.`with`(torch.no_grad()) { _ =>\n",
    "    model(inputTensor)\n",
    "  }\n",
    "  val predictedClass = torch.argmax(py\"$logits[:, -1, :]\", dim = -1).item().as[Int]\n",
    "  if (predictedClass == 1)\n",
    "    print(\"[SPAM] \")\n",
    "  println(text)\n",
    "}\n",
    "\n",
    "val text1 = \"You are a winner you have been specially selected to receive $1000 cash or a $2000 award.\"\n",
    "classifySpam(model, tokenizer)(text1)\n",
    "\n",
    "println()\n",
    "\n",
    "val text2 = \"Hey, just wanted to check if we're still on for dinner tonight? Let me know!\"\n",
    "classifySpam(model, tokenizer)(text2)"
   ]
  },
  {
   "cell_type": "code",
   "execution_count": null,
   "id": "880bd092-6191-4a9f-98c9-657fb36ade70",
   "metadata": {},
   "outputs": [],
   "source": []
  }
 ],
 "metadata": {
  "kernelspec": {
   "display_name": "Scala 2.13.14",
   "language": "scala",
   "name": "scala"
  },
  "language_info": {
   "codemirror_mode": "text/x-scala",
   "file_extension": ".sc",
   "mimetype": "text/x-scala",
   "name": "scala",
   "nbconvert_exporter": "script",
   "version": "2.13.14"
  }
 },
 "nbformat": 4,
 "nbformat_minor": 5
}
