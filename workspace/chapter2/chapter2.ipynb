{
 "cells": [
  {
   "cell_type": "code",
   "execution_count": 5,
   "id": "ee7f466c-940b-4615-b173-79c22ad855b4",
   "metadata": {},
   "outputs": [
    {
     "name": "stdout",
     "output_type": "stream",
     "text": [
      "Read 20479 characters from data/the_verdict.txt\n"
     ]
    },
    {
     "data": {
      "text/plain": [
       "\u001b[32mimport \u001b[39m\u001b[36mscala.io.Source\u001b[39m\n",
       "\u001b[36mfilePath\u001b[39m: \u001b[32mString\u001b[39m = \u001b[32m\"data/the_verdict.txt\"\u001b[39m\n",
       "\u001b[36mrawText\u001b[39m: \u001b[32mString\u001b[39m = \u001b[32m\"\"\"I HAD always thought Jack Gisburn rather a cheap genius--though a good fellow enough--so it was no great surprise to me to hear that, in the height of his glory, he had dropped his painting, married a rich widow, and established himself in a villa on the Riviera. (Though I rather thought it would have been Rome or Florence.)\n",
       "\n",
       "\"The height of his glory\"--that was what the women called it. I can hear Mrs. Gideon Thwing--his last Chicago sitter--deploring his unaccountable abdication. \"Of course it's going to send the value of my picture 'way up; but I don't think of that, Mr. Rickham--the loss to Arrt is all I think of.\" The word, on Mrs. Thwing's lips, multiplied its _rs_ as though they were reflected in an endless vista of mirrors. And it was not only the Mrs. Thwings who mourned. Had not the exquisite Hermia Croft, at the last Grafton Gallery show, stopped me before Gisburn's \"Moon-dancers\" to say, with tears in her eyes: \"We shall not look upon its like again\"?\n",
       "\n",
       "Well!--even through the prism of Hermia's tears I felt able to face the fact with equanimity. Poor Jack Gisburn! The women had made him--it was fitting that they should mourn him. Among his own sex fewer regrets were heard, and in his own trade hardly a murmur. Professional jealousy? Perhaps. If it were, the honour of the craft was vindicated by little Claude Nutley, who, in all good faith, brought out in the Burlington a very handsome \"obituary\" on Jack--one of those showy articles stocked with random technicalities that I have heard (I won't say by whom) compared to Gisburn's painting. And so--his resolve being apparently irrevocable--the discussion gradually died out, and, as Mrs. Thwing had predicted, the price of \"Gisburns\" went up.\n",
       "\n",
       "It was not till three years later that, in the course of a few weeks' idling on the Riviera, it suddenly occurred to me to wonder why Gisburn had given up his painting. On reflection, it really was a tempting problem. To accuse his wife would have been too easy--his fair sitters had been denied the solace of saying that Mrs. Gisburn had \"dragged him down.\" For Mrs. Gisburn--as such--had not existed till nearly a year after Jack's resolve had been taken. It might be that he had married her--since he liked his ease--because he didn't want to go on painting; but it would have been hard to prove that he had given up his painting because he had married her.\n",
       "\n",
       "Of course, if she had not dragged him down, she had equally, as Miss Croft contended, failed to \"lift him up\"--she had not led him back to the easel. To put the\u001b[39m..."
      ]
     },
     "execution_count": 5,
     "metadata": {},
     "output_type": "execute_result"
    }
   ],
   "source": [
    "import scala.io.Source\n",
    "\n",
    "val filePath = \"data/the_verdict.txt\"\n",
    "val rawText = Source.fromFile(filePath).mkString\n",
    "\n",
    "println(s\"Read ${rawText.length} characters from $filePath\")"
   ]
  },
  {
   "cell_type": "code",
   "execution_count": 6,
   "id": "7a9979c3-f35c-4e06-ac9a-33e38e46782b",
   "metadata": {},
   "outputs": [
    {
     "name": "stdout",
     "output_type": "stream",
     "text": [
      "Vector(Hello, ,, world, ., Is, this, --, a, test, ?)\n"
     ]
    },
    {
     "data": {
      "text/plain": [
       "defined \u001b[32mfunction\u001b[39m \u001b[36mtokenize\u001b[39m"
      ]
     },
     "execution_count": 6,
     "metadata": {},
     "output_type": "execute_result"
    }
   ],
   "source": [
    "def tokenize(text: String): Vector[String] = {\n",
    "  val splitBy = \"\"\"[,.:;?_!\"()\\']|--|\\s\"\"\"\n",
    "  text.split(s\"(?<=$splitBy)|(?=$splitBy)\").filter(!_.isBlank).toVector\n",
    "}\n",
    "\n",
    "println(tokenize(\"Hello, world. Is this-- a test?\"))"
   ]
  },
  {
   "cell_type": "code",
   "execution_count": 7,
   "id": "b94cbbe9-68d1-449a-b8db-1a8f72dc4143",
   "metadata": {},
   "outputs": [
    {
     "name": "stdout",
     "output_type": "stream",
     "text": [
      "Extracted 4690 tokens\n"
     ]
    },
    {
     "data": {
      "text/plain": [
       "\u001b[36mtokenizedText\u001b[39m: \u001b[32mVector\u001b[39m[\u001b[32mString\u001b[39m] = \u001b[33mVector\u001b[39m(\n",
       "  \u001b[32m\"I\"\u001b[39m,\n",
       "  \u001b[32m\"HAD\"\u001b[39m,\n",
       "  \u001b[32m\"always\"\u001b[39m,\n",
       "  \u001b[32m\"thought\"\u001b[39m,\n",
       "  \u001b[32m\"Jack\"\u001b[39m,\n",
       "  \u001b[32m\"Gisburn\"\u001b[39m,\n",
       "  \u001b[32m\"rather\"\u001b[39m,\n",
       "  \u001b[32m\"a\"\u001b[39m,\n",
       "  \u001b[32m\"cheap\"\u001b[39m,\n",
       "  \u001b[32m\"genius\"\u001b[39m,\n",
       "  \u001b[32m\"--\"\u001b[39m,\n",
       "  \u001b[32m\"though\"\u001b[39m,\n",
       "  \u001b[32m\"a\"\u001b[39m,\n",
       "  \u001b[32m\"good\"\u001b[39m,\n",
       "  \u001b[32m\"fellow\"\u001b[39m,\n",
       "  \u001b[32m\"enough\"\u001b[39m,\n",
       "  \u001b[32m\"--\"\u001b[39m,\n",
       "  \u001b[32m\"so\"\u001b[39m,\n",
       "  \u001b[32m\"it\"\u001b[39m,\n",
       "  \u001b[32m\"was\"\u001b[39m,\n",
       "  \u001b[32m\"no\"\u001b[39m,\n",
       "  \u001b[32m\"great\"\u001b[39m,\n",
       "  \u001b[32m\"surprise\"\u001b[39m,\n",
       "  \u001b[32m\"to\"\u001b[39m,\n",
       "  \u001b[32m\"me\"\u001b[39m,\n",
       "  \u001b[32m\"to\"\u001b[39m,\n",
       "  \u001b[32m\"hear\"\u001b[39m,\n",
       "  \u001b[32m\"that\"\u001b[39m,\n",
       "  \u001b[32m\",\"\u001b[39m,\n",
       "  \u001b[32m\"in\"\u001b[39m,\n",
       "  \u001b[32m\"the\"\u001b[39m,\n",
       "  \u001b[32m\"height\"\u001b[39m,\n",
       "  \u001b[32m\"of\"\u001b[39m,\n",
       "  \u001b[32m\"his\"\u001b[39m,\n",
       "  \u001b[32m\"glory\"\u001b[39m,\n",
       "  \u001b[32m\",\"\u001b[39m,\n",
       "  \u001b[32m\"he\"\u001b[39m,\n",
       "  \u001b[32m\"had\"\u001b[39m,\n",
       "..."
      ]
     },
     "execution_count": 7,
     "metadata": {},
     "output_type": "execute_result"
    }
   ],
   "source": [
    "val tokenizedText = tokenize(rawText)\n",
    "\n",
    "println(s\"Extracted ${tokenizedText.length} tokens\")"
   ]
  },
  {
   "cell_type": "code",
   "execution_count": 9,
   "id": "7fa3b124-3fc6-4084-b461-bcf9972f1b83",
   "metadata": {},
   "outputs": [
    {
     "name": "stdout",
     "output_type": "stream",
     "text": [
      "1130 distinct tokens in total\n"
     ]
    },
    {
     "data": {
      "text/plain": [
       "\u001b[36msortedDistinctTokens\u001b[39m: \u001b[32mVector\u001b[39m[\u001b[32mString\u001b[39m] = \u001b[33mVector\u001b[39m(\n",
       "  \u001b[32m\"!\"\u001b[39m,\n",
       "  \u001b[32m\"\\\"\"\u001b[39m,\n",
       "  \u001b[32m\"'\"\u001b[39m,\n",
       "  \u001b[32m\"(\"\u001b[39m,\n",
       "  \u001b[32m\")\"\u001b[39m,\n",
       "  \u001b[32m\",\"\u001b[39m,\n",
       "  \u001b[32m\"--\"\u001b[39m,\n",
       "  \u001b[32m\".\"\u001b[39m,\n",
       "  \u001b[32m\":\"\u001b[39m,\n",
       "  \u001b[32m\";\"\u001b[39m,\n",
       "  \u001b[32m\"?\"\u001b[39m,\n",
       "  \u001b[32m\"A\"\u001b[39m,\n",
       "  \u001b[32m\"Ah\"\u001b[39m,\n",
       "  \u001b[32m\"Among\"\u001b[39m,\n",
       "  \u001b[32m\"And\"\u001b[39m,\n",
       "  \u001b[32m\"Are\"\u001b[39m,\n",
       "  \u001b[32m\"Arrt\"\u001b[39m,\n",
       "  \u001b[32m\"As\"\u001b[39m,\n",
       "  \u001b[32m\"At\"\u001b[39m,\n",
       "  \u001b[32m\"Be\"\u001b[39m,\n",
       "  \u001b[32m\"Begin\"\u001b[39m,\n",
       "  \u001b[32m\"Burlington\"\u001b[39m,\n",
       "  \u001b[32m\"But\"\u001b[39m,\n",
       "  \u001b[32m\"By\"\u001b[39m,\n",
       "  \u001b[32m\"Carlo\"\u001b[39m,\n",
       "  \u001b[32m\"Chicago\"\u001b[39m,\n",
       "  \u001b[32m\"Claude\"\u001b[39m,\n",
       "  \u001b[32m\"Come\"\u001b[39m,\n",
       "  \u001b[32m\"Croft\"\u001b[39m,\n",
       "  \u001b[32m\"Destroyed\"\u001b[39m,\n",
       "  \u001b[32m\"Devonshire\"\u001b[39m,\n",
       "  \u001b[32m\"Don\"\u001b[39m,\n",
       "  \u001b[32m\"Dubarry\"\u001b[39m,\n",
       "  \u001b[32m\"Emperors\"\u001b[39m,\n",
       "  \u001b[32m\"Florence\"\u001b[39m,\n",
       "  \u001b[32m\"For\"\u001b[39m,\n",
       "  \u001b[32m\"Gallery\"\u001b[39m,\n",
       "  \u001b[32m\"Gideon\"\u001b[39m,\n",
       "..."
      ]
     },
     "execution_count": 9,
     "metadata": {},
     "output_type": "execute_result"
    }
   ],
   "source": [
    "val sortedDistinctTokens = tokenizedText.sorted.distinct\n",
    "\n",
    "println(s\"${sortedDistinctTokens.length} distinct tokens in total\")"
   ]
  },
  {
   "cell_type": "code",
   "execution_count": 27,
   "id": "e9bc07ee-6629-47a2-8406-73fab54aa5a3",
   "metadata": {},
   "outputs": [
    {
     "data": {
      "text/plain": [
       "\u001b[36mvocabulary\u001b[39m: \u001b[32mMap\u001b[39m[\u001b[32mString\u001b[39m, \u001b[32mInt\u001b[39m] = \u001b[33mHashMap\u001b[39m(\n",
       "  \u001b[32m\"inevitable\"\u001b[39m -> \u001b[32m571\u001b[39m,\n",
       "  \u001b[32m\"Monte\"\u001b[39m -> \u001b[32m64\u001b[39m,\n",
       "  \u001b[32m\"down\"\u001b[39m -> \u001b[32m362\u001b[39m,\n",
       "  \u001b[32m\"economy\"\u001b[39m -> \u001b[32m377\u001b[39m,\n",
       "  \u001b[32m\"interesting\"\u001b[39m -> \u001b[32m578\u001b[39m,\n",
       "  \u001b[32m\"luxury\"\u001b[39m -> \u001b[32m652\u001b[39m,\n",
       "  \u001b[32m\"serious\"\u001b[39m -> \u001b[32m870\u001b[39m,\n",
       "  \u001b[32m\"forgotten\"\u001b[39m -> \u001b[32m463\u001b[39m,\n",
       "  \u001b[32m\"muscles\"\u001b[39m -> \u001b[32m695\u001b[39m,\n",
       "  \u001b[32m\"beneath\"\u001b[39m -> \u001b[32m215\u001b[39m,\n",
       "  \u001b[32m\"used\"\u001b[39m -> \u001b[32m1057\u001b[39m,\n",
       "  \u001b[32m\"eye\"\u001b[39m -> \u001b[32m415\u001b[39m,\n",
       "  \u001b[32m\"straining\"\u001b[39m -> \u001b[32m934\u001b[39m,\n",
       "  \u001b[32m\"At\"\u001b[39m -> \u001b[32m18\u001b[39m,\n",
       "  \u001b[32m\"hooded\"\u001b[39m -> \u001b[32m554\u001b[39m,\n",
       "  \u001b[32m\"murmur\"\u001b[39m -> \u001b[32m694\u001b[39m,\n",
       "  \u001b[32m\"adulation\"\u001b[39m -> \u001b[32m133\u001b[39m,\n",
       "  \u001b[32m\"gloried\"\u001b[39m -> \u001b[32m495\u001b[39m,\n",
       "  \u001b[32m\"widow\"\u001b[39m -> \u001b[32m1102\u001b[39m,\n",
       "  \u001b[32m\"panel\"\u001b[39m -> \u001b[32m752\u001b[39m,\n",
       "  \u001b[32m\"sitters\"\u001b[39m -> \u001b[32m898\u001b[39m,\n",
       "  \u001b[32m\"quality\"\u001b[39m -> \u001b[32m808\u001b[39m,\n",
       "  \u001b[32m\"On\"\u001b[39m -> \u001b[32m75\u001b[39m,\n",
       "  \u001b[32m\"Has\"\u001b[39m -> \u001b[32m47\u001b[39m,\n",
       "  \u001b[32m\"secret\"\u001b[39m -> \u001b[32m861\u001b[39m,\n",
       "  \u001b[32m\"Money\"\u001b[39m -> \u001b[32m63\u001b[39m,\n",
       "  \u001b[32m\"ourselves\"\u001b[39m -> \u001b[32m737\u001b[39m,\n",
       "  \u001b[32m\"able\"\u001b[39m -> \u001b[32m117\u001b[39m,\n",
       "  \u001b[32m\"bravura\"\u001b[39m -> \u001b[32m226\u001b[39m,\n",
       "  \u001b[32m\"behind\"\u001b[39m -> \u001b[32m212\u001b[39m,\n",
       "  \u001b[32m\"failure\"\u001b[39m -> \u001b[32m423\u001b[39m,\n",
       "  \u001b[32m\"deprecating\"\u001b[39m -> \u001b[32m327\u001b[39m,\n",
       "  \u001b[32m\"for\"\u001b[39m -> \u001b[32m456\u001b[39m,\n",
       "  \u001b[32m\"canvases\"\u001b[39m -> \u001b[32m246\u001b[39m,\n",
       "  \u001b[32m\"wits\"\u001b[39m -> \u001b[32m1110\u001b[39m,\n",
       "  \u001b[32m\"s\"\u001b[39m -> \u001b[32m850\u001b[39m,\n",
       "  \u001b[32m\"twenty-four\"\u001b[39m -> \u001b[32m1039\u001b[39m,\n",
       "  \u001b[32m\"paint\"\u001b[39m -> \u001b[32m745\u001b[39m,\n",
       "...\n",
       "defined \u001b[32mclass\u001b[39m \u001b[36mSimpleTokenizerV1\u001b[39m"
      ]
     },
     "execution_count": 27,
     "metadata": {},
     "output_type": "execute_result"
    }
   ],
   "source": [
    "val vocabulary = sortedDistinctTokens.zipWithIndex.toMap\n",
    "\n",
    "class SimpleTokenizerV1(\n",
    "  vocabulary: Map[String, Int]\n",
    ") {\n",
    "  val inverseVocabulary = vocabulary.map(_.swap)\n",
    "\n",
    "  def encode(text: String): Vector[Int] = \n",
    "    tokenize(text).map(vocabulary(_))\n",
    "\n",
    "  def tokenize(text: String): Vector[String] = {\n",
    "    val splitBy = \"\"\"[,.:;?_!\"()\\']|--|\\s\"\"\"\n",
    "    val tokenizer = s\"(?<=$splitBy)|(?=$splitBy)\"\n",
    "    text.split(tokenizer).filter(!_.isBlank).toVector\n",
    "  }\n",
    "\n",
    "  def decode(ids: Vector[Int]): String = \n",
    "    ids\n",
    "      .map(inverseVocabulary(_))\n",
    "      .mkString(\" \")\n",
    "      .replaceAll(\"\\\\s+([,.?!\\\"()\\'])\", \"$1\") \n",
    "}"
   ]
  },
  {
   "cell_type": "code",
   "execution_count": 28,
   "id": "c700d5f3-cace-49ca-b5c7-055c07418673",
   "metadata": {},
   "outputs": [
    {
     "name": "stdout",
     "output_type": "stream",
     "text": [
      "It' s the last he painted, you know,\" Mrs. Gisburn said with pardonable pride.\n"
     ]
    },
    {
     "data": {
      "text/plain": [
       "\u001b[36mtokenizer\u001b[39m: \u001b[32mSimpleTokenizerV1\u001b[39m = ammonite.$sess.cmd27$Helper$SimpleTokenizerV1@23dc8abe\n",
       "\u001b[36mtextToEncode\u001b[39m: \u001b[32mString\u001b[39m = \u001b[32m\"\"\"It's the last he painted, you know,\"\n",
       "Mrs. Gisburn said with pardonable pride.\"\"\"\u001b[39m\n",
       "\u001b[36mids\u001b[39m: \u001b[32mVector\u001b[39m[\u001b[32mInt\u001b[39m] = \u001b[33mVector\u001b[39m(\n",
       "  \u001b[32m56\u001b[39m,\n",
       "  \u001b[32m2\u001b[39m,\n",
       "  \u001b[32m850\u001b[39m,\n",
       "  \u001b[32m988\u001b[39m,\n",
       "  \u001b[32m602\u001b[39m,\n",
       "  \u001b[32m533\u001b[39m,\n",
       "  \u001b[32m746\u001b[39m,\n",
       "  \u001b[32m5\u001b[39m,\n",
       "  \u001b[32m1126\u001b[39m,\n",
       "  \u001b[32m596\u001b[39m,\n",
       "  \u001b[32m5\u001b[39m,\n",
       "  \u001b[32m1\u001b[39m,\n",
       "  \u001b[32m67\u001b[39m,\n",
       "  \u001b[32m7\u001b[39m,\n",
       "  \u001b[32m38\u001b[39m,\n",
       "  \u001b[32m851\u001b[39m,\n",
       "  \u001b[32m1108\u001b[39m,\n",
       "  \u001b[32m754\u001b[39m,\n",
       "  \u001b[32m793\u001b[39m,\n",
       "  \u001b[32m7\u001b[39m\n",
       ")\n",
       "\u001b[36mdecodedText\u001b[39m: \u001b[32mString\u001b[39m = \u001b[32m\"It' s the last he painted, you know,\\\" Mrs. Gisburn said with pardonable pride.\"\u001b[39m"
      ]
     },
     "execution_count": 28,
     "metadata": {},
     "output_type": "execute_result"
    }
   ],
   "source": [
    "val tokenizer = new SimpleTokenizerV1(vocabulary)\n",
    "\n",
    "val textToEncode = \"\"\"It's the last he painted, you know,\"\n",
    "Mrs. Gisburn said with pardonable pride.\"\"\"\n",
    "val ids = tokenizer.encode(textToEncode)\n",
    "val decodedText = tokenizer.decode(ids)\n",
    "\n",
    "println(decodedText)"
   ]
  },
  {
   "cell_type": "code",
   "execution_count": null,
   "id": "bcd775a6-0fa2-4bbf-bcd0-4903f73db1b3",
   "metadata": {},
   "outputs": [],
   "source": []
  }
 ],
 "metadata": {
  "kernelspec": {
   "display_name": "Scala 2.13.14",
   "language": "scala",
   "name": "scala"
  },
  "language_info": {
   "codemirror_mode": "text/x-scala",
   "file_extension": ".sc",
   "mimetype": "text/x-scala",
   "name": "scala",
   "nbconvert_exporter": "script",
   "version": "2.13.14"
  }
 },
 "nbformat": 4,
 "nbformat_minor": 5
}
